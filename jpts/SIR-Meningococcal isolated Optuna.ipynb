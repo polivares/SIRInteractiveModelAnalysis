{
 "cells": [
  {
   "cell_type": "code",
   "execution_count": 9,
   "metadata": {},
   "outputs": [],
   "source": [
    "import pandas as pd\n",
    "import matplotlib.pyplot as plt\n",
    "import scipy.integrate as spi\n",
    "from scipy.optimize import curve_fit\n",
    "import numpy as np\n",
    "import matplotlib \n",
    "import optuna\n",
    "import pickle as pkl  \n",
    "np.set_printoptions(suppress=True)\n",
    "plt.rc('text', usetex=True)\n",
    "\n",
    "dataDir = \"/home/polivares/Dropbox/DocUSM/Researches/InfluenzaMeningococcal/Data/\"\n",
    "imageDir = \"/home/polivares/Dropbox/DocUSM/Researches/InfluenzaMeningococcal/Scripts/images/\""
   ]
  },
  {
   "cell_type": "code",
   "execution_count": 2,
   "metadata": {},
   "outputs": [],
   "source": [
    "# Load data\n",
    "menSeries = pd.read_pickle(dataDir + \"pkls/menSeries.pkl\")\n",
    "ausPop = pd.read_pickle(dataDir + \"pkls/ausPop.pkl\")"
   ]
  },
  {
   "cell_type": "code",
   "execution_count": 3,
   "metadata": {},
   "outputs": [],
   "source": [
    "import os\n",
    "if os.path.isfile(dataDir + \"pkls/menSIRParams.pkl\"):\n",
    "    menParams = pkl.load(open(dataDir + \"pkls/menSIRParams.pkl\", \"rb\"))\n",
    "else:\n",
    "    menParams = {}"
   ]
  },
  {
   "cell_type": "code",
   "execution_count": 4,
   "metadata": {},
   "outputs": [
    {
     "output_type": "stream",
     "name": "stdout",
     "text": [
      "relativedelta(months=+11)\n"
     ]
    }
   ],
   "source": [
    "# Evaluation time\n",
    "from datetime import datetime # Library for datetime format\n",
    "from dateutil import relativedelta # Library to calculate delta time from date\n",
    "\n",
    "year = 2017\n",
    "startdate = str(year) + '-01'\n",
    "enddate = str(year) + '-12'\n",
    "\n",
    "#year = 2017\n",
    "#startdate = '2017-04'\n",
    "#enddate = '2017-12'\n",
    "\n",
    "\n",
    "date_format = \"%Y-%m\"\n",
    "sd = datetime.strptime(startdate, date_format)\n",
    "ed = datetime.strptime(enddate, date_format)\n",
    "\n",
    "n_months = relativedelta.relativedelta(ed, sd) # Number of months (delta time)\n",
    "print(n_months)"
   ]
  },
  {
   "cell_type": "code",
   "execution_count": 5,
   "metadata": {},
   "outputs": [],
   "source": [
    "# Timestamp parameters\n",
    "t_start = 0.0; t_end = n_months.months; t_inc = 1\n",
    "t_range = np.arange(t_start, t_end+t_inc, t_inc)\n",
    "\n",
    "# Initial conditions\n",
    "S0 = (ausPop[year] - menSeries[startdate])\n",
    "I0 = (menSeries[startdate])\n",
    "R0 = 0\n",
    "\n",
    "SIR0 = [S0,I0,R0]"
   ]
  },
  {
   "cell_type": "code",
   "execution_count": 7,
   "metadata": {},
   "outputs": [],
   "source": [
    "# Defining SIR isolated equations\n",
    "def SIR_eqs(SIR0,t, beta, gamma):\n",
    "    S0=SIR0[0]\n",
    "    I0=SIR0[1]\n",
    "    R0=SIR0[2]\n",
    "\n",
    "    S = - beta * S0 * I0/ausPop[year]\n",
    "    I = (beta * S0 * I0/ausPop[year]) - gamma * I0\n",
    "    R = gamma * I0\n",
    "\n",
    "    return (S,I,R)\n",
    "\n",
    "# Fitting function from infected data and I state on SIR model\n",
    "def fitSIR(t, beta, gamma):\n",
    "    return spi.odeint(SIR_eqs,SIR0,t_range,args=(beta,gamma))[:,1] \n",
    "\n",
    "def fitErrorSIR(trial):\n",
    "     #(9.00165750105233, 69.35210027387456, 8.35506567120736, 69.35957442372714, 10.060360325775953, 97.56183004648915, 4.957084610524714, 53.932494914485716)\n",
    "    #beta1 = trial.suggest_float(\"beta1\",8,10,step=0.0001)\n",
    "    beta = trial.suggest_float(\"beta\",1,100,step=0.0001)\n",
    "    gamma = trial.suggest_float(\"gamma\",1,150,step=0.0001)\n",
    "    #w = trial.suggest_float(\"w\",1,100)\n",
    "    SIR_Res=fitSIR(t_range, beta, gamma)\n",
    "    \n",
    "    #c.Score Difference between model and data points\n",
    "    def normMSE(data,model):\n",
    "        n = len(data)\n",
    "        mse = ((data-model)**2).sum()\n",
    "        nmse = mse/(n*(data.sum()/n)*(model.sum()/n))\n",
    "        \n",
    "        return nmse\n",
    "\n",
    "    return normMSE(menSeries[startdate:enddate],SIR_Res)"
   ]
  },
  {
   "cell_type": "code",
   "execution_count": 10,
   "metadata": {
    "tags": [
     "outputPrepend"
    ]
   },
   "outputs": [
    {
     "output_type": "stream",
     "name": "stderr",
     "text": [
      "402492328.\u001b[0m\n",
      "\u001b[32m[I 2021-03-30 03:39:44,094]\u001b[0m Trial 4902 finished with value: 2220.7033202060097 and parameters: {'beta': 35.6287, 'gamma': 31.594}. Best is trial 4866 with value: 0.15395254402492328.\u001b[0m\n",
      "\u001b[32m[I 2021-03-30 03:39:44,230]\u001b[0m Trial 4903 finished with value: 1053.370130397848 and parameters: {'beta': 37.6563, 'gamma': 35.269200000000005}. Best is trial 4866 with value: 0.15395254402492328.\u001b[0m\n",
      "\u001b[32m[I 2021-03-30 03:39:44,340]\u001b[0m Trial 4904 finished with value: 15.22844604692304 and parameters: {'beta': 28.835700000000003, 'gamma': 39.097100000000005}. Best is trial 4866 with value: 0.15395254402492328.\u001b[0m\n",
      "\u001b[32m[I 2021-03-30 03:39:44,448]\u001b[0m Trial 4905 finished with value: 3.187606410548392 and parameters: {'beta': 31.732000000000003, 'gamma': 32.0324}. Best is trial 4866 with value: 0.15395254402492328.\u001b[0m\n",
      "\u001b[32m[I 2021-03-30 03:39:44,644]\u001b[0m Trial 4906 finished with value: 0.19128478674402427 and parameters: {'beta': 34.617200000000004, 'gamma': 34.598800000000004}. Best is trial 4866 with value: 0.15395254402492328.\u001b[0m\n",
      "\u001b[32m[I 2021-03-30 03:39:44,802]\u001b[0m Trial 4907 finished with value: 214.96570368347116 and parameters: {'beta': 32.9353, 'gamma': 31.999200000000002}. Best is trial 4866 with value: 0.15395254402492328.\u001b[0m\n",
      "\u001b[32m[I 2021-03-30 03:39:44,928]\u001b[0m Trial 4908 finished with value: 1.7315486233327952 and parameters: {'beta': 31.511300000000002, 'gamma': 31.3323}. Best is trial 4866 with value: 0.15395254402492328.\u001b[0m\n",
      "\u001b[32m[I 2021-03-30 03:39:45,028]\u001b[0m Trial 4909 finished with value: 436.10074198899207 and parameters: {'beta': 33.2166, 'gamma': 31.8606}. Best is trial 4866 with value: 0.15395254402492328.\u001b[0m\n",
      "\u001b[32m[I 2021-03-30 03:39:45,145]\u001b[0m Trial 4910 finished with value: 1119.9480567168239 and parameters: {'beta': 34.060300000000005, 'gamma': 31.8731}. Best is trial 4866 with value: 0.15395254402492328.\u001b[0m\n",
      "\u001b[32m[I 2021-03-30 03:39:45,256]\u001b[0m Trial 4911 finished with value: 15.034756727164526 and parameters: {'beta': 29.9694, 'gamma': 34.414300000000004}. Best is trial 4866 with value: 0.15395254402492328.\u001b[0m\n",
      "\u001b[32m[I 2021-03-30 03:39:45,392]\u001b[0m Trial 4912 finished with value: 14.275110982314885 and parameters: {'beta': 31.391000000000002, 'gamma': 34.2425}. Best is trial 4866 with value: 0.15395254402492328.\u001b[0m\n",
      "\u001b[32m[I 2021-03-30 03:39:45,512]\u001b[0m Trial 4913 finished with value: 905.7484569804177 and parameters: {'beta': 34.3054, 'gamma': 32.286100000000005}. Best is trial 4866 with value: 0.15395254402492328.\u001b[0m\n",
      "\u001b[32m[I 2021-03-30 03:39:45,608]\u001b[0m Trial 4914 finished with value: 755.5861965246519 and parameters: {'beta': 33.1832, 'gamma': 31.407300000000003}. Best is trial 4866 with value: 0.15395254402492328.\u001b[0m\n",
      "\u001b[32m[I 2021-03-30 03:39:45,731]\u001b[0m Trial 4915 finished with value: 12.698675930788557 and parameters: {'beta': 35.196200000000005, 'gamma': 34.859500000000004}. Best is trial 4866 with value: 0.15395254402492328.\u001b[0m\n",
      "\u001b[32m[I 2021-03-30 03:39:45,872]\u001b[0m Trial 4916 finished with value: 11.39064809180332 and parameters: {'beta': 30.0026, 'gamma': 31.4555}. Best is trial 4866 with value: 0.15395254402492328.\u001b[0m\n",
      "\u001b[32m[I 2021-03-30 03:39:45,991]\u001b[0m Trial 4917 finished with value: 13.662299886279984 and parameters: {'beta': 32.1034, 'gamma': 34.4572}. Best is trial 4866 with value: 0.15395254402492328.\u001b[0m\n",
      "\u001b[32m[I 2021-03-30 03:39:46,117]\u001b[0m Trial 4918 finished with value: 0.154131563712122 and parameters: {'beta': 34.3031, 'gamma': 34.2596}. Best is trial 4866 with value: 0.15395254402492328.\u001b[0m\n",
      "\u001b[32m[I 2021-03-30 03:39:46,227]\u001b[0m Trial 4919 finished with value: 120.26803951478252 and parameters: {'beta': 35.522, 'gamma': 34.79}. Best is trial 4866 with value: 0.15395254402492328.\u001b[0m\n",
      "\u001b[32m[I 2021-03-30 03:39:46,339]\u001b[0m Trial 4920 finished with value: 14.624443503436058 and parameters: {'beta': 28.2754, 'gamma': 31.5839}. Best is trial 4866 with value: 0.15395254402492328.\u001b[0m\n",
      "\u001b[32m[I 2021-03-30 03:39:46,444]\u001b[0m Trial 4921 finished with value: 393.24705096657937 and parameters: {'beta': 32.5799, 'gamma': 31.316300000000002}. Best is trial 4866 with value: 0.15395254402492328.\u001b[0m\n",
      "\u001b[32m[I 2021-03-30 03:39:46,552]\u001b[0m Trial 4922 finished with value: 0.5072228836062316 and parameters: {'beta': 35.2062, 'gamma': 35.249900000000004}. Best is trial 4866 with value: 0.15395254402492328.\u001b[0m\n",
      "\u001b[32m[I 2021-03-30 03:39:46,674]\u001b[0m Trial 4923 finished with value: 108.30350578700858 and parameters: {'beta': 36.0098, 'gamma': 35.309000000000005}. Best is trial 4866 with value: 0.15395254402492328.\u001b[0m\n",
      "\u001b[32m[I 2021-03-30 03:39:46,765]\u001b[0m Trial 4924 finished with value: 12.837325533777419 and parameters: {'beta': 35.3521, 'gamma': 37.2809}. Best is trial 4866 with value: 0.15395254402492328.\u001b[0m\n",
      "\u001b[32m[I 2021-03-30 03:39:46,892]\u001b[0m Trial 4925 finished with value: 13.443320629382109 and parameters: {'beta': 34.507400000000004, 'gamma': 36.729800000000004}. Best is trial 4866 with value: 0.15395254402492328.\u001b[0m\n",
      "\u001b[32m[I 2021-03-30 03:39:46,989]\u001b[0m Trial 4926 finished with value: 11.817292534865167 and parameters: {'beta': 35.7935, 'gamma': 37.3649}. Best is trial 4866 with value: 0.15395254402492328.\u001b[0m\n",
      "\u001b[32m[I 2021-03-30 03:39:47,081]\u001b[0m Trial 4927 finished with value: 14.141468306627761 and parameters: {'beta': 33.6913, 'gamma': 36.411300000000004}. Best is trial 4866 with value: 0.15395254402492328.\u001b[0m\n",
      "\u001b[32m[I 2021-03-30 03:39:47,210]\u001b[0m Trial 4928 finished with value: 1.9741590167539473 and parameters: {'beta': 36.0811, 'gamma': 36.2753}. Best is trial 4866 with value: 0.15395254402492328.\u001b[0m\n",
      "\u001b[32m[I 2021-03-30 03:39:47,332]\u001b[0m Trial 4929 finished with value: 14.379911900972255 and parameters: {'beta': 34.109100000000005, 'gamma': 37.077200000000005}. Best is trial 4866 with value: 0.15395254402492328.\u001b[0m\n",
      "\u001b[32m[I 2021-03-30 03:39:47,469]\u001b[0m Trial 4930 finished with value: 147.49610962181313 and parameters: {'beta': 36.011900000000004, 'gamma': 35.1711}. Best is trial 4866 with value: 0.15395254402492328.\u001b[0m\n",
      "\u001b[32m[I 2021-03-30 03:39:47,593]\u001b[0m Trial 4931 finished with value: 9.632323133667946 and parameters: {'beta': 33.417100000000005, 'gamma': 34.4897}. Best is trial 4866 with value: 0.15395254402492328.\u001b[0m\n",
      "\u001b[32m[I 2021-03-30 03:39:47,727]\u001b[0m Trial 4932 finished with value: 3.215046692084426 and parameters: {'beta': 37.1197, 'gamma': 37.421800000000005}. Best is trial 4866 with value: 0.15395254402492328.\u001b[0m\n",
      "\u001b[32m[I 2021-03-30 03:39:47,843]\u001b[0m Trial 4933 finished with value: 2.867329780445039 and parameters: {'beta': 34.172000000000004, 'gamma': 33.958400000000005}. Best is trial 4866 with value: 0.15395254402492328.\u001b[0m\n",
      "\u001b[32m[I 2021-03-30 03:39:47,956]\u001b[0m Trial 4934 finished with value: 10.297547965608523 and parameters: {'beta': 36.3797, 'gamma': 37.5798}. Best is trial 4866 with value: 0.15395254402492328.\u001b[0m\n",
      "\u001b[32m[I 2021-03-30 03:39:48,064]\u001b[0m Trial 4935 finished with value: 13.569117600944876 and parameters: {'beta': 32.2585, 'gamma': 34.554300000000005}. Best is trial 4866 with value: 0.15395254402492328.\u001b[0m\n",
      "\u001b[32m[I 2021-03-30 03:39:48,188]\u001b[0m Trial 4936 finished with value: 28.156706127953797 and parameters: {'beta': 34.8798, 'gamma': 34.4587}. Best is trial 4866 with value: 0.15395254402492328.\u001b[0m\n",
      "\u001b[32m[I 2021-03-30 03:39:48,342]\u001b[0m Trial 4937 finished with value: 8.072298796120108 and parameters: {'beta': 36.827, 'gamma': 37.6516}. Best is trial 4866 with value: 0.15395254402492328.\u001b[0m\n",
      "\u001b[32m[I 2021-03-30 03:39:48,471]\u001b[0m Trial 4938 finished with value: 12.716445891169958 and parameters: {'beta': 32.5743, 'gamma': 34.4536}. Best is trial 4866 with value: 0.15395254402492328.\u001b[0m\n",
      "\u001b[32m[I 2021-03-30 03:39:48,628]\u001b[0m Trial 4939 finished with value: 14.872248304331684 and parameters: {'beta': 34.6162, 'gamma': 38.4527}. Best is trial 4866 with value: 0.15395254402492328.\u001b[0m\n",
      "\u001b[32m[I 2021-03-30 03:39:48,800]\u001b[0m Trial 4940 finished with value: 2353.553948995774 and parameters: {'beta': 37.5011, 'gamma': 34.2416}. Best is trial 4866 with value: 0.15395254402492328.\u001b[0m\n",
      "\u001b[32m[I 2021-03-30 03:39:48,924]\u001b[0m Trial 4941 finished with value: 14.981045392744933 and parameters: {'beta': 32.7989, 'gamma': 36.999500000000005}. Best is trial 4866 with value: 0.15395254402492328.\u001b[0m\n",
      "\u001b[32m[I 2021-03-30 03:39:49,061]\u001b[0m Trial 4942 finished with value: 2737.186282699421 and parameters: {'beta': 35.319900000000004, 'gamma': 32.028000000000006}. Best is trial 4866 with value: 0.15395254402492328.\u001b[0m\n",
      "\u001b[32m[I 2021-03-30 03:39:49,236]\u001b[0m Trial 4943 finished with value: 11.74556155845768 and parameters: {'beta': 37.2633, 'gamma': 38.813700000000004}. Best is trial 4866 with value: 0.15395254402492328.\u001b[0m\n",
      "\u001b[32m[I 2021-03-30 03:39:49,342]\u001b[0m Trial 4944 finished with value: 14.251702839211447 and parameters: {'beta': 31.253, 'gamma': 34.080200000000005}. Best is trial 4866 with value: 0.15395254402492328.\u001b[0m\n",
      "\u001b[32m[I 2021-03-30 03:39:49,453]\u001b[0m Trial 4945 finished with value: 14.769719702994102 and parameters: {'beta': 35.197500000000005, 'gamma': 38.7811}. Best is trial 4866 with value: 0.15395254402492328.\u001b[0m\n",
      "\u001b[32m[I 2021-03-30 03:39:49,549]\u001b[0m Trial 4946 finished with value: 795.3210018381072 and parameters: {'beta': 33.4463, 'gamma': 31.6037}. Best is trial 4866 with value: 0.15395254402492328.\u001b[0m\n",
      "\u001b[32m[I 2021-03-30 03:39:49,652]\u001b[0m Trial 4947 finished with value: 200.13569563332723 and parameters: {'beta': 36.737300000000005, 'gamma': 35.7211}. Best is trial 4866 with value: 0.15395254402492328.\u001b[0m\n",
      "\u001b[32m[I 2021-03-30 03:39:49,792]\u001b[0m Trial 4948 finished with value: 0.862767768378893 and parameters: {'beta': 31.9021, 'gamma': 31.761300000000002}. Best is trial 4866 with value: 0.15395254402492328.\u001b[0m\n",
      "\u001b[32m[I 2021-03-30 03:39:49,908]\u001b[0m Trial 4949 finished with value: 399.5806012599411 and parameters: {'beta': 37.984500000000004, 'gamma': 36.499}. Best is trial 4866 with value: 0.15395254402492328.\u001b[0m\n",
      "\u001b[32m[I 2021-03-30 03:39:50,009]\u001b[0m Trial 4950 finished with value: 15.156433867717155 and parameters: {'beta': 34.5375, 'gamma': 39.9671}. Best is trial 4866 with value: 0.15395254402492328.\u001b[0m\n",
      "\u001b[32m[I 2021-03-30 03:39:50,145]\u001b[0m Trial 4951 finished with value: 14.074593031459585 and parameters: {'beta': 31.530700000000003, 'gamma': 34.1909}. Best is trial 4866 with value: 0.15395254402492328.\u001b[0m\n",
      "\u001b[32m[I 2021-03-30 03:39:50,282]\u001b[0m Trial 4952 finished with value: 14.330176627433787 and parameters: {'beta': 36.5108, 'gamma': 39.421800000000005}. Best is trial 4866 with value: 0.15395254402492328.\u001b[0m\n",
      "\u001b[32m[I 2021-03-30 03:39:50,389]\u001b[0m Trial 4953 finished with value: 471.27973354221257 and parameters: {'beta': 33.3656, 'gamma': 31.9497}. Best is trial 4866 with value: 0.15395254402492328.\u001b[0m\n",
      "\u001b[32m[I 2021-03-30 03:39:50,495]\u001b[0m Trial 4954 finished with value: 404.46303603547136 and parameters: {'beta': 37.911100000000005, 'gamma': 36.4196}. Best is trial 4866 with value: 0.15395254402492328.\u001b[0m\n",
      "\u001b[32m[I 2021-03-30 03:39:50,615]\u001b[0m Trial 4955 finished with value: 235.7184170522036 and parameters: {'beta': 34.9993, 'gamma': 33.9487}. Best is trial 4866 with value: 0.15395254402492328.\u001b[0m\n",
      "\u001b[32m[I 2021-03-30 03:39:50,714]\u001b[0m Trial 4956 finished with value: 15.224309145812486 and parameters: {'beta': 31.369300000000003, 'gamma': 39.533100000000005}. Best is trial 4866 with value: 0.15395254402492328.\u001b[0m\n",
      "\u001b[32m[I 2021-03-30 03:39:50,863]\u001b[0m Trial 4957 finished with value: 915.4872949045978 and parameters: {'beta': 33.5786, 'gamma': 31.5869}. Best is trial 4866 with value: 0.15395254402492328.\u001b[0m\n",
      "\u001b[32m[I 2021-03-30 03:39:50,985]\u001b[0m Trial 4958 finished with value: 6.246559486645511 and parameters: {'beta': 35.967800000000004, 'gamma': 36.5642}. Best is trial 4866 with value: 0.15395254402492328.\u001b[0m\n",
      "\u001b[32m[I 2021-03-30 03:39:51,100]\u001b[0m Trial 4959 finished with value: 1963.7423538745757 and parameters: {'beta': 38.1916, 'gamma': 34.3967}. Best is trial 4866 with value: 0.15395254402492328.\u001b[0m\n",
      "\u001b[32m[I 2021-03-30 03:39:51,208]\u001b[0m Trial 4960 finished with value: 14.823251718644313 and parameters: {'beta': 33.3485, 'gamma': 37.056200000000004}. Best is trial 4866 with value: 0.15395254402492328.\u001b[0m\n",
      "\u001b[32m[I 2021-03-30 03:39:51,323]\u001b[0m Trial 4961 finished with value: 3351.8651741420686 and parameters: {'beta': 36.070100000000004, 'gamma': 31.6111}. Best is trial 4866 with value: 0.15395254402492328.\u001b[0m\n",
      "\u001b[32m[I 2021-03-30 03:39:51,436]\u001b[0m Trial 4962 finished with value: 15.225161655136707 and parameters: {'beta': 31.854100000000003, 'gamma': 40.2173}. Best is trial 4866 with value: 0.15395254402492328.\u001b[0m\n",
      "\u001b[32m[I 2021-03-30 03:39:51,537]\u001b[0m Trial 4963 finished with value: 2116.7762156336053 and parameters: {'beta': 38.581900000000005, 'gamma': 34.4153}. Best is trial 4866 with value: 0.15395254402492328.\u001b[0m\n",
      "\u001b[32m[I 2021-03-30 03:39:51,638]\u001b[0m Trial 4964 finished with value: 1514.0772474239152 and parameters: {'beta': 34.5446, 'gamma': 31.8124}. Best is trial 4866 with value: 0.15395254402492328.\u001b[0m\n",
      "\u001b[32m[I 2021-03-30 03:39:51,747]\u001b[0m Trial 4965 finished with value: 4.838478949181039 and parameters: {'beta': 37.3325, 'gamma': 37.7828}. Best is trial 4866 with value: 0.15395254402492328.\u001b[0m\n",
      "\u001b[32m[I 2021-03-30 03:39:51,897]\u001b[0m Trial 4966 finished with value: 15.228750644843165 and parameters: {'beta': 30.4618, 'gamma': 41.4701}. Best is trial 4866 with value: 0.15395254402492328.\u001b[0m\n",
      "\u001b[32m[I 2021-03-30 03:39:52,013]\u001b[0m Trial 4967 finished with value: 70.610922047096 and parameters: {'beta': 35.4003, 'gamma': 34.8343}. Best is trial 4866 with value: 0.15395254402492328.\u001b[0m\n",
      "\u001b[32m[I 2021-03-30 03:39:52,140]\u001b[0m Trial 4968 finished with value: 231.01663975439553 and parameters: {'beta': 33.0479, 'gamma': 32.0706}. Best is trial 4866 with value: 0.15395254402492328.\u001b[0m\n",
      "\u001b[32m[I 2021-03-30 03:39:52,266]\u001b[0m Trial 4969 finished with value: 216.79842670134278 and parameters: {'beta': 38.1802, 'gamma': 37.0784}. Best is trial 4866 with value: 0.15395254402492328.\u001b[0m\n",
      "\u001b[32m[I 2021-03-30 03:39:52,395]\u001b[0m Trial 4970 finished with value: 15.179219907234971 and parameters: {'beta': 34.4879, 'gamma': 40.2943}. Best is trial 4866 with value: 0.15395254402492328.\u001b[0m\n",
      "\u001b[32m[I 2021-03-30 03:39:52,556]\u001b[0m Trial 4971 finished with value: 14.660187871955575 and parameters: {'beta': 30.678700000000003, 'gamma': 34.0482}. Best is trial 4866 with value: 0.15395254402492328.\u001b[0m\n",
      "\u001b[32m[I 2021-03-30 03:39:52,692]\u001b[0m Trial 4972 finished with value: 12.004539164162956 and parameters: {'beta': 36.7734, 'gamma': 38.4016}. Best is trial 4866 with value: 0.15395254402492328.\u001b[0m\n",
      "\u001b[32m[I 2021-03-30 03:39:52,814]\u001b[0m Trial 4973 finished with value: 12.870946579716522 and parameters: {'beta': 32.7239, 'gamma': 34.667}. Best is trial 4866 with value: 0.15395254402492328.\u001b[0m\n",
      "\u001b[32m[I 2021-03-30 03:39:52,942]\u001b[0m Trial 4974 finished with value: 2329.5835137582135 and parameters: {'beta': 35.7216, 'gamma': 31.5587}. Best is trial 4866 with value: 0.15395254402492328.\u001b[0m\n",
      "\u001b[32m[I 2021-03-30 03:39:53,075]\u001b[0m Trial 4975 finished with value: 13.962502948187208 and parameters: {'beta': 38.5882, 'gamma': 41.155300000000004}. Best is trial 4866 with value: 0.15395254402492328.\u001b[0m\n",
      "\u001b[32m[I 2021-03-30 03:39:53,222]\u001b[0m Trial 4976 finished with value: 1029.0331001959744 and parameters: {'beta': 33.5974, 'gamma': 31.503400000000003}. Best is trial 4866 with value: 0.15395254402492328.\u001b[0m\n",
      "\u001b[32m[I 2021-03-30 03:39:53,357]\u001b[0m Trial 4977 finished with value: 15.18093537479288 and parameters: {'beta': 30.790000000000003, 'gamma': 36.6315}. Best is trial 4866 with value: 0.15395254402492328.\u001b[0m\n",
      "\u001b[32m[I 2021-03-30 03:39:53,585]\u001b[0m Trial 4978 finished with value: 639.5678732295644 and parameters: {'beta': 36.336200000000005, 'gamma': 34.5397}. Best is trial 4866 with value: 0.15395254402492328.\u001b[0m\n",
      "\u001b[32m[I 2021-03-30 03:39:53,717]\u001b[0m Trial 4979 finished with value: 14.896977212734548 and parameters: {'beta': 34.658300000000004, 'gamma': 38.566700000000004}. Best is trial 4866 with value: 0.15395254402492328.\u001b[0m\n",
      "\u001b[32m[I 2021-03-30 03:39:53,864]\u001b[0m Trial 4980 finished with value: 3014.749084738878 and parameters: {'beta': 38.6742, 'gamma': 31.697400000000002}. Best is trial 4866 with value: 0.15395254402492328.\u001b[0m\n",
      "\u001b[32m[I 2021-03-30 03:39:53,968]\u001b[0m Trial 4981 finished with value: 14.937295044157082 and parameters: {'beta': 32.3813, 'gamma': 36.4193}. Best is trial 4866 with value: 0.15395254402492328.\u001b[0m\n",
      "\u001b[32m[I 2021-03-30 03:39:54,075]\u001b[0m Trial 4982 finished with value: 15.16885582767699 and parameters: {'beta': 36.263600000000004, 'gamma': 41.880900000000004}. Best is trial 4866 with value: 0.15395254402492328.\u001b[0m\n",
      "\u001b[32m[I 2021-03-30 03:39:54,190]\u001b[0m Trial 4983 finished with value: 10.022062536147597 and parameters: {'beta': 30.5483, 'gamma': 31.693800000000003}. Best is trial 4866 with value: 0.15395254402492328.\u001b[0m\n",
      "\u001b[32m[I 2021-03-30 03:39:54,334]\u001b[0m Trial 4984 finished with value: 6.481430351914544 and parameters: {'beta': 33.872, 'gamma': 34.4951}. Best is trial 4866 with value: 0.15395254402492328.\u001b[0m\n",
      "\u001b[32m[I 2021-03-30 03:39:54,438]\u001b[0m Trial 4985 finished with value: 12.49793579004223 and parameters: {'beta': 37.3926, 'gamma': 39.1879}. Best is trial 4866 with value: 0.15395254402492328.\u001b[0m\n",
      "\u001b[32m[I 2021-03-30 03:39:54,532]\u001b[0m Trial 4986 finished with value: 13.549653611664798 and parameters: {'beta': 32.0799, 'gamma': 34.364000000000004}. Best is trial 4866 with value: 0.15395254402492328.\u001b[0m\n",
      "\u001b[32m[I 2021-03-30 03:39:54,651]\u001b[0m Trial 4987 finished with value: 2672.493368753482 and parameters: {'beta': 34.7008, 'gamma': 31.495800000000003}. Best is trial 4866 with value: 0.15395254402492328.\u001b[0m\n",
      "\u001b[32m[I 2021-03-30 03:39:54,768]\u001b[0m Trial 4988 finished with value: 545.9838209614591 and parameters: {'beta': 39.239000000000004, 'gamma': 37.4425}. Best is trial 4866 with value: 0.15395254402492328.\u001b[0m\n",
      "\u001b[32m[I 2021-03-30 03:39:54,901]\u001b[0m Trial 4989 finished with value: 15.089742092817158 and parameters: {'beta': 36.6433, 'gamma': 41.421}. Best is trial 4866 with value: 0.15395254402492328.\u001b[0m\n",
      "\u001b[32m[I 2021-03-30 03:39:55,020]\u001b[0m Trial 4990 finished with value: 15.183934089799976 and parameters: {'beta': 30.381500000000003, 'gamma': 36.287400000000005}. Best is trial 4866 with value: 0.15395254402492328.\u001b[0m\n",
      "\u001b[32m[I 2021-03-30 03:39:55,129]\u001b[0m Trial 4991 finished with value: 1639.9435144708766 and parameters: {'beta': 34.2828, 'gamma': 31.4846}. Best is trial 4866 with value: 0.15395254402492328.\u001b[0m\n",
      "\u001b[32m[I 2021-03-30 03:39:55,231]\u001b[0m Trial 4992 finished with value: 0.8986015893895215 and parameters: {'beta': 39.3151, 'gamma': 39.167}. Best is trial 4866 with value: 0.15395254402492328.\u001b[0m\n",
      "\u001b[32m[I 2021-03-30 03:39:55,359]\u001b[0m Trial 4993 finished with value: 13.145701340635567 and parameters: {'beta': 32.7775, 'gamma': 34.8451}. Best is trial 4866 with value: 0.15395254402492328.\u001b[0m\n",
      "\u001b[32m[I 2021-03-30 03:39:55,475]\u001b[0m Trial 4994 finished with value: 10.22007914042357 and parameters: {'beta': 35.8953, 'gamma': 37.0797}. Best is trial 4866 with value: 0.15395254402492328.\u001b[0m\n",
      "\u001b[32m[I 2021-03-30 03:39:55,580]\u001b[0m Trial 4995 finished with value: 3831.006032190111 and parameters: {'beta': 38.211, 'gamma': 31.4097}. Best is trial 4866 with value: 0.15395254402492328.\u001b[0m\n",
      "\u001b[32m[I 2021-03-30 03:39:55,680]\u001b[0m Trial 4996 finished with value: 15.228987559765583 and parameters: {'beta': 29.972900000000003, 'gamma': 42.9742}. Best is trial 4866 with value: 0.15395254402492328.\u001b[0m\n",
      "\u001b[32m[I 2021-03-30 03:39:55,798]\u001b[0m Trial 4997 finished with value: 15.218596005059233 and parameters: {'beta': 32.0538, 'gamma': 39.4239}. Best is trial 4866 with value: 0.15395254402492328.\u001b[0m\n",
      "\u001b[32m[I 2021-03-30 03:39:55,939]\u001b[0m Trial 4998 finished with value: 305.7536498692301 and parameters: {'beta': 35.0215, 'gamma': 33.822500000000005}. Best is trial 4866 with value: 0.15395254402492328.\u001b[0m\n",
      "\u001b[32m[I 2021-03-30 03:39:56,046]\u001b[0m Trial 4999 finished with value: 1363.008004527834 and parameters: {'beta': 37.1255, 'gamma': 34.3761}. Best is trial 4866 with value: 0.15395254402492328.\u001b[0m\n"
     ]
    },
    {
     "output_type": "execute_result",
     "data": {
      "text/plain": [
       "{'beta': 35.025600000000004, 'gamma': 34.979800000000004}"
      ]
     },
     "metadata": {},
     "execution_count": 10
    }
   ],
   "source": [
    "study = optuna.create_study()\n",
    "study.optimize(fitErrorSIR, n_trials=5000)\n",
    "\n",
    "study.best_params  # E.g. {'x': 2.002108042}"
   ]
  },
  {
   "cell_type": "code",
   "execution_count": 11,
   "metadata": {},
   "outputs": [
    {
     "output_type": "error",
     "ename": "NameError",
     "evalue": "name 'beta' is not defined",
     "traceback": [
      "\u001b[0;31m---------------------------------------------------------------------------\u001b[0m",
      "\u001b[0;31mNameError\u001b[0m                                 Traceback (most recent call last)",
      "\u001b[0;32m<ipython-input-11-e614e18f3ef4>\u001b[0m in \u001b[0;36m<module>\u001b[0;34m\u001b[0m\n\u001b[0;32m----> 1\u001b[0;31m \u001b[0mmenParams\u001b[0m\u001b[0;34m[\u001b[0m\u001b[0myear\u001b[0m\u001b[0;34m]\u001b[0m \u001b[0;34m=\u001b[0m \u001b[0;34m[\u001b[0m\u001b[0mbeta\u001b[0m\u001b[0;34m,\u001b[0m \u001b[0mgamma\u001b[0m\u001b[0;34m,\u001b[0m \u001b[0mbestscore\u001b[0m\u001b[0;34m]\u001b[0m\u001b[0;34m\u001b[0m\u001b[0;34m\u001b[0m\u001b[0m\n\u001b[0m\u001b[1;32m      2\u001b[0m \u001b[0mpkl\u001b[0m\u001b[0;34m.\u001b[0m\u001b[0mdump\u001b[0m\u001b[0;34m(\u001b[0m\u001b[0mmenParams\u001b[0m\u001b[0;34m,\u001b[0m \u001b[0mopen\u001b[0m\u001b[0;34m(\u001b[0m\u001b[0mdataDir\u001b[0m \u001b[0;34m+\u001b[0m \u001b[0;34m'pkls/menSIRParams.pkl'\u001b[0m\u001b[0;34m,\u001b[0m\u001b[0;34m'wb'\u001b[0m\u001b[0;34m)\u001b[0m\u001b[0;34m)\u001b[0m\u001b[0;34m\u001b[0m\u001b[0;34m\u001b[0m\u001b[0m\n",
      "\u001b[0;31mNameError\u001b[0m: name 'beta' is not defined"
     ]
    }
   ],
   "source": [
    "menParams[year] = [beta, gamma, bestscore]\n",
    "pkl.dump(menParams, open(dataDir + 'pkls/menSIRParams.pkl','wb'))"
   ]
  },
  {
   "cell_type": "code",
   "execution_count": 12,
   "metadata": {},
   "outputs": [
    {
     "output_type": "stream",
     "name": "stdout",
     "text": [
      "35.025600000000004 34.979800000000004\n"
     ]
    }
   ],
   "source": [
    "beta, gamma= study.best_params.values()\n",
    "print(beta,gamma)"
   ]
  },
  {
   "cell_type": "code",
   "execution_count": null,
   "metadata": {},
   "outputs": [],
   "source": [
    "#from scipy.optimize import fmin\n",
    "\n",
    "#answ=fmin(score,(50, 50),full_output=1,maxiter=10000)\n",
    "#bestParams=answ[0]\n",
    "#bestscore=answ[1]\n",
    "#beta,gamma=answ[0]\n",
    "#paramsOpt=(beta,gamma)\n",
    "\n",
    "#print(paramsOpt,bestscore)"
   ]
  },
  {
   "cell_type": "markdown",
   "metadata": {},
   "source": [
    "# Evaluation"
   ]
  },
  {
   "cell_type": "code",
   "execution_count": 13,
   "metadata": {},
   "outputs": [],
   "source": [
    "# Timestamp parameters\n",
    "t_start = 0.0; t_end = n_months.months+12; t_inc = 0.01\n",
    "t_eval = np.arange(t_start, t_end+t_inc, t_inc)\n",
    "\n",
    "# Initial conditions\n",
    "S0 = (ausPop[year] - menSeries[startdate])\n",
    "I0 = (menSeries[startdate])\n",
    "R0 = 0\n",
    "\n",
    "SIR0 = [S0,I0,R0]"
   ]
  },
  {
   "cell_type": "code",
   "execution_count": 14,
   "metadata": {},
   "outputs": [],
   "source": [
    "def menSIRSim(beta,gamma):    \n",
    "    return spi.odeint(SIR_eqs,SIR0,t_eval,args=(beta,gamma))"
   ]
  },
  {
   "cell_type": "code",
   "execution_count": 15,
   "metadata": {},
   "outputs": [],
   "source": [
    "SIR = menSIRSim(beta,gamma)\n",
    "S = SIR[:,0]\n",
    "I = SIR[:,1]\n",
    "R = SIR[:,2]"
   ]
  },
  {
   "cell_type": "code",
   "execution_count": 16,
   "metadata": {},
   "outputs": [
    {
     "output_type": "display_data",
     "data": {
      "text/plain": "<Figure size 432x288 with 1 Axes>",
      "image/svg+xml": "<?xml version=\"1.0\" encoding=\"utf-8\" standalone=\"no\"?>\n<!DOCTYPE svg PUBLIC \"-//W3C//DTD SVG 1.1//EN\"\n  \"http://www.w3.org/Graphics/SVG/1.1/DTD/svg11.dtd\">\n<!-- Created with matplotlib (https://matplotlib.org/) -->\n<svg height=\"261.997857pt\" version=\"1.1\" viewBox=\"0 0 366.162671 261.997857\" width=\"366.162671pt\" xmlns=\"http://www.w3.org/2000/svg\" xmlns:xlink=\"http://www.w3.org/1999/xlink\">\n <defs>\n  <style type=\"text/css\">\n*{stroke-linecap:butt;stroke-linejoin:round;}\n  </style>\n </defs>\n <g id=\"figure_1\">\n  <g id=\"patch_1\">\n   <path d=\"M 0 261.997857 \nL 366.162671 261.997857 \nL 366.162671 0 \nL 0 0 \nz\n\" style=\"fill:none;\"/>\n  </g>\n  <g id=\"axes_1\">\n   <g id=\"patch_2\">\n    <path d=\"M 24.162671 238.94218 \nL 358.962671 238.94218 \nL 358.962671 21.50218 \nL 24.162671 21.50218 \nz\n\" style=\"fill:#ffffff;\"/>\n   </g>\n   <g id=\"matplotlib.axis_1\">\n    <g id=\"xtick_1\">\n     <g id=\"line2d_1\">\n      <defs>\n       <path d=\"M 0 0 \nL 0 3.5 \n\" id=\"m7d3d53d56a\" style=\"stroke:#000000;stroke-width:0.8;\"/>\n      </defs>\n      <g>\n       <use style=\"stroke:#000000;stroke-width:0.8;\" x=\"39.380852\" xlink:href=\"#m7d3d53d56a\" y=\"238.94218\"/>\n      </g>\n     </g>\n     <g id=\"text_1\">\n      <!-- $0$ -->\n      <defs>\n       <path d=\"M 42 31.84375 \nC 42 37.96875 41.90625 48.421875 37.703125 56.453125 \nC 34 63.484375 28.09375 66 22.90625 66 \nC 18.09375 66 12 63.78125 8.203125 56.5625 \nC 4.203125 49.015625 3.796875 39.671875 3.796875 31.84375 \nC 3.796875 26.109375 3.90625 17.375 7 9.734375 \nC 11.296875 -0.609375 19 -2 22.90625 -2 \nC 27.5 -2 34.5 -0.109375 38.59375 9.4375 \nC 41.59375 16.375 42 24.5 42 31.84375 \nz\nM 22.90625 -0.40625 \nC 16.5 -0.40625 12.703125 5.125 11.296875 12.75 \nC 10.203125 18.6875 10.203125 27.328125 10.203125 32.953125 \nC 10.203125 40.6875 10.203125 47.109375 11.5 53.234375 \nC 13.40625 61.78125 19 64.390625 22.90625 64.390625 \nC 27 64.390625 32.296875 61.671875 34.203125 53.4375 \nC 35.5 47.71875 35.59375 40.984375 35.59375 32.953125 \nC 35.59375 26.421875 35.59375 18.375 34.40625 12.453125 \nC 32.296875 1.5 26.40625 -0.40625 22.90625 -0.40625 \nz\n\" id=\"CMR17-48\"/>\n      </defs>\n      <g transform=\"translate(36.890185 252.860678)scale(0.1 -0.1)\">\n       <use transform=\"scale(0.996264)\" xlink:href=\"#CMR17-48\"/>\n      </g>\n     </g>\n    </g>\n    <g id=\"xtick_2\">\n     <g id=\"line2d_2\">\n      <g>\n       <use style=\"stroke:#000000;stroke-width:0.8;\" x=\"105.54686\" xlink:href=\"#m7d3d53d56a\" y=\"238.94218\"/>\n      </g>\n     </g>\n     <g id=\"text_2\">\n      <!-- $5$ -->\n      <defs>\n       <path d=\"M 11.40625 58.59375 \nC 12.40625 58.1875 16.5 56.890625 20.703125 56.890625 \nC 30 56.890625 35.09375 61.890625 38 64.6875 \nC 38 65.484375 38 66 37.40625 66 \nC 37.296875 66 37.09375 66 36.296875 65.59375 \nC 32.796875 64.09375 28.703125 63 23.703125 63 \nC 20.703125 63 16.203125 63.359375 11.296875 65.484375 \nC 10.203125 66 10 66 9.90625 66 \nC 9.40625 66 9.296875 65.890625 9.296875 63.90625 \nL 9.296875 34.859375 \nC 9.296875 33.015625 9.296875 32.5 10.296875 32.5 \nC 10.796875 32.5 11 32.703125 11.5 33.421875 \nC 14.703125 38.046875 19.09375 40 24.09375 40 \nC 27.59375 40 35.09375 37.734375 35.09375 20.203125 \nC 35.09375 16.984375 35.09375 11.1875 32.09375 6.59375 \nC 29.59375 2.484375 25.703125 0.390625 21.40625 0.390625 \nC 14.796875 0.390625 8.09375 4.984375 6.296875 12.6875 \nC 6.703125 12.59375 7.5 12.390625 7.90625 12.390625 \nC 9.203125 12.390625 11.703125 13.09375 11.703125 16.1875 \nC 11.703125 18.890625 9.796875 20 7.90625 20 \nC 5.59375 20 4.09375 18.59375 4.09375 15.796875 \nC 4.09375 7.09375 11 -2 21.59375 -2 \nC 31.90625 -2 41.703125 6.890625 41.703125 19.796875 \nC 41.703125 32.09375 33.90625 41.59375 24.203125 41.59375 \nC 19.09375 41.59375 14.796875 39.6875 11.40625 36 \nz\n\" id=\"CMR17-53\"/>\n      </defs>\n      <g transform=\"translate(103.056193 252.860678)scale(0.1 -0.1)\">\n       <use transform=\"scale(0.996264)\" xlink:href=\"#CMR17-53\"/>\n      </g>\n     </g>\n    </g>\n    <g id=\"xtick_3\">\n     <g id=\"line2d_3\">\n      <g>\n       <use style=\"stroke:#000000;stroke-width:0.8;\" x=\"171.712868\" xlink:href=\"#m7d3d53d56a\" y=\"238.94218\"/>\n      </g>\n     </g>\n     <g id=\"text_3\">\n      <!-- $10$ -->\n      <defs>\n       <path d=\"M 26.59375 63.796875 \nC 26.59375 65.890625 26.5 66 25.09375 66 \nC 21.203125 61.359375 15.296875 59.890625 9.703125 59.6875 \nC 9.40625 59.6875 8.90625 59.6875 8.796875 59.5 \nC 8.703125 59.296875 8.703125 59.09375 8.703125 57 \nC 11.796875 57 17 57.59375 21 59.984375 \nL 21 7.296875 \nC 21 3.796875 20.796875 2.59375 12.203125 2.59375 \nL 9.203125 2.59375 \nL 9.203125 0 \nC 14 0.09375 19 0.1875 23.796875 0.1875 \nC 28.59375 0.1875 33.59375 0.09375 38.40625 0 \nL 38.40625 2.59375 \nL 35.40625 2.59375 \nC 26.796875 2.59375 26.59375 3.6875 26.59375 7.296875 \nz\n\" id=\"CMR17-49\"/>\n      </defs>\n      <g transform=\"translate(166.731533 252.860678)scale(0.1 -0.1)\">\n       <use transform=\"scale(0.996264)\" xlink:href=\"#CMR17-49\"/>\n       <use transform=\"translate(45.690477 0)scale(0.996264)\" xlink:href=\"#CMR17-48\"/>\n      </g>\n     </g>\n    </g>\n    <g id=\"xtick_4\">\n     <g id=\"line2d_4\">\n      <g>\n       <use style=\"stroke:#000000;stroke-width:0.8;\" x=\"237.878876\" xlink:href=\"#m7d3d53d56a\" y=\"238.94218\"/>\n      </g>\n     </g>\n     <g id=\"text_4\">\n      <!-- $15$ -->\n      <g transform=\"translate(232.897541 252.860678)scale(0.1 -0.1)\">\n       <use transform=\"scale(0.996264)\" xlink:href=\"#CMR17-49\"/>\n       <use transform=\"translate(45.690477 0)scale(0.996264)\" xlink:href=\"#CMR17-53\"/>\n      </g>\n     </g>\n    </g>\n    <g id=\"xtick_5\">\n     <g id=\"line2d_5\">\n      <g>\n       <use style=\"stroke:#000000;stroke-width:0.8;\" x=\"304.044884\" xlink:href=\"#m7d3d53d56a\" y=\"238.94218\"/>\n      </g>\n     </g>\n     <g id=\"text_5\">\n      <!-- $20$ -->\n      <defs>\n       <path d=\"M 41.703125 15.46875 \nL 39.90625 15.46875 \nC 38.90625 8.390625 38.09375 7.1875 37.703125 6.59375 \nC 37.203125 5.796875 30 5.796875 28.59375 5.796875 \nL 9.40625 5.796875 \nC 13 9.6875 20 16.765625 28.5 24.9375 \nC 34.59375 30.71875 41.703125 37.5 41.703125 47.390625 \nC 41.703125 59.1875 32.296875 66 21.796875 66 \nC 10.796875 66 4.09375 56.296875 4.09375 47.296875 \nC 4.09375 43.390625 7 42.890625 8.203125 42.890625 \nC 9.203125 42.890625 12.203125 43.484375 12.203125 46.984375 \nC 12.203125 50.09375 9.59375 51 8.203125 51 \nC 7.59375 51 7 50.890625 6.59375 50.6875 \nC 8.5 59.1875 14.296875 63.390625 20.40625 63.390625 \nC 29.09375 63.390625 34.796875 56.5 34.796875 47.390625 \nC 34.796875 38.703125 29.703125 31.21875 24 24.734375 \nL 4.09375 2.296875 \nL 4.09375 0 \nL 39.296875 0 \nz\n\" id=\"CMR17-50\"/>\n      </defs>\n      <g transform=\"translate(299.063549 252.860678)scale(0.1 -0.1)\">\n       <use transform=\"scale(0.996264)\" xlink:href=\"#CMR17-50\"/>\n       <use transform=\"translate(45.690477 0)scale(0.996264)\" xlink:href=\"#CMR17-48\"/>\n      </g>\n     </g>\n    </g>\n   </g>\n   <g id=\"matplotlib.axis_2\">\n    <g id=\"ytick_1\">\n     <g id=\"line2d_6\">\n      <defs>\n       <path d=\"M 0 0 \nL -3.5 0 \n\" id=\"md29eb1be83\" style=\"stroke:#000000;stroke-width:0.8;\"/>\n      </defs>\n      <g>\n       <use style=\"stroke:#000000;stroke-width:0.8;\" x=\"24.162671\" xlink:href=\"#md29eb1be83\" y=\"217.19818\"/>\n      </g>\n     </g>\n     <g id=\"text_6\">\n      <!-- $20$ -->\n      <g transform=\"translate(7.2 220.657429)scale(0.1 -0.1)\">\n       <use transform=\"scale(0.996264)\" xlink:href=\"#CMR17-50\"/>\n       <use transform=\"translate(45.690477 0)scale(0.996264)\" xlink:href=\"#CMR17-48\"/>\n      </g>\n     </g>\n    </g>\n    <g id=\"ytick_2\">\n     <g id=\"line2d_7\">\n      <g>\n       <use style=\"stroke:#000000;stroke-width:0.8;\" x=\"24.162671\" xlink:href=\"#md29eb1be83\" y=\"177.663634\"/>\n      </g>\n     </g>\n     <g id=\"text_7\">\n      <!-- $30$ -->\n      <defs>\n       <path d=\"M 22.09375 34 \nC 31 34 34.90625 26.140625 34.90625 17.09375 \nC 34.90625 5.03125 28.5 0.390625 22.703125 0.390625 \nC 17.40625 0.390625 8.796875 3.015625 6.09375 10.796875 \nC 6.59375 10.59375 7.09375 10.59375 7.59375 10.59375 \nC 10 10.59375 11.796875 12.1875 11.796875 14.796875 \nC 11.796875 17.6875 9.59375 19 7.59375 19 \nC 5.90625 19 3.296875 18.1875 3.296875 14.484375 \nC 3.296875 5.234375 12.296875 -2 22.90625 -2 \nC 34 -2 42.5 6.75 42.5 16.984375 \nC 42.5 26.84375 34.5 34 25 35.09375 \nC 32.59375 36.671875 39.90625 43.375 39.90625 52.390625 \nC 39.90625 60.25 32 66 23 66 \nC 13.90625 66 5.90625 60.34375 5.90625 52.296875 \nC 5.90625 48.796875 8.5 48.1875 9.796875 48.1875 \nC 11.90625 48.1875 13.703125 49.484375 13.703125 52.09375 \nC 13.703125 54.6875 11.90625 56 9.796875 56 \nC 9.40625 56 8.90625 56 8.5 55.796875 \nC 11.40625 62.484375 19.296875 63.6875 22.796875 63.6875 \nC 26.296875 63.6875 32.90625 61.96875 32.90625 52.296875 \nC 32.90625 49.484375 32.5 44.546875 29.09375 40.21875 \nC 26.09375 36.390625 22.703125 36.1875 19.40625 35.890625 \nC 18.90625 35.890625 16.59375 35.6875 16.203125 35.6875 \nC 15.5 35.59375 15.09375 35.5 15.09375 34.796875 \nC 15.09375 34.09375 15.203125 34 17.203125 34 \nz\n\" id=\"CMR17-51\"/>\n      </defs>\n      <g transform=\"translate(7.2 181.122884)scale(0.1 -0.1)\">\n       <use transform=\"scale(0.996264)\" xlink:href=\"#CMR17-51\"/>\n       <use transform=\"translate(45.690477 0)scale(0.996264)\" xlink:href=\"#CMR17-48\"/>\n      </g>\n     </g>\n    </g>\n    <g id=\"ytick_3\">\n     <g id=\"line2d_8\">\n      <g>\n       <use style=\"stroke:#000000;stroke-width:0.8;\" x=\"24.162671\" xlink:href=\"#md29eb1be83\" y=\"138.129089\"/>\n      </g>\n     </g>\n     <g id=\"text_8\">\n      <!-- $40$ -->\n      <defs>\n       <path d=\"M 33.59375 64.796875 \nC 33.59375 66.890625 33.5 67 31.703125 67 \nL 2 19.59375 \nL 2 17 \nL 27.796875 17 \nL 27.796875 7.1875 \nC 27.796875 3.59375 27.59375 2.59375 20.59375 2.59375 \nL 18.703125 2.59375 \nL 18.703125 0 \nC 21.90625 0.1875 27.296875 0.1875 30.703125 0.1875 \nC 34.09375 0.1875 39.5 0.1875 42.703125 0 \nL 42.703125 2.59375 \nL 40.796875 2.59375 \nC 33.796875 2.59375 33.59375 3.59375 33.59375 7.1875 \nL 33.59375 17 \nL 43.796875 17 \nL 43.796875 19.59375 \nL 33.59375 19.59375 \nz\nM 28.09375 58.171875 \nL 28.09375 19.59375 \nL 4 19.59375 \nz\n\" id=\"CMR17-52\"/>\n      </defs>\n      <g transform=\"translate(7.2 141.588338)scale(0.1 -0.1)\">\n       <use transform=\"scale(0.996264)\" xlink:href=\"#CMR17-52\"/>\n       <use transform=\"translate(45.690477 0)scale(0.996264)\" xlink:href=\"#CMR17-48\"/>\n      </g>\n     </g>\n    </g>\n    <g id=\"ytick_4\">\n     <g id=\"line2d_9\">\n      <g>\n       <use style=\"stroke:#000000;stroke-width:0.8;\" x=\"24.162671\" xlink:href=\"#md29eb1be83\" y=\"98.594543\"/>\n      </g>\n     </g>\n     <g id=\"text_9\">\n      <!-- $50$ -->\n      <g transform=\"translate(7.2 102.053793)scale(0.1 -0.1)\">\n       <use transform=\"scale(0.996264)\" xlink:href=\"#CMR17-53\"/>\n       <use transform=\"translate(45.690477 0)scale(0.996264)\" xlink:href=\"#CMR17-48\"/>\n      </g>\n     </g>\n    </g>\n    <g id=\"ytick_5\">\n     <g id=\"line2d_10\">\n      <g>\n       <use style=\"stroke:#000000;stroke-width:0.8;\" x=\"24.162671\" xlink:href=\"#md29eb1be83\" y=\"59.059998\"/>\n      </g>\n     </g>\n     <g id=\"text_10\">\n      <!-- $60$ -->\n      <defs>\n       <path d=\"M 10.59375 34.34375 \nC 10.59375 58 21.796875 63.6875 28.296875 63.6875 \nC 30.40625 63.6875 35.5 63.265625 37.5 59.09375 \nC 35.90625 59.09375 32.90625 59.09375 32.90625 55.59375 \nC 32.90625 52.890625 35.09375 52 36.5 52 \nC 37.40625 52 40.09375 52.390625 40.09375 55.796875 \nC 40.09375 62.296875 35.09375 66 28.203125 66 \nC 16.296875 66 3.796875 53.296875 3.796875 31.421875 \nC 3.796875 4.015625 15.09375 -2 23.09375 -2 \nC 32.796875 -2 42 6.734375 42 20.234375 \nC 42 32.828125 33.90625 42 23.703125 42 \nC 17.59375 42 13.09375 37.96875 10.59375 30.921875 \nz\nM 23.09375 0.390625 \nC 10.796875 0.390625 10.796875 18.9375 10.796875 22.65625 \nC 10.796875 29.90625 14.203125 40.390625 23.5 40.390625 \nC 25.203125 40.390625 30.09375 40.390625 33.40625 33.4375 \nC 35.203125 29.515625 35.203125 25.375 35.203125 20.34375 \nC 35.203125 14.90625 35.203125 10.875 33.09375 6.84375 \nC 30.90625 2.703125 27.703125 0.390625 23.09375 0.390625 \nz\n\" id=\"CMR17-54\"/>\n      </defs>\n      <g transform=\"translate(7.2 62.519247)scale(0.1 -0.1)\">\n       <use transform=\"scale(0.996264)\" xlink:href=\"#CMR17-54\"/>\n       <use transform=\"translate(45.690477 0)scale(0.996264)\" xlink:href=\"#CMR17-48\"/>\n      </g>\n     </g>\n    </g>\n   </g>\n   <g id=\"line2d_11\">\n    <defs>\n     <path d=\"M 0 3 \nC 0.795609 3 1.55874 2.683901 2.12132 2.12132 \nC 2.683901 1.55874 3 0.795609 3 0 \nC 3 -0.795609 2.683901 -1.55874 2.12132 -2.12132 \nC 1.55874 -2.683901 0.795609 -3 0 -3 \nC -0.795609 -3 -1.55874 -2.683901 -2.12132 -2.12132 \nC -2.683901 -1.55874 -3 -0.795609 -3 0 \nC -3 0.795609 -2.683901 1.55874 -2.12132 2.12132 \nC -1.55874 2.683901 -0.795609 3 0 3 \nz\n\" id=\"m405c5e6fc1\" style=\"stroke:#000000;\"/>\n    </defs>\n    <g clip-path=\"url(#pf13a40db6a)\">\n     <use style=\"stroke:#000000;\" x=\"39.380852\" xlink:href=\"#m405c5e6fc1\" y=\"185.570543\"/>\n     <use style=\"stroke:#000000;\" x=\"52.614054\" xlink:href=\"#m405c5e6fc1\" y=\"213.244725\"/>\n     <use style=\"stroke:#000000;\" x=\"65.847255\" xlink:href=\"#m405c5e6fc1\" y=\"205.337816\"/>\n     <use style=\"stroke:#000000;\" x=\"79.080457\" xlink:href=\"#m405c5e6fc1\" y=\"209.291271\"/>\n     <use style=\"stroke:#000000;\" x=\"92.313659\" xlink:href=\"#m405c5e6fc1\" y=\"229.058543\"/>\n     <use style=\"stroke:#000000;\" x=\"105.54686\" xlink:href=\"#m405c5e6fc1\" y=\"193.477453\"/>\n     <use style=\"stroke:#000000;\" x=\"118.780062\" xlink:href=\"#m405c5e6fc1\" y=\"165.803271\"/>\n     <use style=\"stroke:#000000;\" x=\"132.013263\" xlink:href=\"#m405c5e6fc1\" y=\"142.082543\"/>\n     <use style=\"stroke:#000000;\" x=\"145.246465\" xlink:href=\"#m405c5e6fc1\" y=\"31.385816\"/>\n     <use style=\"stroke:#000000;\" x=\"158.479667\" xlink:href=\"#m405c5e6fc1\" y=\"94.641089\"/>\n     <use style=\"stroke:#000000;\" x=\"171.712868\" xlink:href=\"#m405c5e6fc1\" y=\"185.570543\"/>\n     <use style=\"stroke:#000000;\" x=\"184.94607\" xlink:href=\"#m405c5e6fc1\" y=\"205.337816\"/>\n    </g>\n   </g>\n   <g id=\"line2d_12\">\n    <path clip-path=\"url(#pf13a40db6a)\" d=\"M 39.380852 185.570543 \nL 64.920931 175.674797 \nL 137.174212 147.526295 \nL 155.171366 140.848854 \nL 170.786544 135.288178 \nL 184.813738 130.525348 \nL 197.782275 126.353854 \nL 209.956821 122.669352 \nL 221.469706 119.414923 \nL 232.453263 116.537782 \nL 243.039825 113.991335 \nL 253.361722 111.736771 \nL 263.418955 109.768687 \nL 273.211524 108.079323 \nL 282.739429 106.658821 \nL 292.135003 105.480484 \nL 301.398244 104.540534 \nL 310.661485 103.825256 \nL 319.792394 103.343382 \nL 328.923303 103.085327 \nL 338.054212 103.052282 \nL 343.744489 103.145599 \nL 343.744489 103.145599 \n\" style=\"fill:none;stroke:#ff0000;stroke-linecap:square;stroke-width:1.5;\"/>\n   </g>\n   <g id=\"patch_3\">\n    <path d=\"M 24.162671 238.94218 \nL 24.162671 21.50218 \n\" style=\"fill:none;stroke:#000000;stroke-linecap:square;stroke-linejoin:miter;stroke-width:0.8;\"/>\n   </g>\n   <g id=\"patch_4\">\n    <path d=\"M 358.962671 238.94218 \nL 358.962671 21.50218 \n\" style=\"fill:none;stroke:#000000;stroke-linecap:square;stroke-linejoin:miter;stroke-width:0.8;\"/>\n   </g>\n   <g id=\"patch_5\">\n    <path d=\"M 24.162671 238.94218 \nL 358.962671 238.94218 \n\" style=\"fill:none;stroke:#000000;stroke-linecap:square;stroke-linejoin:miter;stroke-width:0.8;\"/>\n   </g>\n   <g id=\"patch_6\">\n    <path d=\"M 24.162671 21.50218 \nL 358.962671 21.50218 \n\" style=\"fill:none;stroke:#000000;stroke-linecap:square;stroke-linejoin:miter;stroke-width:0.8;\"/>\n   </g>\n   <g id=\"text_11\">\n    <!-- $\\gamma = $34.979800000000004 -->\n    <defs>\n     <path d=\"M 37.796875 12.265625 \nC 37.59375 17.140625 37.40625 24.78125 33.59375 33.71875 \nC 31.59375 38.6875 28.203125 44 20.90625 44 \nC 8.59375 44 1.90625 28.359375 1.90625 25.765625 \nC 1.90625 24.875 2.59375 24.875 2.90625 24.875 \nC 3.796875 24.875 3.796875 25.078125 4.296875 26.375 \nC 6.40625 32.515625 12.796875 37.390625 19.703125 37.390625 \nC 33.59375 37.390625 35.59375 22 35.59375 12.171875 \nC 35.59375 5.90625 34.90625 3.828125 34.296875 1.84375 \nC 32.40625 -4.3125 29.09375 -16.625 29.09375 -19.40625 \nC 29.09375 -20.203125 29.40625 -21.109375 30.203125 -21.109375 \nC 31.703125 -21.109375 32.59375 -17.8125 33.703125 -13.84375 \nC 36.09375 -5.109375 36.703125 -0.734375 37.203125 3.234375 \nC 37.5 5.625 43.203125 22.015625 51.09375 37.609375 \nC 51.796875 39.203125 53.203125 41.890625 53.203125 42.1875 \nC 53.203125 42.296875 53.09375 43 52.203125 43 \nC 52 43 51.5 43 51.296875 42.59375 \nC 51.09375 42.390625 47.59375 35.625 44.59375 28.875 \nC 43.09375 25.46875 41.09375 21 37.796875 12.265625 \nz\n\" id=\"CMMI12-13\"/>\n     <path d=\"M 64.296875 32 \nC 65.796875 32 67.296875 32 67.296875 33.6875 \nC 67.296875 35.5 65.59375 35.5 63.90625 35.5 \nL 8 35.5 \nC 6.296875 35.5 4.59375 35.5 4.59375 33.6875 \nC 4.59375 32 6.09375 32 7.59375 32 \nz\nM 63.90625 14.484375 \nC 65.59375 14.484375 67.296875 14.484375 67.296875 16.296875 \nC 67.296875 18 65.796875 18 64.296875 18 \nL 7.59375 18 \nC 6.09375 18 4.59375 18 4.59375 16.296875 \nC 4.59375 14.484375 6.296875 14.484375 8 14.484375 \nz\n\" id=\"CMR17-61\"/>\n     <path d=\"M 15.703125 32.1875 \nL 22.5 32.1875 \nC 31.90625 32.1875 34.59375 23.9375 34.59375 18.1875 \nC 34.59375 10.34375 30.203125 4.1875 23 4.1875 \nC 17.40625 4.1875 9.5 7.015625 5 14.46875 \nC 4.296875 10.9375 4.296875 10.734375 3.90625 8.328125 \nC 8.59375 1.390625 16.203125 -2 23.203125 -2 \nC 34.59375 -2 43 7.515625 43 18.09375 \nC 43 26.046875 37.5 32.6875 30 35.1875 \nC 36 38.484375 40.40625 44.6875 40.40625 51.890625 \nC 40.40625 60.296875 32.703125 67 23.296875 67 \nC 14.703125 67 8 61.6875 5.203125 55.984375 \nC 5.90625 54.984375 7.703125 52.09375 8.59375 50.59375 \nC 10.796875 56.484375 16.5 60.890625 23.203125 60.890625 \nC 28.796875 60.890625 32.5 57.1875 32.5 51.890625 \nC 32.5 46.390625 29 40.390625 23.09375 39 \nC 22.703125 39 16.5 38.390625 15.703125 38.296875 \nz\n\" id=\"CMSS17-51\"/>\n     <path d=\"M 35.203125 17 \nL 44.296875 17 \nL 44.296875 23.09375 \nL 35.203125 23.09375 \nL 35.203125 66 \nL 26.40625 66 \nL 2.59375 23.09375 \nL 2.59375 17 \nL 27.296875 17 \nL 27.296875 0 \nL 35.203125 0 \nz\nM 10.296875 23.09375 \nC 16.09375 33.421875 27.59375 54.28125 27.59375 61.359375 \nL 27.59375 23.09375 \nz\n\" id=\"CMSS17-52\"/>\n     <path d=\"M 17 8 \nL 9 8 \nL 9 0 \nL 17 0 \nz\n\" id=\"CMSS17-46\"/>\n     <path d=\"M 6.796875 2.6875 \nC 9.59375 0.296875 13.203125 -2 19.296875 -2 \nC 31.40625 -2 43 11.53125 43 33.375 \nC 43 62.296875 30.5 67 23.796875 67 \nC 17.09375 67 12.796875 63.984375 9.09375 59.203125 \nC 4.703125 53.71875 3.90625 48.828125 3.90625 43.140625 \nC 3.90625 36.359375 5.09375 32.171875 7.90625 27.390625 \nC 11.703125 21.1875 15.203125 19.890625 19.09375 19.890625 \nC 25 19.890625 30.90625 22.796875 34.90625 27.78125 \nC 34.203125 14.1875 28.09375 4.1875 19.296875 4.1875 \nC 15.703125 4.1875 12.796875 5.3125 9.90625 8.0625 \nz\nM 34.59375 43.34375 \nC 34.703125 42.640625 34.703125 41.34375 34.703125 40.953125 \nC 34.703125 32.578125 29.90625 26 22.90625 26 \nC 18.296875 26 15.90625 28.390625 14.09375 31.484375 \nC 11.90625 35.359375 11.796875 39.15625 11.796875 43.140625 \nC 11.796875 47.03125 11.796875 51.3125 14.59375 55.609375 \nC 16.703125 58.703125 19.296875 60.890625 23.796875 60.890625 \nC 33 60.890625 34.5 47.4375 34.59375 43.34375 \nz\n\" id=\"CMSS17-57\"/>\n     <path d=\"M 21.703125 59.1875 \nC 22.90625 59.1875 24.09375 59.296875 25.296875 59.296875 \nL 36.796875 59.296875 \nC 22.5 42.421875 14.296875 21.09375 14.296875 -1 \nL 22.296875 -1 \nC 22.296875 20.390625 29.296875 42.109375 43 59.484375 \nL 43 66 \nL 3.90625 66 \nL 3.90625 59.1875 \nz\n\" id=\"CMSS17-55\"/>\n     <path d=\"M 30.203125 35.09375 \nC 37.796875 37.59375 41.703125 43.640625 41.703125 49.59375 \nC 41.703125 58.96875 33.703125 67 23.5 67 \nC 12.90625 67 5.203125 58.671875 5.203125 49.59375 \nC 5.203125 43.734375 9 37.6875 16.703125 35.09375 \nC 6.90625 31.296875 3.90625 23.6875 3.90625 18 \nC 3.90625 7 12.796875 -2 23.40625 -2 \nC 34.40625 -2 43 7.1875 43 18 \nC 43 24.59375 39.09375 31.59375 30.203125 35.09375 \nz\nM 23.5 38.09375 \nC 16.796875 38.09375 12.296875 42.625 12.296875 49.484375 \nC 12.296875 56.453125 16.796875 60.890625 23.5 60.890625 \nC 29.703125 60.890625 34.59375 56.859375 34.59375 49.484375 \nC 34.59375 42.234375 29.796875 38.09375 23.5 38.09375 \nz\nM 23.5 4.1875 \nC 17.796875 4.1875 11.703125 8.09375 11.703125 18.09375 \nC 11.703125 28.390625 18.5 32 23.40625 32 \nC 28.796875 32 35.203125 28.1875 35.203125 18.09375 \nC 35.203125 7.6875 28.59375 4.1875 23.5 4.1875 \nz\n\" id=\"CMSS17-56\"/>\n     <path d=\"M 43.09375 32.390625 \nC 43.09375 38.109375 43 48.75 38.90625 56.984375 \nC 34.796875 64.890625 28.203125 67 23.5 67 \nC 16.703125 67 10.90625 62.984375 7.90625 56.578125 \nC 4.703125 49.859375 3.796875 42.9375 3.796875 32.390625 \nC 3.796875 25.171875 4.09375 16.34375 7.703125 8.609375 \nC 11.796875 0.09375 18.703125 -2 23.40625 -2 \nC 29.59375 -2 35.59375 1.296875 39 8.203125 \nC 42.5 15.4375 43.09375 23.359375 43.09375 32.390625 \nz\nM 23.40625 4.09375 \nC 15.796875 4.09375 13.5 12.828125 12.796875 15.734375 \nC 11.59375 20.75 11.40625 25.5625 11.40625 33.5 \nC 11.40625 39.71875 11.40625 46.75 13.296875 52.265625 \nC 15.59375 58.6875 19.59375 60.890625 23.40625 60.890625 \nC 30.796875 60.890625 33.203125 53.46875 34 50.859375 \nC 35.5 45.546875 35.5 39.3125 35.5 33.5 \nC 35.5 24.15625 35.5 4.09375 23.40625 4.09375 \nz\n\" id=\"CMSS17-48\"/>\n    </defs>\n    <g transform=\"translate(237.878876 59.059998)scale(0.1 -0.1)\">\n     <use transform=\"scale(0.996264)\" xlink:href=\"#CMMI12-13\"/>\n     <use transform=\"translate(83.692577 0)scale(0.996264)\" xlink:href=\"#CMR17-61\"/>\n     <use transform=\"translate(155.407365 0)scale(0.996264)\" xlink:href=\"#CMSS17-51\"/>\n     <use transform=\"translate(202.250989 0)scale(0.996264)\" xlink:href=\"#CMSS17-52\"/>\n     <use transform=\"translate(249.094612 0)scale(0.996264)\" xlink:href=\"#CMSS17-46\"/>\n     <use transform=\"translate(275.118817 0)scale(0.996264)\" xlink:href=\"#CMSS17-57\"/>\n     <use transform=\"translate(321.962441 0)scale(0.996264)\" xlink:href=\"#CMSS17-55\"/>\n     <use transform=\"translate(368.806064 0)scale(0.996264)\" xlink:href=\"#CMSS17-57\"/>\n     <use transform=\"translate(415.649688 0)scale(0.996264)\" xlink:href=\"#CMSS17-56\"/>\n     <use transform=\"translate(462.493311 0)scale(0.996264)\" xlink:href=\"#CMSS17-48\"/>\n     <use transform=\"translate(509.336935 0)scale(0.996264)\" xlink:href=\"#CMSS17-48\"/>\n     <use transform=\"translate(556.180558 0)scale(0.996264)\" xlink:href=\"#CMSS17-48\"/>\n     <use transform=\"translate(603.024182 0)scale(0.996264)\" xlink:href=\"#CMSS17-48\"/>\n     <use transform=\"translate(649.867805 0)scale(0.996264)\" xlink:href=\"#CMSS17-48\"/>\n     <use transform=\"translate(696.711429 0)scale(0.996264)\" xlink:href=\"#CMSS17-48\"/>\n     <use transform=\"translate(743.555052 0)scale(0.996264)\" xlink:href=\"#CMSS17-48\"/>\n     <use transform=\"translate(790.398676 0)scale(0.996264)\" xlink:href=\"#CMSS17-48\"/>\n     <use transform=\"translate(837.242299 0)scale(0.996264)\" xlink:href=\"#CMSS17-48\"/>\n     <use transform=\"translate(884.085923 0)scale(0.996264)\" xlink:href=\"#CMSS17-48\"/>\n     <use transform=\"translate(930.929546 0)scale(0.996264)\" xlink:href=\"#CMSS17-52\"/>\n    </g>\n   </g>\n   <g id=\"text_12\">\n    <!-- $\\beta = $35.025600000000004 -->\n    <defs>\n     <path d=\"M 56.59375 58.421875 \nC 56.59375 64.546875 51.5 71 42.40625 71 \nC 29.5 71 21.296875 54.84375 18.703125 44.21875 \nL 2.90625 -18 \nC 2.703125 -18.8125 3.296875 -19 3.796875 -19 \nC 4.5 -19 5 -18.90625 5.09375 -18.40625 \nL 12.09375 9.25 \nC 13.09375 3.609375 18.59375 -1 24.5 -1 \nC 38.796875 -1 52.296875 10.265625 52.296875 25.28125 \nC 52.296875 29.109375 51.40625 32.9375 49.296875 36.15625 \nC 48.09375 38.078125 46.59375 39.484375 45 40.609375 \nC 52.203125 44.109375 56.59375 50.34375 56.59375 58.421875 \nz\nM 39.203125 40.703125 \nC 37.59375 40.171875 36 40 34.09375 40 \nC 32.703125 40 31.40625 39.890625 29.59375 40.4375 \nC 30.59375 41.046875 32.09375 41.234375 34.203125 41.234375 \nC 36 41.234375 37.796875 41.046875 39.203125 40.703125 \nz\nM 51.40625 59.34375 \nC 51.40625 53.71875 48.703125 45.546875 42.203125 41.9375 \nC 40.296875 42.546875 37.703125 43 35.5 43 \nC 33.40625 43 27.40625 43.203125 27.40625 40.34375 \nC 27.40625 37.671875 32.90625 37.96875 34.59375 37.96875 \nC 37.203125 37.96875 39.5 38.578125 41.90625 39.28125 \nC 45.09375 36.671875 46.5 33.234375 46.5 28.203125 \nC 46.5 22.359375 44.90625 17.625 43 13.28125 \nC 39.703125 5.828125 31.90625 1 25 1 \nC 17.703125 1 13.90625 6.84375 13.90625 13.6875 \nC 13.90625 14.59375 13.90625 15.90625 14.296875 17.421875 \nL 20.796875 43.5 \nC 24.09375 56.890625 32.5 68.953125 42.203125 68.953125 \nC 49.40625 68.953125 51.40625 63.84375 51.40625 59.34375 \nz\n\" id=\"CMMI12-12\"/>\n     <path d=\"M 14.59375 59.59375 \nL 39.09375 59.59375 \nL 39.09375 66 \nL 7.296875 66 \nL 7.296875 28.59375 \nL 14 28.59375 \nC 15.796875 32.859375 19.5 36 24.296875 36 \nC 28.796875 36 33.796875 31.9375 33.796875 20.296875 \nC 33.796875 7.84375 26.703125 4.1875 21.5 4.1875 \nC 15.09375 4.1875 9.203125 8.140625 6.59375 13.609375 \nL 3.40625 7.9375 \nC 8 0.796875 15.5 -2 21.5 -2 \nC 33.09375 -2 42.203125 7.9375 42.203125 20.09375 \nC 42.203125 32.546875 34.09375 42.09375 24.40625 42.09375 \nC 20.90625 42.09375 17.5 40.890625 14.59375 38.5 \nz\n\" id=\"CMSS17-53\"/>\n     <path d=\"M 25.796875 21.140625 \nC 28.59375 24.03125 32.796875 27.515625 35.703125 31 \nC 38.5 34.390625 42.203125 39.171875 42.203125 46.140625 \nC 42.203125 57.109375 34.796875 67 22.203125 67 \nC 12.296875 67 6.59375 60.796875 3.90625 51.125 \nL 7.796875 45.75 \nC 10 54.8125 13.09375 60.59375 20.90625 60.59375 \nC 29.5 60.59375 34.296875 53.609375 34.296875 45.9375 \nC 34.296875 36.78125 27.296875 29.703125 22 24.421875 \nC 16.09375 18.546875 10.296875 12.578125 4.703125 6.390625 \nL 4.703125 0 \nL 42.203125 0 \nL 42.203125 6.796875 \nL 25.203125 6.796875 \nC 24 6.796875 22.796875 6.6875 21.59375 6.6875 \nL 11.59375 6.6875 \nL 11.59375 6.796875 \nz\n\" id=\"CMSS17-50\"/>\n     <path d=\"M 39 64.984375 \nC 34.796875 66.6875 31.796875 67 29 67 \nC 16 67 3.90625 53.25 3.90625 31.609375 \nC 3.90625 4.1875 15.40625 -2 23.59375 -2 \nC 28.09375 -2 32.59375 -0.609375 36.90625 4.390625 \nC 41.296875 9.671875 43 14.0625 43 21.75 \nC 43 34.109375 36.90625 45.09375 27.796875 45.09375 \nC 21.203125 45.09375 15.5 41.59375 12 37.203125 \nC 13 51.40625 19.59375 60.890625 29.09375 60.890625 \nC 31.703125 60.890625 35.09375 60.484375 39 58.75 \nz\nM 12.09375 21.4375 \nC 12.09375 22.234375 12.09375 22.734375 12.203125 24.234375 \nC 12.203125 32.015625 16.703125 39 24 39 \nC 28.703125 39 31.09375 36.5 32.90625 33.40625 \nC 35 29.515625 35.09375 25.828125 35.09375 21.75 \nC 35.09375 17.859375 35.09375 13.96875 32.796875 9.96875 \nC 30.90625 6.890625 28.40625 4.1875 23.59375 4.1875 \nC 14.09375 4.1875 12.5 17.453125 12.09375 21.4375 \nz\n\" id=\"CMSS17-54\"/>\n    </defs>\n    <g transform=\"translate(237.878876 43.24618)scale(0.1 -0.1)\">\n     <use transform=\"scale(0.996264)\" xlink:href=\"#CMMI12-12\"/>\n     <use transform=\"translate(88.268024 0)scale(0.996264)\" xlink:href=\"#CMR17-61\"/>\n     <use transform=\"translate(159.982813 0)scale(0.996264)\" xlink:href=\"#CMSS17-51\"/>\n     <use transform=\"translate(206.826436 0)scale(0.996264)\" xlink:href=\"#CMSS17-53\"/>\n     <use transform=\"translate(253.67006 0)scale(0.996264)\" xlink:href=\"#CMSS17-46\"/>\n     <use transform=\"translate(279.694265 0)scale(0.996264)\" xlink:href=\"#CMSS17-48\"/>\n     <use transform=\"translate(326.537888 0)scale(0.996264)\" xlink:href=\"#CMSS17-50\"/>\n     <use transform=\"translate(373.381512 0)scale(0.996264)\" xlink:href=\"#CMSS17-53\"/>\n     <use transform=\"translate(420.225135 0)scale(0.996264)\" xlink:href=\"#CMSS17-54\"/>\n     <use transform=\"translate(467.068759 0)scale(0.996264)\" xlink:href=\"#CMSS17-48\"/>\n     <use transform=\"translate(513.912382 0)scale(0.996264)\" xlink:href=\"#CMSS17-48\"/>\n     <use transform=\"translate(560.756006 0)scale(0.996264)\" xlink:href=\"#CMSS17-48\"/>\n     <use transform=\"translate(607.599629 0)scale(0.996264)\" xlink:href=\"#CMSS17-48\"/>\n     <use transform=\"translate(654.443253 0)scale(0.996264)\" xlink:href=\"#CMSS17-48\"/>\n     <use transform=\"translate(701.286876 0)scale(0.996264)\" xlink:href=\"#CMSS17-48\"/>\n     <use transform=\"translate(748.1305 0)scale(0.996264)\" xlink:href=\"#CMSS17-48\"/>\n     <use transform=\"translate(794.974124 0)scale(0.996264)\" xlink:href=\"#CMSS17-48\"/>\n     <use transform=\"translate(841.817747 0)scale(0.996264)\" xlink:href=\"#CMSS17-48\"/>\n     <use transform=\"translate(888.661371 0)scale(0.996264)\" xlink:href=\"#CMSS17-48\"/>\n     <use transform=\"translate(935.504994 0)scale(0.996264)\" xlink:href=\"#CMSS17-52\"/>\n    </g>\n   </g>\n   <g id=\"text_13\">\n    <!-- Year: 2017 -->\n    <defs>\n     <path d=\"M 62.09375 69 \nL 53.5 69 \nL 38 44.921875 \nC 36.796875 43.03125 33.40625 37.875 31.796875 34.984375 \nL 26.90625 42.84375 \nL 10.09375 69 \nL 0.296875 69 \nL 27.09375 27.640625 \nL 27.09375 0 \nL 35.296875 0 \nL 35.296875 27.53125 \nz\n\" id=\"CMSS17-89\"/>\n     <path d=\"M 39.09375 21.484375 \nC 39.09375 24.796875 38.90625 31.265625 35.703125 36.671875 \nC 32.203125 42.390625 26.5 44 22.203125 44 \nC 11.796875 44 3 34.125 3 21.296875 \nC 3 9.046875 12.09375 -1 23.59375 -1 \nC 28.09375 -1 33.59375 0.296875 38.59375 3.890625 \nC 38.59375 4.296875 38.40625 6.46875 38.296875 6.578125 \nC 38.296875 6.765625 38 9.828125 38 10.234375 \nC 33.203125 6.375 27.703125 5.09375 23.703125 5.09375 \nC 17.296875 5.09375 10.40625 10.421875 10.09375 21.484375 \nz\nM 10.90625 27 \nC 12.203125 32.59375 16.59375 37.890625 22.203125 37.890625 \nC 23.703125 37.890625 30.703125 37.6875 32.5 27 \nz\n\" id=\"CMSS17-101\"/>\n     <path d=\"M 37.59375 27.953125 \nC 37.59375 37.484375 30.90625 44 21.90625 44 \nC 17.5 44 12.703125 43.1875 7.203125 39.984375 \nL 7.796875 33.328125 \nC 10.296875 35.15625 14.59375 38.09375 21.796875 38.09375 \nC 26.90625 38.09375 30 34.140625 30 27.84375 \nL 30 24 \nC 14 23.5 4 18.890625 4 11.109375 \nC 4 7.0625 6.5 -1 14.796875 -1 \nC 16.296875 -1 24.40625 -0.8125 30.203125 3.5 \nL 30.203125 -0.203125 \nL 37.59375 -0.203125 \nz\nM 30 12.875 \nC 30 11.109375 30 8.734375 27 6.96875 \nC 24.40625 5.296875 21.09375 5.09375 19.703125 5.09375 \nC 14.703125 5.09375 11.296875 7.859375 11.296875 11.296875 \nC 11.296875 18.203125 26.90625 18.890625 30 19 \nz\n\" id=\"CMSS17-97\"/>\n     <path d=\"M 14.90625 21.390625 \nC 14.90625 30.84375 21.796875 37.171875 30.59375 37.375 \nL 30.59375 44 \nC 24.203125 43.890625 18.203125 40.6875 14.59375 35.46875 \nL 14.59375 43.484375 \nL 7.5 43.484375 \nL 7.5 0 \nL 14.90625 0 \nz\n\" id=\"CMSS17-114\"/>\n     <path d=\"M 17 43 \nL 9 43 \nL 9 34.984375 \nL 17 34.984375 \nz\nM 9 8 \nL 9 0 \nL 17 0 \nL 17 8 \nz\n\" id=\"CMSS17-58\"/>\n     <path d=\"M 28.40625 67 \nL 26.5 67 \nC 21.09375 61.703125 14.796875 60.96875 8.40625 60.796875 \nL 8.40625 55 \nC 11.296875 55.09375 16 55.296875 20.703125 57.390625 \nL 20.703125 5.796875 \nL 8.90625 5.796875 \nL 8.90625 0 \nL 40.203125 0 \nL 40.203125 5.796875 \nL 28.40625 5.796875 \nz\n\" id=\"CMSS17-49\"/>\n    </defs>\n    <g transform=\"translate(165.02013 15.50218)scale(0.12 -0.12)\">\n     <use transform=\"scale(0.996264)\" xlink:href=\"#CMSS17-89\"/>\n     <use transform=\"translate(54.4106 0)scale(0.996264)\" xlink:href=\"#CMSS17-101\"/>\n     <use transform=\"translate(96.049422 0)scale(0.996264)\" xlink:href=\"#CMSS17-97\"/>\n     <use transform=\"translate(138.368888 0)scale(0.996264)\" xlink:href=\"#CMSS17-114\"/>\n     <use transform=\"translate(170.278661 0)scale(0.996264)\" xlink:href=\"#CMSS17-58\"/>\n     <use transform=\"translate(237.941673 0)scale(0.996264)\" xlink:href=\"#CMSS17-50\"/>\n     <use transform=\"translate(284.785296 0)scale(0.996264)\" xlink:href=\"#CMSS17-48\"/>\n     <use transform=\"translate(331.62892 0)scale(0.996264)\" xlink:href=\"#CMSS17-49\"/>\n     <use transform=\"translate(378.472543 0)scale(0.996264)\" xlink:href=\"#CMSS17-55\"/>\n    </g>\n   </g>\n  </g>\n </g>\n <defs>\n  <clipPath id=\"pf13a40db6a\">\n   <rect height=\"217.44\" width=\"334.8\" x=\"24.162671\" y=\"21.50218\"/>\n  </clipPath>\n </defs>\n</svg>\n",
      "image/png": "[encoded data removed]"
     },
     "metadata": {
      "needs_background": "light"
     }
    }
   ],
   "source": [
    "%matplotlib inline\n",
    "\n",
    "plt.plot(t_range[:n_months.months+1], menSeries[startdate:enddate].values,'ok',label=\"Original data\")\n",
    "plt.plot(t_eval,I,'-r',label=\"Infected fit\")\n",
    "plt.text(15, 60, r'$\\gamma = $' + str(gamma))\n",
    "plt.text(15, 64, r'$\\beta = $' + str(beta))\n",
    "plt.title(\"Year: \" + str(year))\n",
    "plt.savefig(imageDir + \"menIsolated/men_\" + str(year) + \".png\" )\n",
    "plt.show()"
   ]
  }
 ],
 "metadata": {
  "kernelspec": {
   "display_name": "Python 3",
   "language": "python",
   "name": "python3"
  },
  "language_info": {
   "codemirror_mode": {
    "name": "ipython",
    "version": 3
   },
   "file_extension": ".py",
   "mimetype": "text/x-python",
   "name": "python",
   "nbconvert_exporter": "python",
   "pygments_lexer": "ipython3",
   "version": "3.7.7"
  }
 },
 "nbformat": 4,
 "nbformat_minor": 4
}