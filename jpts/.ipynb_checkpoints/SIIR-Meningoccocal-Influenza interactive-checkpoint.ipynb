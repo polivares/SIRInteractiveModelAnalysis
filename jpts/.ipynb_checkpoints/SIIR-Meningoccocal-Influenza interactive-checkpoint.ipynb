{
 "cells": [
  {
   "cell_type": "code",
   "execution_count": 1,
   "metadata": {},
   "outputs": [],
   "source": [
    "import pandas as pd\n",
    "import matplotlib.pyplot as plt\n",
    "import scipy.integrate as spi\n",
    "from scipy.optimize import curve_fit,minimize,fmin\n",
    "import numpy as np\n",
    "import matplotlib \n",
    "import pickle as pkl  \n",
    "np.set_printoptions(suppress=True)\n",
    "plt.rc('text', usetex=True)\n",
    "\n",
    "dataDir = \"/home/polivares/Dropbox/DocUSM/Researches/InfluenzaMeningococcal/Data/\"\n",
    "imageDir = \"/home/polivares/Dropbox/DocUSM/Researches/InfluenzaMeningococcal/Scripts/images/\""
   ]
  },
  {
   "cell_type": "code",
   "execution_count": 2,
   "metadata": {},
   "outputs": [],
   "source": [
    "# Loading data\n",
    "menSeries = pd.read_pickle(dataDir + \"pkls/menSeries.pkl\")\n",
    "fluSeries = pd.read_pickle(dataDir + \"pkls/fluSeries.pkl\")\n",
    "ausPop = pd.read_pickle(dataDir + \"pkls/ausPop.pkl\")"
   ]
  },
  {
   "cell_type": "code",
   "execution_count": 3,
   "metadata": {},
   "outputs": [],
   "source": [
    "import os\n",
    "if os.path.isfile(dataDir + \"flu_menSIIRParams.pkl\"):\n",
    "    flu_menParams = pkl.load(open(dataDir + \"flu_menSIIRParams.pkl\", \"rb\"))\n",
    "else:\n",
    "    flu_menParams = {}\n",
    "    \n",
    "menParams = pkl.load(open(dataDir + \"pkls/menSIRParams.pkl\", \"rb\"))\n",
    "fluParams = pkl.load(open(dataDir + \"pkls/fluSIRParams.pkl\", \"rb\"))"
   ]
  },
  {
   "cell_type": "code",
   "execution_count": 4,
   "metadata": {},
   "outputs": [
    {
     "name": "stdout",
     "output_type": "stream",
     "text": [
      "relativedelta(months=+11)\n"
     ]
    }
   ],
   "source": [
    "# Evaluation time\n",
    "from datetime import datetime # Library for datetime format\n",
    "from dateutil import relativedelta # Library to calculate delta time from date\n",
    "\n",
    "year = 2017\n",
    "startdate = str(year) + '-01'\n",
    "enddate = str(year) + '-12'\n",
    "\n",
    "\n",
    "date_format = \"%Y-%m\"\n",
    "sd = datetime.strptime(startdate, date_format)\n",
    "ed = datetime.strptime(enddate, date_format)\n",
    "\n",
    "n_months = relativedelta.relativedelta(ed, sd) # Number of months (delta time)\n",
    "print(n_months)"
   ]
  },
  {
   "cell_type": "code",
   "execution_count": 5,
   "metadata": {},
   "outputs": [],
   "source": [
    "# Timestamp parameters\n",
    "t_start = 0.0; t_end = n_months.months; t_inc = 1\n",
    "t_range = np.arange(t_start, t_end+t_inc, t_inc)\n"
   ]
  },
  {
   "cell_type": "code",
   "execution_count": 6,
   "metadata": {},
   "outputs": [],
   "source": [
    "# Initial conditions\n",
    "SIIR0 = np.zeros(9)\n",
    "SIIR0[1] = (fluSeries[startdate])\n",
    "SIIR0[2] = (menSeries[startdate])\n",
    "SIIR0[0] = ausPop[year] - np.sum(SIIR0[1:8])\n",
    "\n",
    "fluMenSeries = np.concatenate((fluSeries[startdate:enddate].values,menSeries[startdate:enddate].values))"
   ]
  },
  {
   "cell_type": "code",
   "execution_count": 7,
   "metadata": {},
   "outputs": [],
   "source": [
    "# Defining SIIR isolated equations\n",
    "def SIIR_eqs(SIIR0,t,beta1,beta2, delta1, delta2, beta1prime, beta2prime, delta1prime, delta2prime):\n",
    "    #beta1, beta2, delta1, delta2, beta1prime, beta2prime, delta1prime, delta2prime = params\n",
    "    SSi, ISi, SIi, IIi, RSi, SRi, RIi, IRi, RRi = SIIR0\n",
    "    \n",
    "    N = np.sum(SIIR0)\n",
    "    \n",
    "    SS = -SSi * beta1 * (ISi + IIi + IRi) / N - SSi * beta2 * (SIi + IIi + RIi) / N\n",
    "    SI = beta2*SSi*(SIi + IIi + RIi)/N - beta1prime*SIi*(ISi + IIi + IRi)/N - delta2*SIi \n",
    "    SR = delta2 * SIi - SRi * beta1 * (ISi + IIi + IRi)/N\n",
    "    IS = SSi * beta1 * (ISi + IIi + IRi) / N - delta1 * ISi - ISi * beta2prime * (SIi + IIi + RIi) / N\n",
    "    II = ISi * beta2prime * (SIi + IIi + RIi) / N + SIi * beta1prime * (ISi + IIi + IRi) / N - delta1prime * IIi - delta2prime * IIi\n",
    "    IR = SRi * beta1 * (ISi + IIi + IRi) / N + delta2prime * IIi - delta1 * IRi\n",
    "    RS = delta1 * ISi - RSi * beta2 * (SIi + IIi + RIi) / N\n",
    "    RI = RSi * beta2 * (SIi + IIi + RIi) / N + delta1prime * IIi - delta2 * RIi\n",
    "    RR = delta1 * IRi + delta2 * RIi\n",
    "\n",
    "    return SS, IS, SI, II, RS, SR, RI, IR, RR\n",
    "\n",
    "# Fitting function from infected data and I state on SIR model\n",
    "def fitSIIR(t, beta1,beta2, gamma1, gamma2, beta1int, beta2int, gamma1int, gamma2int):\n",
    "    sir_res = spi.odeint(SIIR_eqs,SIIR0,t,args=(beta1,beta2, gamma1, gamma2, beta1int, beta2int, gamma1int, gamma2int)) \n",
    "    I1 = sir_res[:,1] + sir_res[:,3] + sir_res[:,7] \n",
    "    I2 = sir_res[:,2] + sir_res[:,3] + sir_res[:,6]\n",
    "    return I1,I2\n",
    "\n",
    "def fitErrorSIIR(params):\n",
    "    beta1,beta2, gamma1, gamma2, beta1int, beta2int, gamma1int, gamma2int = params\n",
    "    def normMSE(data,model):\n",
    "        n = len(data)\n",
    "        mse = ((data-model)**2).sum()\n",
    "        nmse = mse/(n*(data.sum()/n)*(model.sum()/n))\n",
    "        \n",
    "        return nmse\n",
    "    params_np = np.array(params)\n",
    "    k = 1 # penalization\n",
    "    if np.any(params_np<0):\n",
    "        k = 1000000\n",
    "    I1,I2 = fitSIIR(t_range, beta1,beta2, gamma1, gamma2, beta1int, beta2int, gamma1int, gamma2int)\n",
    "    sim = [normMSE(fluSeries[startdate:enddate],I1),normMSE(menSeries[startdate:enddate],I2)]\n",
    "    \n",
    "    return k * np.linalg.norm(sim)"
   ]
  },
  {
   "cell_type": "code",
   "execution_count": 8,
   "metadata": {},
   "outputs": [
    {
     "name": "stdout",
     "output_type": "stream",
     "text": [
      "Optimization terminated successfully.\n",
      "         Current function value: 562073.130291\n",
      "         Iterations: 1317\n",
      "         Function evaluations: 2023\n",
      "[  14.23654982   -0.07718278   13.68615309    0.44691791   82.57108416\n",
      "   20.70246824  164.90335581 -162.40128992] 562073.1302905496\n"
     ]
    }
   ],
   "source": [
    "p0=[fluParams[year][0],menParams[year][0],fluParams[year][1],menParams[year][1],\n",
    "    fluParams[year][0],menParams[year][0],fluParams[year][1],menParams[year][1]]\n",
    "\n",
    "#COBYLA\n",
    "#params = minimize(fitErrorSIIR,p0,options={'maxiter':10000},\n",
    "#        bounds=((0,None),(0,None),(0,None),(0,None),\n",
    "#               (0,None),(0,None),(0,None),(0,None)))\n",
    "\n",
    "answ=fmin(fitErrorSIIR,p0,full_output=1,maxiter=10000)\n",
    "params=answ[0]\n",
    "bestscore=answ[1]\n",
    "print(params,bestscore)"
   ]
  },
  {
   "cell_type": "code",
   "execution_count": 9,
   "metadata": {},
   "outputs": [],
   "source": [
    "beta1,beta2, gamma1, gamma2, beta1int, beta2int, gamma1int, gamma2int = params"
   ]
  },
  {
   "cell_type": "code",
   "execution_count": 10,
   "metadata": {},
   "outputs": [],
   "source": [
    "flu_menParams[year] = [beta1,beta2, gamma1, gamma2, beta1int, beta2int, gamma1int, gamma2int, bestscore]\n",
    "pkl.dump(flu_menParams, open(dataDir + 'pkls/flu_menSIIRParams.pkl','wb'))"
   ]
  },
  {
   "cell_type": "markdown",
   "metadata": {},
   "source": [
    "# Evaluation "
   ]
  },
  {
   "cell_type": "code",
   "execution_count": 11,
   "metadata": {},
   "outputs": [],
   "source": [
    "# Defining SIR isolated equations\n",
    "def SIR_eqs(SIR0,t, beta, gamma):\n",
    "    S0=SIR0[0]\n",
    "    I0=SIR0[1]\n",
    "    R0=SIR0[2]\n",
    "\n",
    "    S = - beta * S0 * I0/ausPop[year]\n",
    "    I = (beta * S0 * I0/ausPop[year]) - gamma * I0\n",
    "    R = gamma * I0\n",
    "\n",
    "    return (S,I,R)\n",
    "\n",
    "# Fitting function from infected data and I state on SIR model\n",
    "def fitSIR(t, beta, gamma):\n",
    "    return spi.odeint(SIR_eqs,SIR0,t_range,args=(beta,gamma))[:,1] "
   ]
  },
  {
   "cell_type": "markdown",
   "metadata": {},
   "source": [
    "## Influenza (isolated)"
   ]
  },
  {
   "cell_type": "code",
   "execution_count": 12,
   "metadata": {},
   "outputs": [],
   "source": [
    "# Timestamp parameters\n",
    "t_start = 0.0; t_end = n_months.months; t_inc = 0.01\n",
    "t_eval = np.arange(t_start, t_end+t_inc, t_inc)\n",
    "\n",
    "# Initial conditions\n",
    "S0 = (ausPop[year] - fluSeries[startdate])\n",
    "I0 = (fluSeries[startdate])\n",
    "R0 = 0\n",
    "\n",
    "SIR0 = [S0,I0,R0]"
   ]
  },
  {
   "cell_type": "code",
   "execution_count": 13,
   "metadata": {},
   "outputs": [],
   "source": [
    "def fluSIRSim(beta,gamma):    \n",
    "    return spi.odeint(SIR_eqs,SIR0,t_eval,args=(beta,gamma))"
   ]
  },
  {
   "cell_type": "code",
   "execution_count": 14,
   "metadata": {},
   "outputs": [],
   "source": [
    "betaFlu = fluParams[year][0]\n",
    "gammaFlu = fluParams[year][1]\n",
    "SIRflu = fluSIRSim(betaFlu,gammaFlu)\n",
    "Sflu = SIRflu[:,0]\n",
    "Iflu = SIRflu[:,1]\n",
    "Rflu = SIRflu[:,2]"
   ]
  },
  {
   "cell_type": "code",
   "execution_count": 15,
   "metadata": {},
   "outputs": [
    {
     "name": "stdout",
     "output_type": "stream",
     "text": [
      "Using matplotlib backend: Qt5Agg\n"
     ]
    }
   ],
   "source": [
    "%matplotlib\n",
    "\n",
    "plt.plot(t_range[:n_months.months+1], fluSeries[startdate:enddate].values,'ok',label=\"Original data\")\n",
    "plt.plot(t_eval,Iflu,'-r',label=\"Infected fit\")\n",
    "plt.show()\n",
    "plt.close()"
   ]
  },
  {
   "cell_type": "markdown",
   "metadata": {},
   "source": [
    "## Meningococcal (isolated)"
   ]
  },
  {
   "cell_type": "code",
   "execution_count": 16,
   "metadata": {},
   "outputs": [],
   "source": [
    "# Timestamp parameters\n",
    "t_start = 0.0; t_end = n_months.months; t_inc = 0.01\n",
    "t_eval = np.arange(t_start, t_end+t_inc, t_inc)\n",
    "\n",
    "# Initial conditions\n",
    "S0 = (ausPop[year] - menSeries[startdate])\n",
    "I0 = (menSeries[startdate])\n",
    "R0 = 0\n",
    "\n",
    "SIR0 = [S0,I0,R0]"
   ]
  },
  {
   "cell_type": "code",
   "execution_count": 17,
   "metadata": {},
   "outputs": [],
   "source": [
    "def menSIRSim(beta,gamma):    \n",
    "    return spi.odeint(SIR_eqs,SIR0,t_eval,args=(beta,gamma))"
   ]
  },
  {
   "cell_type": "code",
   "execution_count": 18,
   "metadata": {},
   "outputs": [],
   "source": [
    "betaMen = menParams[year][0]\n",
    "gammaMen = menParams[year][1]\n",
    "\n",
    "SIRmen = menSIRSim(betaMen,gammaMen)\n",
    "Smen = SIRmen[:,0]\n",
    "Imen = SIRmen[:,1]\n",
    "Rmen = SIRmen[:,2]"
   ]
  },
  {
   "cell_type": "code",
   "execution_count": 19,
   "metadata": {},
   "outputs": [
    {
     "name": "stdout",
     "output_type": "stream",
     "text": [
      "Using matplotlib backend: Qt5Agg\n"
     ]
    }
   ],
   "source": [
    "%matplotlib\n",
    "\n",
    "plt.plot(t_range[:n_months.months+1], menSeries[startdate:enddate].values,'ok',label=\"Original data\")\n",
    "plt.plot(t_eval,Imen,'-r',label=\"Infected fit\")\n",
    "plt.text(15, 60, r'$\\gamma = $' + str(gammaMen))\n",
    "plt.text(15, 64, r'$\\beta = $' + str(betaMen))\n",
    "plt.show()\n",
    "plt.close()"
   ]
  },
  {
   "cell_type": "markdown",
   "metadata": {},
   "source": [
    "## Influenza / Meningococcal (interactive)"
   ]
  },
  {
   "cell_type": "code",
   "execution_count": 20,
   "metadata": {},
   "outputs": [],
   "source": [
    "# Timestamp parameters\n",
    "t_start = 0.0; t_end = n_months.months; t_inc = 0.01\n",
    "t_eval = np.arange(t_start, t_end+t_inc, t_inc)\n",
    "\n",
    "# Initial conditions\n",
    "SIIR0 = np.zeros(9)\n",
    "SIIR0[1] = (fluSeries[startdate])\n",
    "SIIR0[2] = (menSeries[startdate])\n",
    "SIIR0[0] = ausPop[year] - np.sum(SIIR0[1:8])"
   ]
  },
  {
   "cell_type": "code",
   "execution_count": 21,
   "metadata": {},
   "outputs": [],
   "source": [
    "def menfluSIIRSim(beta1,beta2,gamma1, gamma2, beta1int, beta2int, gamma1int, gamma2int):    \n",
    "    return spi.odeint(SIIR_eqs,SIIR0,t_eval,args=(beta1,beta2, gamma1, gamma2, beta1int, beta2int, gamma1int, gamma2int)) "
   ]
  },
  {
   "cell_type": "code",
   "execution_count": 22,
   "metadata": {},
   "outputs": [],
   "source": [
    "SIIR = menfluSIIRSim(beta1,beta2,gamma1, gamma2, beta1int, beta2int, gamma1int, gamma2int)\n",
    "I1 = SIIR[:,1] + SIIR[:,3] + SIIR[:,7] \n",
    "I2 = SIIR[:,2] + SIIR[:,3] + SIIR[:,6]\n",
    " "
   ]
  },
  {
   "cell_type": "code",
   "execution_count": 23,
   "metadata": {},
   "outputs": [],
   "source": [
    "# Influenza\n",
    "\n",
    "plt.plot(t_range[:n_months.months+1], fluSeries[startdate:enddate].values,'ok',label=\"Original data\")\n",
    "plt.plot(t_eval,Iflu,'-r',label=\"Isolated infected fit\")\n",
    "plt.plot(t_eval,I1,'-b',label=\"Interactive infected fit\")\n",
    "plt.legend()\n",
    "plt.title(\"Influenza Year: \" + str(year))\n",
    "plt.savefig(imageDir + \"flu_menInteractive/fluInteractive_\" + str(year) + \".png\" )\n",
    "plt.show()\n",
    "plt.close()"
   ]
  },
  {
   "cell_type": "code",
   "execution_count": 24,
   "metadata": {},
   "outputs": [],
   "source": [
    "# Meningococcal\n",
    "plt.plot(t_range[:n_months.months+1], menSeries[startdate:enddate].values,'ok',label=\"Original data\")\n",
    "plt.plot(t_eval,Imen,'-r',label=\"Isolated infected fit\")\n",
    "plt.plot(t_eval,I2,'-b',label=\"Interactive infected fit\")\n",
    "plt.legend()\n",
    "plt.title(\"Meningococcal Year: \" + str(year))\n",
    "plt.savefig(imageDir + \"flu_menInteractive/menInteractive_\" + str(year) + \".png\" )\n",
    "plt.show()\n",
    "plt.close()"
   ]
  },
  {
   "cell_type": "code",
   "execution_count": 25,
   "metadata": {},
   "outputs": [
    {
     "name": "stdout",
     "output_type": "stream",
     "text": [
      "(14.236549816932914, -0.0771827777403828, 13.686153087039028, 0.4469179067138495, 82.57108415821145, 20.702468240521597, 164.90335580780433, -162.4012899185341)\n",
      "14.199845208468432 -0.0019203871490743678 13.651995896143694 -0.020079890030061442\n"
     ]
    }
   ],
   "source": [
    "params = (beta1,beta2,gamma1,gamma2,beta1int,beta2int,gamma1int, gamma2int)\n",
    "print(params)\n",
    "print(betaFlu,betaMen,gammaFlu,gammaMen)"
   ]
  }
 ],
 "metadata": {
  "kernelspec": {
   "display_name": "Python 3",
   "language": "python",
   "name": "python3"
  },
  "language_info": {
   "codemirror_mode": {
    "name": "ipython",
    "version": 3
   },
   "file_extension": ".py",
   "mimetype": "text/x-python",
   "name": "python",
   "nbconvert_exporter": "python",
   "pygments_lexer": "ipython3",
   "version": "3.7.7"
  }
 },
 "nbformat": 4,
 "nbformat_minor": 4
}
