{
 "cells": [
  {
   "cell_type": "code",
   "execution_count": 1,
   "metadata": {},
   "outputs": [],
   "source": [
    "import numpy as np\n",
    "import pandas as pd\n",
    "import pickle as pkl  \n",
    "import matplotlib.pyplot as plt\n",
    "\n",
    "dataDir = \"/home/polivares/Dropbox/DocUSM/Researches/InfluenzaMeningococcal/Data/\""
   ]
  },
  {
   "cell_type": "code",
   "execution_count": null,
   "metadata": {},
   "outputs": [],
   "source": [
    "# Input data\n",
    "fluData = pd.read_excel(dataDir + \"influenza.xlsx\")\n",
    "menData = pd.read_excel(dataDir + \"meningococcal.xlsx\")"
   ]
  },
  {
   "cell_type": "code",
   "execution_count": null,
   "metadata": {},
   "outputs": [],
   "source": [
    "# Translation columns\n",
    "#####################\n",
    "\n",
    "# Months name to number\n",
    "monthNumber = {\n",
    "    'January': 1,\n",
    "    'February': 2,\n",
    "    'March': 3,\n",
    "    'April': 4,\n",
    "    'May': 5,\n",
    "    'June': 6,\n",
    "    'July': 7,\n",
    "    'August': 8,\n",
    "    'September': 9,\n",
    "    'October': 10,\n",
    "    'November': 11,\n",
    "    'December': 12\n",
    "}\n",
    "\n",
    "\n",
    "# Age group to number\n",
    "ageGroupNumber = {\n",
    "    '00-04': 1,\n",
    "    '05-09': 2,\n",
    "    '10-14': 3,\n",
    "    '15-19': 4,\n",
    "    '20-24': 5,\n",
    "    '25-29': 6,\n",
    "    '30-34': 7,\n",
    "    '35-39': 8,\n",
    "    '40-44': 9,\n",
    "    '45-49': 10,\n",
    "    '50-54': 11,\n",
    "    '55-59': 12,\n",
    "    '60-64': 13,\n",
    "    '65-69': 14,\n",
    "    '70-74': 15,\n",
    "    '75-79': 16,\n",
    "    '80-85': 17,\n",
    "    '85+': 18\n",
    "}"
   ]
  },
  {
   "cell_type": "code",
   "execution_count": null,
   "metadata": {},
   "outputs": [],
   "source": [
    "# Menigococal Data\n",
    "menData['Month'] = menData['Month'].str.strip()\n",
    "menData['monthNumber'] = menData['Month'].map(monthNumber)\n",
    "menData['date'] = pd.to_datetime(menData['monthNumber'].astype(str).str.cat(menData['Year'].astype(str),sep=\"-\")).dt.strftime('%Y-%m')\n",
    "\n",
    "# Influenza Data\n",
    "fluData['date'] = pd.to_datetime(fluData['Week ending'].dt.month.astype(str).str.cat(fluData['Week ending'].dt.year.astype(str),sep=\"-\")).dt.strftime('%Y-%m')"
   ]
  },
  {
   "cell_type": "code",
   "execution_count": null,
   "metadata": {},
   "outputs": [],
   "source": [
    "# Adding population of australia\n",
    "# Source: http://www.worldometers.info/world-population/australia-population/\n",
    "ausPop = {2008: 21342493,\n",
    "          2009: 21739040,\n",
    "          2010: 22120064,\n",
    "          2011: 22479799,\n",
    "          2012: 22821849,\n",
    "          2013: 23150729,\n",
    "          2014: 23474668,\n",
    "          2015: 23799556,\n",
    "          2016: 24125848,\n",
    "          2017: 24450561,\n",
    "          2018: 24772247\n",
    "         }\n",
    "\n",
    "# Saving Australia's population\n",
    "pkl.dump(ausPop, open(dataDir + 'pkls/ausPop.pkl','wb'))\n",
    "\n",
    "menData['ausPop'] = pd.to_datetime(menData.date).dt.year.map(ausPop)\n",
    "fluData['ausPop'] = pd.to_datetime(fluData.date).dt.year.map(ausPop)"
   ]
  },
  {
   "cell_type": "code",
   "execution_count": null,
   "metadata": {},
   "outputs": [],
   "source": [
    "# Date Range\n",
    "dateRange = {\n",
    "    2008: ['2008-06','2008-12'],\n",
    "    2009: ['2009-04','2009-11'],\n",
    "    2010: ['2010-05','2010-12'],\n",
    "    2011: ['2011-05','2011-12'],\n",
    "    2012: ['2012-04','2012-11'],\n",
    "    2013: ['2013-05','2013-12'],\n",
    "    2014:['2014-05','2014-12'],\n",
    "    2015:['2015-02','2015-12'],\n",
    "    2016:['2016-05','2016-12'],\n",
    "    2017:['2017-05','2017-12']\n",
    "}\n",
    "\n",
    "# Saving date range\n",
    "pkl.dump(dateRange, open(dataDir + 'pkls/dateRange.pkl','wb'))"
   ]
  },
  {
   "cell_type": "code",
   "execution_count": null,
   "metadata": {},
   "outputs": [],
   "source": [
    "# Data to pickle\n",
    "menData.to_pickle(dataDir + \"pkls/menData.pkl\")\n",
    "fluData.to_pickle(dataDir + \"pkls/fluData.pkl\")"
   ]
  },
  {
   "cell_type": "code",
   "execution_count": null,
   "metadata": {},
   "outputs": [],
   "source": [
    "# Influenza data group\n",
    "# When this cell is running, any column has the count information (Sex column is selected)\n",
    "# Aggrupation made by year-month\n",
    "fluSeries = fluData.groupby(\"date\").count()['Sex'].rename(\"Flu\")\n",
    "fluSeries.to_pickle(dataDir + \"pkls/fluSeries.pkl\")"
   ]
  },
  {
   "cell_type": "code",
   "execution_count": null,
   "metadata": {},
   "outputs": [],
   "source": [
    "# Meningococcal data group\n",
    "# When this cell is running, any column has the count information (Sex column is selected)\n",
    "# Aggrupation made by year-month\n",
    "menSeries = menData.groupby(\"date\").count()['Sex'].rename(\"Men\")\n",
    "menSeries.to_pickle(dataDir + \"pkls/menSeries.pkl\")"
   ]
  },
  {
   "cell_type": "markdown",
   "metadata": {},
   "source": [
    "# Visualizing data"
   ]
  },
  {
   "cell_type": "code",
   "execution_count": 2,
   "metadata": {},
   "outputs": [],
   "source": [
    "# Loading data\n",
    "menSeries = pd.read_pickle(dataDir + \"pkls/menSeries.pkl\")\n",
    "fluSeries = pd.read_pickle(dataDir + \"pkls/fluSeries.pkl\")\n",
    "ausPop = pd.read_pickle(dataDir + \"pkls/ausPop.pkl\")"
   ]
  },
  {
   "cell_type": "markdown",
   "metadata": {},
   "source": [
    "## Influenza"
   ]
  },
  {
   "cell_type": "code",
   "execution_count": 4,
   "metadata": {},
   "outputs": [
    {
     "name": "stdout",
     "output_type": "stream",
     "text": [
      "Using matplotlib backend: Qt5Agg\n"
     ]
    }
   ],
   "source": [
    "# Influenza plot grouped data by year-month\n",
    "%matplotlib\n",
    "plt.plot(fluSeries)\n",
    "plt.title(\"Influenza 2009-2018\")\n",
    "plt.xticks(rotation=90)\n",
    "plt.show()"
   ]
  },
  {
   "cell_type": "markdown",
   "metadata": {},
   "source": [
    "## Meningococcal"
   ]
  },
  {
   "cell_type": "code",
   "execution_count": 3,
   "metadata": {},
   "outputs": [
    {
     "name": "stdout",
     "output_type": "stream",
     "text": [
      "Using matplotlib backend: Qt5Agg\n"
     ]
    }
   ],
   "source": [
    "# Meningococcal plot grouped data by year-month\n",
    "%matplotlib\n",
    "plt.plot(menSeries)\n",
    "plt.title(\"Meningococcal 2009-2017\")\n",
    "plt.xticks(rotation=90)\n",
    "plt.show()"
   ]
  }
 ],
 "metadata": {
  "kernelspec": {
   "display_name": "Python 3",
   "language": "python",
   "name": "python3"
  },
  "language_info": {
   "codemirror_mode": {
    "name": "ipython",
    "version": 3
   },
   "file_extension": ".py",
   "mimetype": "text/x-python",
   "name": "python",
   "nbconvert_exporter": "python",
   "pygments_lexer": "ipython3",
   "version": "3.7.7"
  }
 },
 "nbformat": 4,
 "nbformat_minor": 4
}
