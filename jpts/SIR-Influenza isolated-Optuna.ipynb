{
 "cells": [
  {
   "cell_type": "code",
   "execution_count": 1,
   "metadata": {},
   "outputs": [],
   "source": [
    "import pandas as pd\n",
    "import matplotlib.pyplot as plt\n",
    "import scipy.integrate as spi\n",
    "from scipy.optimize import curve_fit\n",
    "import numpy as np\n",
    "import matplotlib \n",
    "import optuna\n",
    "import pickle as pkl  \n",
    "np.set_printoptions(suppress=True)\n",
    "plt.rc('text', usetex=True)\n",
    "\n",
    "dataDir = \"/home/polivares/Dropbox/DocUSM/Researches/InfluenzaMeningococcal/Data/\"\n",
    "imageDir = \"/home/polivares/Dropbox/DocUSM/Researches/InfluenzaMeningococcal/Scripts/images/\""
   ]
  },
  {
   "cell_type": "code",
   "execution_count": 2,
   "metadata": {},
   "outputs": [],
   "source": [
    "# Load data\n",
    "fluSeries = pd.read_pickle(dataDir + \"pkls/fluSeries.pkl\")\n",
    "ausPop = pd.read_pickle(dataDir + \"pkls/ausPop.pkl\")"
   ]
  },
  {
   "cell_type": "code",
   "execution_count": null,
   "metadata": {},
   "outputs": [],
   "source": [
    "import os\n",
    "if os.path.isfile(dataDir + \"pkls/fluSIRParams.pkl\"):\n",
    "    fluParams = pkl.load(open(dataDir + \"pkls/fluSIRParams.pkl\", \"rb\"))\n",
    "else:\n",
    "    fluParams = {}"
   ]
  },
  {
   "cell_type": "code",
   "execution_count": null,
   "metadata": {},
   "outputs": [],
   "source": [
    "# Evaluation time\n",
    "from datetime import datetime # Library for datetime format\n",
    "from dateutil import relativedelta # Library to calculate delta time from date\n",
    "\n",
    "year = 2017\n",
    "startdate = str(year) + '-01'\n",
    "enddate = str(year) + '-12'\n",
    "\n",
    "\n",
    "date_format = \"%Y-%m\"\n",
    "sd = datetime.strptime(startdate, date_format)\n",
    "ed = datetime.strptime(enddate, date_format)\n",
    "\n",
    "n_months = relativedelta.relativedelta(ed, sd) # Number of months (delta time)\n",
    "print(n_months)"
   ]
  },
  {
   "cell_type": "code",
   "execution_count": null,
   "metadata": {},
   "outputs": [],
   "source": [
    "# Timestamp parameters\n",
    "t_start = 0.0; t_end = n_months.months; t_inc = 1\n",
    "t_range = np.arange(t_start, t_end+t_inc, t_inc)\n",
    "\n",
    "# Initial conditions\n",
    "S0 = (ausPop[year] - fluSeries[startdate])\n",
    "I0 = (fluSeries[startdate])\n",
    "R0 = 0\n",
    "\n",
    "SIR0 = [S0,I0,R0]"
   ]
  },
  {
   "cell_type": "code",
   "execution_count": 8,
   "metadata": {},
   "outputs": [],
   "source": [
    "# Defining SIR isolated equations\n",
    "def SIR_eqs(SIR0,t, beta, gamma):\n",
    "    S0=SIR0[0]\n",
    "    I0=SIR0[1]\n",
    "    R0=SIR0[2]\n",
    "\n",
    "    S = - beta * S0 * I0/ausPop[year]\n",
    "    I = (beta * S0 * I0/ausPop[year]) - gamma * I0\n",
    "    R = gamma * I0\n",
    "\n",
    "    return (S,I,R)\n",
    "\n",
    "# Fitting function from infected data and I state on SIR model\n",
    "def fitSIR(t, beta, gamma):\n",
    "    return spi.odeint(SIR_eqs,SIR0,t_range,args=(beta,gamma))[:,1] \n",
    "\n",
    "def fitErrorSIR(trial):\n",
    "     #(9.00165750105233, 69.35210027387456, 8.35506567120736, 69.35957442372714, 10.060360325775953, 97.56183004648915, 4.957084610524714, 53.932494914485716)\n",
    "    #beta1 = trial.suggest_float(\"beta1\",8,10,step=0.0001)\n",
    "    beta = trial.suggest_float(\"beta\",1,100,step=0.0001)\n",
    "    gamma = trial.suggest_float(\"gamma\",1,150,step=0.0001)\n",
    "    #w = trial.suggest_float(\"w\",1,100)\n",
    "    SIR_Res=fitSIR(t_range, beta, gamma)\n",
    "    \n",
    "    #c.Score Difference between model and data points\n",
    "    def normMSE(data,model):\n",
    "        n = len(data)\n",
    "        mse = ((data-model)**2).sum()\n",
    "        nmse = mse/(n*(data.sum()/n)*(model.sum()/n))\n",
    "        \n",
    "        return nmse\n",
    "\n",
    "    return normMSE(fluSeries[startdate:enddate],SIR_Res)"
   ]
  },
  {
   "cell_type": "code",
   "execution_count": 9,
   "metadata": {
    "tags": [
     "outputPrepend"
    ]
   },
   "outputs": [
    {
     "output_type": "stream",
     "name": "stderr",
     "text": [
      "mma': 9.7466}. Best is trial 677 with value: 0.8064393373100058.\u001b[0m\n",
      "\u001b[32m[I 2021-03-30 03:27:44,070]\u001b[0m Trial 4900 finished with value: 534.0477364372736 and parameters: {'beta': 11.390500000000001, 'gamma': 1.0557}. Best is trial 677 with value: 0.8064393373100058.\u001b[0m\n",
      "\u001b[32m[I 2021-03-30 03:27:44,224]\u001b[0m Trial 4901 finished with value: 338.09339770571717 and parameters: {'beta': 3.5504000000000002, 'gamma': 7.8262}. Best is trial 677 with value: 0.8064393373100058.\u001b[0m\n",
      "\u001b[32m[I 2021-03-30 03:27:44,346]\u001b[0m Trial 4902 finished with value: 187.37197238590443 and parameters: {'beta': 8.208300000000001, 'gamma': 3.6261}. Best is trial 677 with value: 0.8064393373100058.\u001b[0m\n",
      "\u001b[32m[I 2021-03-30 03:27:44,459]\u001b[0m Trial 4903 finished with value: 326.3156175438256 and parameters: {'beta': 13.1533, 'gamma': 16.180100000000003}. Best is trial 677 with value: 0.8064393373100058.\u001b[0m\n",
      "\u001b[32m[I 2021-03-30 03:27:44,564]\u001b[0m Trial 4904 finished with value: 315.46451290607104 and parameters: {'beta': 9.5458, 'gamma': 12.0702}. Best is trial 677 with value: 0.8064393373100058.\u001b[0m\n",
      "\u001b[32m[I 2021-03-30 03:27:44,701]\u001b[0m Trial 4905 finished with value: 342.8603698397529 and parameters: {'beta': 4.7798, 'gamma': 39.9495}. Best is trial 677 with value: 0.8064393373100058.\u001b[0m\n",
      "\u001b[32m[I 2021-03-30 03:27:44,804]\u001b[0m Trial 4906 finished with value: 448.4822982969758 and parameters: {'beta': 7.2331, 'gamma': 1.0392}. Best is trial 677 with value: 0.8064393373100058.\u001b[0m\n",
      "\u001b[32m[I 2021-03-30 03:27:44,925]\u001b[0m Trial 4907 finished with value: 234.96586323680515 and parameters: {'beta': 17.3827, 'gamma': 7.5183}. Best is trial 677 with value: 0.8064393373100058.\u001b[0m\n",
      "\u001b[32m[I 2021-03-30 03:27:45,040]\u001b[0m Trial 4908 finished with value: 342.83903601465687 and parameters: {'beta': 10.9025, 'gamma': 20.585900000000002}. Best is trial 677 with value: 0.8064393373100058.\u001b[0m\n",
      "\u001b[32m[I 2021-03-30 03:27:45,341]\u001b[0m Trial 4909 finished with value: 341.26250931950165 and parameters: {'beta': 9.0854, 'gamma': 14.4527}. Best is trial 677 with value: 0.8064393373100058.\u001b[0m\n",
      "\u001b[32m[I 2021-03-30 03:27:45,509]\u001b[0m Trial 4910 finished with value: 26.7998544653266 and parameters: {'beta': 13.772400000000001, 'gamma': 10.4597}. Best is trial 677 with value: 0.8064393373100058.\u001b[0m\n",
      "\u001b[32m[I 2021-03-30 03:27:45,623]\u001b[0m Trial 4911 finished with value: 342.8603698397123 and parameters: {'beta': 6.2645, 'gamma': 65.3208}. Best is trial 677 with value: 0.8064393373100058.\u001b[0m\n",
      "\u001b[32m[I 2021-03-30 03:27:45,758]\u001b[0m Trial 4912 finished with value: 84.14103173562559 and parameters: {'beta': 11.9725, 'gamma': 4.9333}. Best is trial 677 with value: 0.8064393373100058.\u001b[0m\n",
      "\u001b[32m[I 2021-03-30 03:27:45,871]\u001b[0m Trial 4913 finished with value: 289.1754609596496 and parameters: {'beta': 8.141300000000001, 'gamma': 9.9933}. Best is trial 677 with value: 0.8064393373100058.\u001b[0m\n",
      "\u001b[32m[I 2021-03-30 03:27:45,976]\u001b[0m Trial 4914 finished with value: 15.613592302185058 and parameters: {'beta': 9.682400000000001, 'gamma': 7.8375}. Best is trial 677 with value: 0.8064393373100058.\u001b[0m\n",
      "\u001b[32m[I 2021-03-30 03:27:46,077]\u001b[0m Trial 4915 finished with value: 342.76286630116573 and parameters: {'beta': 5.4732, 'gamma': 13.638300000000001}. Best is trial 677 with value: 0.8064393373100058.\u001b[0m\n",
      "\u001b[32m[I 2021-03-30 03:27:46,194]\u001b[0m Trial 4916 finished with value: 131.02010282072405 and parameters: {'beta': 10.996400000000001, 'gamma': 3.4763}. Best is trial 677 with value: 0.8064393373100058.\u001b[0m\n",
      "\u001b[32m[I 2021-03-30 03:27:46,326]\u001b[0m Trial 4917 finished with value: 342.86036983970996 and parameters: {'beta': 7.6295, 'gamma': 107.8416}. Best is trial 677 with value: 0.8064393373100058.\u001b[0m\n",
      "\u001b[32m[I 2021-03-30 03:27:46,431]\u001b[0m Trial 4918 finished with value: 189.2690462261893 and parameters: {'beta': 19.436500000000002, 'gamma': 6.6240000000000006}. Best is trial 677 with value: 0.8064393373100058.\u001b[0m\n",
      "\u001b[32m[I 2021-03-30 03:27:46,541]\u001b[0m Trial 4919 finished with value: 34.16992098945064 and parameters: {'beta': 15.2559, 'gamma': 11.399600000000001}. Best is trial 677 with value: 0.8064393373100058.\u001b[0m\n",
      "\u001b[32m[I 2021-03-30 03:27:46,659]\u001b[0m Trial 4920 finished with value: 118.84436262443137 and parameters: {'beta': 9.7361, 'gamma': 5.3607000000000005}. Best is trial 677 with value: 0.8064393373100058.\u001b[0m\n",
      "\u001b[32m[I 2021-03-30 03:27:46,789]\u001b[0m Trial 4921 finished with value: 342.86031643003895 and parameters: {'beta': 2.6508000000000003, 'gamma': 18.3261}. Best is trial 677 with value: 0.8064393373100058.\u001b[0m\n",
      "\u001b[32m[I 2021-03-30 03:27:46,894]\u001b[0m Trial 4922 finished with value: 46.42356390323978 and parameters: {'beta': 12.769200000000001, 'gamma': 9.001900000000001}. Best is trial 677 with value: 0.8064393373100058.\u001b[0m\n",
      "\u001b[32m[I 2021-03-30 03:27:46,995]\u001b[0m Trial 4923 finished with value: 342.1958023285245 and parameters: {'beta': 6.5357, 'gamma': 12.7812}. Best is trial 677 with value: 0.8064393373100058.\u001b[0m\n",
      "\u001b[32m[I 2021-03-30 03:27:47,106]\u001b[0m Trial 4924 finished with value: 221.65714867069238 and parameters: {'beta': 8.3261, 'gamma': 3.3713}. Best is trial 677 with value: 0.8064393373100058.\u001b[0m\n",
      "\u001b[32m[I 2021-03-30 03:27:47,216]\u001b[0m Trial 4925 finished with value: 11.285659736818657 and parameters: {'beta': 11.1841, 'gamma': 9.3971}. Best is trial 677 with value: 0.8064393373100058.\u001b[0m\n",
      "\u001b[32m[I 2021-03-30 03:27:47,353]\u001b[0m Trial 4926 finished with value: 342.8491354168947 and parameters: {'beta': 4.745900000000001, 'gamma': 15.0721}. Best is trial 677 with value: 0.8064393373100058.\u001b[0m\n",
      "\u001b[32m[I 2021-03-30 03:27:47,452]\u001b[0m Trial 4927 finished with value: 29.609094771312876 and parameters: {'beta': 9.5138, 'gamma': 7.085}. Best is trial 677 with value: 0.8064393373100058.\u001b[0m\n",
      "\u001b[32m[I 2021-03-30 03:27:47,563]\u001b[0m Trial 4928 finished with value: 11.040421837949458 and parameters: {'beta': 13.3408, 'gamma': 11.2955}. Best is trial 677 with value: 0.8064393373100058.\u001b[0m\n",
      "\u001b[32m[I 2021-03-30 03:27:47,678]\u001b[0m Trial 4929 finished with value: 128.80897351110528 and parameters: {'beta': 7.5339, 'gamma': 3.5268}. Best is trial 677 with value: 0.8064393373100058.\u001b[0m\n",
      "\u001b[32m[I 2021-03-30 03:27:47,782]\u001b[0m Trial 4930 finished with value: 83.33682264788426 and parameters: {'beta': 11.3209, 'gamma': 7.0052}. Best is trial 677 with value: 0.8064393373100058.\u001b[0m\n",
      "\u001b[32m[I 2021-03-30 03:27:47,896]\u001b[0m Trial 4931 finished with value: 340.3950606380898 and parameters: {'beta': 5.6705000000000005, 'gamma': 10.6052}. Best is trial 677 with value: 0.8064393373100058.\u001b[0m\n",
      "\u001b[32m[I 2021-03-30 03:27:48,004]\u001b[0m Trial 4932 finished with value: 340.4887686785257 and parameters: {'beta': 9.405000000000001, 'gamma': 14.3772}. Best is trial 677 with value: 0.8064393373100058.\u001b[0m\n",
      "\u001b[32m[I 2021-03-30 03:27:48,105]\u001b[0m Trial 4933 finished with value: 53.69085031117512 and parameters: {'beta': 7.879300000000001, 'gamma': 5.2208000000000006}. Best is trial 677 with value: 0.8064393373100058.\u001b[0m\n",
      "\u001b[32m[I 2021-03-30 03:27:48,222]\u001b[0m Trial 4934 finished with value: 340.6489037427924 and parameters: {'beta': 3.4703, 'gamma': 8.5142}. Best is trial 677 with value: 0.8064393373100058.\u001b[0m\n",
      "\u001b[32m[I 2021-03-30 03:27:48,331]\u001b[0m Trial 4935 finished with value: 242.07149050528378 and parameters: {'beta': 10.982000000000001, 'gamma': 12.2006}. Best is trial 677 with value: 0.8064393373100058.\u001b[0m\n",
      "\u001b[32m[I 2021-03-30 03:27:48,452]\u001b[0m Trial 4936 finished with value: 124.83457746837497 and parameters: {'beta': 6.7937, 'gamma': 3.1211}. Best is trial 677 with value: 0.8064393373100058.\u001b[0m\n",
      "\u001b[32m[I 2021-03-30 03:27:48,558]\u001b[0m Trial 4937 finished with value: 332.22893728718657 and parameters: {'beta': 69.556, 'gamma': 16.5427}. Best is trial 677 with value: 0.8064393373100058.\u001b[0m\n",
      "\u001b[32m[I 2021-03-30 03:27:48,674]\u001b[0m Trial 4938 finished with value: 55.77702182299959 and parameters: {'beta': 14.3146, 'gamma': 7.633100000000001}. Best is trial 677 with value: 0.8064393373100058.\u001b[0m\n",
      "\u001b[32m[I 2021-03-30 03:27:48,783]\u001b[0m Trial 4939 finished with value: 14.178766835565664 and parameters: {'beta': 12.3881, 'gamma': 10.206900000000001}. Best is trial 677 with value: 0.8064393373100058.\u001b[0m\n",
      "\u001b[32m[I 2021-03-30 03:27:48,906]\u001b[0m Trial 4940 finished with value: 338.98025925317546 and parameters: {'beta': 9.5771, 'gamma': 1.0966}. Best is trial 677 with value: 0.8064393373100058.\u001b[0m\n",
      "\u001b[32m[I 2021-03-30 03:27:49,007]\u001b[0m Trial 4941 finished with value: 342.86036983971 and parameters: {'beta': 5.0244, 'gamma': 80.56660000000001}. Best is trial 677 with value: 0.8064393373100058.\u001b[0m\n",
      "\u001b[32m[I 2021-03-30 03:27:49,111]\u001b[0m Trial 4942 finished with value: 44.17255800169711 and parameters: {'beta': 7.8973, 'gamma': 5.4306}. Best is trial 677 with value: 0.8064393373100058.\u001b[0m\n",
      "\u001b[32m[I 2021-03-30 03:27:49,238]\u001b[0m Trial 4943 finished with value: 314.9015609629333 and parameters: {'beta': 10.5901, 'gamma': 13.0935}. Best is trial 677 with value: 0.8064393373100058.\u001b[0m\n",
      "\u001b[32m[I 2021-03-30 03:27:49,386]\u001b[0m Trial 4944 finished with value: 172.91580896555203 and parameters: {'beta': 7.9869, 'gamma': 8.6842}. Best is trial 677 with value: 0.8064393373100058.\u001b[0m\n",
      "\u001b[32m[I 2021-03-30 03:27:49,504]\u001b[0m Trial 4945 finished with value: 342.6326075022698 and parameters: {'beta': 15.5888, 'gamma': 22.902}. Best is trial 677 with value: 0.8064393373100058.\u001b[0m\n",
      "\u001b[32m[I 2021-03-30 03:27:49,623]\u001b[0m Trial 4946 finished with value: 12.393472140059762 and parameters: {'beta': 61.0493, 'gamma': 6.091200000000001}. Best is trial 677 with value: 0.8064393373100058.\u001b[0m\n",
      "\u001b[32m[I 2021-03-30 03:27:49,734]\u001b[0m Trial 4947 finished with value: 603.6924016451679 and parameters: {'beta': 12.3629, 'gamma': 1.0613}. Best is trial 677 with value: 0.8064393373100058.\u001b[0m\n",
      "\u001b[32m[I 2021-03-30 03:27:49,877]\u001b[0m Trial 4948 finished with value: 341.1981709112688 and parameters: {'beta': 6.0576, 'gamma': 11.3864}. Best is trial 677 with value: 0.8064393373100058.\u001b[0m\n",
      "\u001b[32m[I 2021-03-30 03:27:49,976]\u001b[0m Trial 4949 finished with value: 342.10679215848495 and parameters: {'beta': 9.689400000000001, 'gamma': 15.808200000000001}. Best is trial 677 with value: 0.8064393373100058.\u001b[0m\n",
      "\u001b[32m[I 2021-03-30 03:27:50,084]\u001b[0m Trial 4950 finished with value: 340.2550668241151 and parameters: {'beta': 3.9392, 'gamma': 8.8191}. Best is trial 677 with value: 0.8064393373100058.\u001b[0m\n",
      "\u001b[32m[I 2021-03-30 03:27:50,218]\u001b[0m Trial 4951 finished with value: 115.39376231761909 and parameters: {'beta': 11.079, 'gamma': 3.7422}. Best is trial 677 with value: 0.8064393373100058.\u001b[0m\n",
      "\u001b[32m[I 2021-03-30 03:27:50,353]\u001b[0m Trial 4952 finished with value: 14.976132555060575 and parameters: {'beta': 8.4062, 'gamma': 6.8138000000000005}. Best is trial 677 with value: 0.8064393373100058.\u001b[0m\n",
      "\u001b[32m[I 2021-03-30 03:27:50,459]\u001b[0m Trial 4953 finished with value: 2.767945254910063 and parameters: {'beta': 13.604000000000001, 'gamma': 12.758600000000001}. Best is trial 677 with value: 0.8064393373100058.\u001b[0m\n",
      "\u001b[32m[I 2021-03-30 03:27:50,575]\u001b[0m Trial 4954 finished with value: 334.5404824221717 and parameters: {'beta': 6.113700000000001, 'gamma': 9.831800000000001}. Best is trial 677 with value: 0.8064393373100058.\u001b[0m\n",
      "\u001b[32m[I 2021-03-30 03:27:50,689]\u001b[0m Trial 4955 finished with value: 342.6524522579946 and parameters: {'beta': 10.8163, 'gamma': 18.2226}. Best is trial 677 with value: 0.8064393373100058.\u001b[0m\n",
      "\u001b[32m[I 2021-03-30 03:27:50,827]\u001b[0m Trial 4956 finished with value: 54.63284673612299 and parameters: {'beta': 8.507200000000001, 'gamma': 5.5219000000000005}. Best is trial 677 with value: 0.8064393373100058.\u001b[0m\n",
      "\u001b[32m[I 2021-03-30 03:27:50,937]\u001b[0m Trial 4957 finished with value: 113.96640799426687 and parameters: {'beta': 6.697500000000001, 'gamma': 3.4017}. Best is trial 677 with value: 0.8064393373100058.\u001b[0m\n",
      "\u001b[32m[I 2021-03-30 03:27:51,048]\u001b[0m Trial 4958 finished with value: 334.45564876876284 and parameters: {'beta': 9.6761, 'gamma': 13.3826}. Best is trial 677 with value: 0.8064393373100058.\u001b[0m\n",
      "\u001b[32m[I 2021-03-30 03:27:51,148]\u001b[0m Trial 4959 finished with value: 32.034861248820626 and parameters: {'beta': 12.8655, 'gamma': 9.4716}. Best is trial 677 with value: 0.8064393373100058.\u001b[0m\n",
      "\u001b[32m[I 2021-03-30 03:27:51,245]\u001b[0m Trial 4960 finished with value: 340.1377819821693 and parameters: {'beta': 2.2416, 'gamma': 7.0778}. Best is trial 677 with value: 0.8064393373100058.\u001b[0m\n",
      "\u001b[32m[I 2021-03-30 03:27:51,375]\u001b[0m Trial 4961 finished with value: 327.16395401626 and parameters: {'beta': 8.0611, 'gamma': 11.143500000000001}. Best is trial 677 with value: 0.8064393373100058.\u001b[0m\n",
      "\u001b[32m[I 2021-03-30 03:27:51,481]\u001b[0m Trial 4962 finished with value: 395.3063076282929 and parameters: {'beta': 16.6304, 'gamma': 3.4665}. Best is trial 677 with value: 0.8064393373100058.\u001b[0m\n",
      "\u001b[32m[I 2021-03-30 03:27:51,584]\u001b[0m Trial 4963 finished with value: 315.75694207141214 and parameters: {'beta': 11.778, 'gamma': 14.3117}. Best is trial 677 with value: 0.8064393373100058.\u001b[0m\n",
      "\u001b[32m[I 2021-03-30 03:27:51,684]\u001b[0m Trial 4964 finished with value: 335.6928305094131 and parameters: {'beta': 4.4922, 'gamma': 1.0534}. Best is trial 677 with value: 0.8064393373100058.\u001b[0m\n",
      "\u001b[32m[I 2021-03-30 03:27:51,786]\u001b[0m Trial 4965 finished with value: 29.548579386099803 and parameters: {'beta': 10.1282, 'gamma': 7.5395}. Best is trial 677 with value: 0.8064393373100058.\u001b[0m\n",
      "\u001b[32m[I 2021-03-30 03:27:51,923]\u001b[0m Trial 4966 finished with value: 332.78745113103145 and parameters: {'beta': 7.118600000000001, 'gamma': 10.645100000000001}. Best is trial 677 with value: 0.8064393373100058.\u001b[0m\n",
      "\u001b[32m[I 2021-03-30 03:27:52,031]\u001b[0m Trial 4967 finished with value: 237.24834153893192 and parameters: {'beta': 14.3202, 'gamma': 5.5896}. Best is trial 677 with value: 0.8064393373100058.\u001b[0m\n",
      "\u001b[32m[I 2021-03-30 03:27:52,149]\u001b[0m Trial 4968 finished with value: 342.64732358205316 and parameters: {'beta': 9.3874, 'gamma': 16.7698}. Best is trial 677 with value: 0.8064393373100058.\u001b[0m\n",
      "\u001b[32m[I 2021-03-30 03:27:52,276]\u001b[0m Trial 4969 finished with value: 356.1088742005606 and parameters: {'beta': 5.5861, 'gamma': 1.0394}. Best is trial 677 with value: 0.8064393373100058.\u001b[0m\n",
      "\u001b[32m[I 2021-03-30 03:27:52,395]\u001b[0m Trial 4970 finished with value: 22.28362324784972 and parameters: {'beta': 11.871400000000001, 'gamma': 9.1084}. Best is trial 677 with value: 0.8064393373100058.\u001b[0m\n",
      "\u001b[32m[I 2021-03-30 03:27:52,540]\u001b[0m Trial 4971 finished with value: 332.24902121694817 and parameters: {'beta': 8.580200000000001, 'gamma': 12.054}. Best is trial 677 with value: 0.8064393373100058.\u001b[0m\n",
      "\u001b[32m[I 2021-03-30 03:27:52,645]\u001b[0m Trial 4972 finished with value: 458.24971360778187 and parameters: {'beta': 6.8803, 'gamma': 1.0654}. Best is trial 677 with value: 0.8064393373100058.\u001b[0m\n",
      "\u001b[32m[I 2021-03-30 03:27:52,793]\u001b[0m Trial 4973 finished with value: 98.4805614012245 and parameters: {'beta': 10.5082, 'gamma': 6.1877}. Best is trial 677 with value: 0.8064393373100058.\u001b[0m\n",
      "\u001b[32m[I 2021-03-30 03:27:52,898]\u001b[0m Trial 4974 finished with value: 338.27188522188254 and parameters: {'beta': 4.2442, 'gamma': 8.558}. Best is trial 677 with value: 0.8064393373100058.\u001b[0m\n",
      "\u001b[32m[I 2021-03-30 03:27:53,026]\u001b[0m Trial 4975 finished with value: 249.01108852729482 and parameters: {'beta': 12.6022, 'gamma': 13.890600000000001}. Best is trial 677 with value: 0.8064393373100058.\u001b[0m\n",
      "\u001b[32m[I 2021-03-30 03:27:53,142]\u001b[0m Trial 4976 finished with value: 348.23348500035064 and parameters: {'beta': 8.9236, 'gamma': 1.0083}. Best is trial 677 with value: 0.8064393373100058.\u001b[0m\n",
      "\u001b[32m[I 2021-03-30 03:27:53,272]\u001b[0m Trial 4977 finished with value: 26.030783063471617 and parameters: {'beta': 6.946000000000001, 'gamma': 5.2267}. Best is trial 677 with value: 0.8064393373100058.\u001b[0m\n",
      "\u001b[32m[I 2021-03-30 03:27:53,437]\u001b[0m Trial 4978 finished with value: 89.06914722131211 and parameters: {'beta': 10.5287, 'gamma': 10.8042}. Best is trial 677 with value: 0.8064393373100058.\u001b[0m\n",
      "\u001b[32m[I 2021-03-30 03:27:53,614]\u001b[0m Trial 4979 finished with value: 56.60749716337349 and parameters: {'beta': 14.853900000000001, 'gamma': 8.1394}. Best is trial 677 with value: 0.8064393373100058.\u001b[0m\n",
      "\u001b[32m[I 2021-03-30 03:27:53,727]\u001b[0m Trial 4980 finished with value: 162.90701013878996 and parameters: {'beta': 8.702100000000002, 'gamma': 4.169700000000001}. Best is trial 677 with value: 0.8064393373100058.\u001b[0m\n",
      "\u001b[32m[I 2021-03-30 03:27:53,938]\u001b[0m Trial 4981 finished with value: 342.5212767656396 and parameters: {'beta': 12.114700000000001, 'gamma': 19.0313}. Best is trial 677 with value: 0.8064393373100058.\u001b[0m\n",
      "\u001b[32m[I 2021-03-30 03:27:54,078]\u001b[0m Trial 4982 finished with value: 342.86036944736213 and parameters: {'beta': 5.3642, 'gamma': 25.9527}. Best is trial 677 with value: 0.8064393373100058.\u001b[0m\n",
      "\u001b[32m[I 2021-03-30 03:27:54,195]\u001b[0m Trial 4983 finished with value: 342.6322561577777 and parameters: {'beta': 7.539700000000001, 'gamma': 14.8543}. Best is trial 677 with value: 0.8064393373100058.\u001b[0m\n",
      "\u001b[32m[I 2021-03-30 03:27:54,322]\u001b[0m Trial 4984 finished with value: 20.60994272376382 and parameters: {'beta': 10.3504, 'gamma': 10.259500000000001}. Best is trial 677 with value: 0.8064393373100058.\u001b[0m\n",
      "\u001b[32m[I 2021-03-30 03:27:54,443]\u001b[0m Trial 4985 finished with value: 69.68928886090555 and parameters: {'beta': 13.977, 'gamma': 7.04}. Best is trial 677 with value: 0.8064393373100058.\u001b[0m\n",
      "\u001b[32m[I 2021-03-30 03:27:54,583]\u001b[0m Trial 4986 finished with value: 223.8868756090184 and parameters: {'beta': 2.9798, 'gamma': 1.0205}. Best is trial 677 with value: 0.8064393373100058.\u001b[0m\n",
      "\u001b[32m[I 2021-03-30 03:27:54,722]\u001b[0m Trial 4987 finished with value: 341.5841890910351 and parameters: {'beta': 6.383500000000001, 'gamma': 11.9765}. Best is trial 677 with value: 0.8064393373100058.\u001b[0m\n",
      "\u001b[32m[I 2021-03-30 03:27:54,847]\u001b[0m Trial 4988 finished with value: 96.78160894170128 and parameters: {'beta': 9.1816, 'gamma': 5.1763}. Best is trial 677 with value: 0.8064393373100058.\u001b[0m\n",
      "\u001b[32m[I 2021-03-30 03:27:54,960]\u001b[0m Trial 4989 finished with value: 42.79011459451577 and parameters: {'beta': 12.1347, 'gamma': 8.5424}. Best is trial 677 with value: 0.8064393373100058.\u001b[0m\n",
      "\u001b[32m[I 2021-03-30 03:27:55,101]\u001b[0m Trial 4990 finished with value: 340.77494222697084 and parameters: {'beta': 7.8108, 'gamma': 12.9122}. Best is trial 677 with value: 0.8064393373100058.\u001b[0m\n",
      "\u001b[32m[I 2021-03-30 03:27:55,207]\u001b[0m Trial 4991 finished with value: 116.13254743389622 and parameters: {'beta': 10.5266, 'gamma': 3.486}. Best is trial 677 with value: 0.8064393373100058.\u001b[0m\n",
      "\u001b[32m[I 2021-03-30 03:27:55,354]\u001b[0m Trial 4992 finished with value: 342.8470131299056 and parameters: {'beta': 6.1013, 'gamma': 16.2542}. Best is trial 677 with value: 0.8064393373100058.\u001b[0m\n",
      "\u001b[32m[I 2021-03-30 03:27:55,457]\u001b[0m Trial 4993 finished with value: 8.577243059321694 and parameters: {'beta': 9.187000000000001, 'gamma': 7.8387}. Best is trial 677 with value: 0.8064393373100058.\u001b[0m\n",
      "\u001b[32m[I 2021-03-30 03:27:55,593]\u001b[0m Trial 4994 finished with value: 342.62729468626236 and parameters: {'beta': 4.0102, 'gamma': 11.3041}. Best is trial 677 with value: 0.8064393373100058.\u001b[0m\n",
      "\u001b[32m[I 2021-03-30 03:27:55,716]\u001b[0m Trial 4995 finished with value: 339.88768285544364 and parameters: {'beta': 1.0216, 'gamma': 5.7701}. Best is trial 677 with value: 0.8064393373100058.\u001b[0m\n",
      "\u001b[32m[I 2021-03-30 03:27:55,853]\u001b[0m Trial 4996 finished with value: 14.734206587784504 and parameters: {'beta': 11.5327, 'gamma': 9.4388}. Best is trial 677 with value: 0.8064393373100058.\u001b[0m\n",
      "\u001b[32m[I 2021-03-30 03:27:55,963]\u001b[0m Trial 4997 finished with value: 209.1300539392199 and parameters: {'beta': 13.2712, 'gamma': 14.2024}. Best is trial 677 with value: 0.8064393373100058.\u001b[0m\n",
      "\u001b[32m[I 2021-03-30 03:27:56,091]\u001b[0m Trial 4998 finished with value: 196.2089869697354 and parameters: {'beta': 8.281600000000001, 'gamma': 3.5997000000000003}. Best is trial 677 with value: 0.8064393373100058.\u001b[0m\n",
      "\u001b[32m[I 2021-03-30 03:27:56,193]\u001b[0m Trial 4999 finished with value: 167.03798611888575 and parameters: {'beta': 16.6922, 'gamma': 8.263000000000002}. Best is trial 677 with value: 0.8064393373100058.\u001b[0m\n"
     ]
    },
    {
     "output_type": "execute_result",
     "data": {
      "text/plain": [
       "{'beta': 8.9089, 'gamma': 8.2682}"
      ]
     },
     "metadata": {},
     "execution_count": 9
    }
   ],
   "source": [
    "study = optuna.create_study()\n",
    "study.optimize(fitErrorSIR, n_trials=5000)\n",
    "\n",
    "study.best_params  # E.g. {'x': 2.002108042}"
   ]
  },
  {
   "cell_type": "code",
   "execution_count": 10,
   "metadata": {},
   "outputs": [
    {
     "output_type": "stream",
     "name": "stdout",
     "text": [
      "8.9089 8.2682\n"
     ]
    }
   ],
   "source": [
    "beta, gamma= study.best_params.values()\n",
    "print(beta,gamma)"
   ]
  },
  {
   "cell_type": "code",
   "execution_count": null,
   "metadata": {},
   "outputs": [],
   "source": [
    "#from scipy.optimize import fmin\n",
    "\n",
    "#answ=fmin(score,(20, 20),full_output=1,maxiter=10000)\n",
    "#bestParams=answ[0]\n",
    "#bestscore=answ[1]\n",
    "#beta,gamma=answ[0]\n",
    "#paramsOpt=(beta,gamma)\n",
    "\n",
    "#print(paramsOpt,bestscore)"
   ]
  },
  {
   "cell_type": "code",
   "execution_count": null,
   "metadata": {},
   "outputs": [],
   "source": [
    "fluParams[year] = [beta, gamma, bestscore]\n",
    "pkl.dump(fluParams, open(dataDir + 'pkls/fluSIRParams.pkl','wb'))"
   ]
  },
  {
   "cell_type": "markdown",
   "metadata": {},
   "source": [
    "# Evaluation"
   ]
  },
  {
   "cell_type": "code",
   "execution_count": 11,
   "metadata": {},
   "outputs": [],
   "source": [
    "# Timestamp parameters\n",
    "t_start = 0.0; t_end = n_months.months; t_inc = 0.01\n",
    "t_eval = np.arange(t_start, t_end+t_inc, t_inc)\n",
    "\n",
    "# Initial conditions\n",
    "S0 = (ausPop[year] - fluSeries[startdate])\n",
    "I0 = (fluSeries[startdate])\n",
    "R0 = 0\n",
    "\n",
    "SIR0 = [S0,I0,R0]"
   ]
  },
  {
   "cell_type": "code",
   "execution_count": 12,
   "metadata": {},
   "outputs": [],
   "source": [
    "def fluSIRSim(beta,gamma):    \n",
    "    return spi.odeint(SIR_eqs,SIR0,t_eval,args=(beta,gamma))"
   ]
  },
  {
   "cell_type": "code",
   "execution_count": 13,
   "metadata": {},
   "outputs": [],
   "source": [
    "SIR = fluSIRSim(beta,gamma)\n",
    "S = SIR[:,0]\n",
    "I = SIR[:,1]\n",
    "R = SIR[:,2]"
   ]
  },
  {
   "cell_type": "code",
   "execution_count": 14,
   "metadata": {},
   "outputs": [
    {
     "output_type": "display_data",
     "data": {
      "text/plain": "<Figure size 432x288 with 1 Axes>",
      "image/svg+xml": "<?xml version=\"1.0\" encoding=\"utf-8\" standalone=\"no\"?>\n<!DOCTYPE svg PUBLIC \"-//W3C//DTD SVG 1.1//EN\"\n  \"http://www.w3.org/Graphics/SVG/1.1/DTD/svg11.dtd\">\n<!-- Created with matplotlib (https://matplotlib.org/) -->\n<svg height=\"261.997857pt\" version=\"1.1\" viewBox=\"0 0 520.917259 261.997857\" width=\"520.917259pt\" xmlns=\"http://www.w3.org/2000/svg\" xmlns:xlink=\"http://www.w3.org/1999/xlink\">\n <defs>\n  <style type=\"text/css\">\n*{stroke-linecap:butt;stroke-linejoin:round;}\n  </style>\n </defs>\n <g id=\"figure_1\">\n  <g id=\"patch_1\">\n   <path d=\"M -0 261.997857 \nL 520.917259 261.997857 \nL 520.917259 0 \nL -0 0 \nz\n\" style=\"fill:none;\"/>\n  </g>\n  <g id=\"axes_1\">\n   <g id=\"patch_2\">\n    <path d=\"M 39.106676 238.94218 \nL 373.906676 238.94218 \nL 373.906676 21.50218 \nL 39.106676 21.50218 \nz\n\" style=\"fill:#ffffff;\"/>\n   </g>\n   <g id=\"matplotlib.axis_1\">\n    <g id=\"xtick_1\">\n     <g id=\"line2d_1\">\n      <defs>\n       <path d=\"M 0 0 \nL 0 3.5 \n\" id=\"m47c13515c0\" style=\"stroke:#000000;stroke-width:0.8;\"/>\n      </defs>\n      <g>\n       <use style=\"stroke:#000000;stroke-width:0.8;\" x=\"54.324858\" xlink:href=\"#m47c13515c0\" y=\"238.94218\"/>\n      </g>\n     </g>\n     <g id=\"text_1\">\n      <!-- $0$ -->\n      <defs>\n       <path d=\"M 42 31.84375 \nC 42 37.96875 41.90625 48.421875 37.703125 56.453125 \nC 34 63.484375 28.09375 66 22.90625 66 \nC 18.09375 66 12 63.78125 8.203125 56.5625 \nC 4.203125 49.015625 3.796875 39.671875 3.796875 31.84375 \nC 3.796875 26.109375 3.90625 17.375 7 9.734375 \nC 11.296875 -0.609375 19 -2 22.90625 -2 \nC 27.5 -2 34.5 -0.109375 38.59375 9.4375 \nC 41.59375 16.375 42 24.5 42 31.84375 \nz\nM 22.90625 -0.40625 \nC 16.5 -0.40625 12.703125 5.125 11.296875 12.75 \nC 10.203125 18.6875 10.203125 27.328125 10.203125 32.953125 \nC 10.203125 40.6875 10.203125 47.109375 11.5 53.234375 \nC 13.40625 61.78125 19 64.390625 22.90625 64.390625 \nC 27 64.390625 32.296875 61.671875 34.203125 53.4375 \nC 35.5 47.71875 35.59375 40.984375 35.59375 32.953125 \nC 35.59375 26.421875 35.59375 18.375 34.40625 12.453125 \nC 32.296875 1.5 26.40625 -0.40625 22.90625 -0.40625 \nz\n\" id=\"CMR17-48\"/>\n      </defs>\n      <g transform=\"translate(51.83419 252.860678)scale(0.1 -0.1)\">\n       <use transform=\"scale(0.996264)\" xlink:href=\"#CMR17-48\"/>\n      </g>\n     </g>\n    </g>\n    <g id=\"xtick_2\">\n     <g id=\"line2d_2\">\n      <g>\n       <use style=\"stroke:#000000;stroke-width:0.8;\" x=\"109.663701\" xlink:href=\"#m47c13515c0\" y=\"238.94218\"/>\n      </g>\n     </g>\n     <g id=\"text_2\">\n      <!-- $2$ -->\n      <defs>\n       <path d=\"M 41.703125 15.46875 \nL 39.90625 15.46875 \nC 38.90625 8.390625 38.09375 7.1875 37.703125 6.59375 \nC 37.203125 5.796875 30 5.796875 28.59375 5.796875 \nL 9.40625 5.796875 \nC 13 9.6875 20 16.765625 28.5 24.9375 \nC 34.59375 30.71875 41.703125 37.5 41.703125 47.390625 \nC 41.703125 59.1875 32.296875 66 21.796875 66 \nC 10.796875 66 4.09375 56.296875 4.09375 47.296875 \nC 4.09375 43.390625 7 42.890625 8.203125 42.890625 \nC 9.203125 42.890625 12.203125 43.484375 12.203125 46.984375 \nC 12.203125 50.09375 9.59375 51 8.203125 51 \nC 7.59375 51 7 50.890625 6.59375 50.6875 \nC 8.5 59.1875 14.296875 63.390625 20.40625 63.390625 \nC 29.09375 63.390625 34.796875 56.5 34.796875 47.390625 \nC 34.796875 38.703125 29.703125 31.21875 24 24.734375 \nL 4.09375 2.296875 \nL 4.09375 0 \nL 39.296875 0 \nz\n\" id=\"CMR17-50\"/>\n      </defs>\n      <g transform=\"translate(107.173033 252.860678)scale(0.1 -0.1)\">\n       <use transform=\"scale(0.996264)\" xlink:href=\"#CMR17-50\"/>\n      </g>\n     </g>\n    </g>\n    <g id=\"xtick_3\">\n     <g id=\"line2d_3\">\n      <g>\n       <use style=\"stroke:#000000;stroke-width:0.8;\" x=\"165.002544\" xlink:href=\"#m47c13515c0\" y=\"238.94218\"/>\n      </g>\n     </g>\n     <g id=\"text_3\">\n      <!-- $4$ -->\n      <defs>\n       <path d=\"M 33.59375 64.796875 \nC 33.59375 66.890625 33.5 67 31.703125 67 \nL 2 19.59375 \nL 2 17 \nL 27.796875 17 \nL 27.796875 7.1875 \nC 27.796875 3.59375 27.59375 2.59375 20.59375 2.59375 \nL 18.703125 2.59375 \nL 18.703125 0 \nC 21.90625 0.1875 27.296875 0.1875 30.703125 0.1875 \nC 34.09375 0.1875 39.5 0.1875 42.703125 0 \nL 42.703125 2.59375 \nL 40.796875 2.59375 \nC 33.796875 2.59375 33.59375 3.59375 33.59375 7.1875 \nL 33.59375 17 \nL 43.796875 17 \nL 43.796875 19.59375 \nL 33.59375 19.59375 \nz\nM 28.09375 58.171875 \nL 28.09375 19.59375 \nL 4 19.59375 \nz\n\" id=\"CMR17-52\"/>\n      </defs>\n      <g transform=\"translate(162.511876 252.860678)scale(0.1 -0.1)\">\n       <use transform=\"scale(0.996264)\" xlink:href=\"#CMR17-52\"/>\n      </g>\n     </g>\n    </g>\n    <g id=\"xtick_4\">\n     <g id=\"line2d_4\">\n      <g>\n       <use style=\"stroke:#000000;stroke-width:0.8;\" x=\"220.341387\" xlink:href=\"#m47c13515c0\" y=\"238.94218\"/>\n      </g>\n     </g>\n     <g id=\"text_4\">\n      <!-- $6$ -->\n      <defs>\n       <path d=\"M 10.59375 34.34375 \nC 10.59375 58 21.796875 63.6875 28.296875 63.6875 \nC 30.40625 63.6875 35.5 63.265625 37.5 59.09375 \nC 35.90625 59.09375 32.90625 59.09375 32.90625 55.59375 \nC 32.90625 52.890625 35.09375 52 36.5 52 \nC 37.40625 52 40.09375 52.390625 40.09375 55.796875 \nC 40.09375 62.296875 35.09375 66 28.203125 66 \nC 16.296875 66 3.796875 53.296875 3.796875 31.421875 \nC 3.796875 4.015625 15.09375 -2 23.09375 -2 \nC 32.796875 -2 42 6.734375 42 20.234375 \nC 42 32.828125 33.90625 42 23.703125 42 \nC 17.59375 42 13.09375 37.96875 10.59375 30.921875 \nz\nM 23.09375 0.390625 \nC 10.796875 0.390625 10.796875 18.9375 10.796875 22.65625 \nC 10.796875 29.90625 14.203125 40.390625 23.5 40.390625 \nC 25.203125 40.390625 30.09375 40.390625 33.40625 33.4375 \nC 35.203125 29.515625 35.203125 25.375 35.203125 20.34375 \nC 35.203125 14.90625 35.203125 10.875 33.09375 6.84375 \nC 30.90625 2.703125 27.703125 0.390625 23.09375 0.390625 \nz\n\" id=\"CMR17-54\"/>\n      </defs>\n      <g transform=\"translate(217.850719 252.860678)scale(0.1 -0.1)\">\n       <use transform=\"scale(0.996264)\" xlink:href=\"#CMR17-54\"/>\n      </g>\n     </g>\n    </g>\n    <g id=\"xtick_5\">\n     <g id=\"line2d_5\">\n      <g>\n       <use style=\"stroke:#000000;stroke-width:0.8;\" x=\"275.68023\" xlink:href=\"#m47c13515c0\" y=\"238.94218\"/>\n      </g>\n     </g>\n     <g id=\"text_5\">\n      <!-- $8$ -->\n      <defs>\n       <path d=\"M 27.203125 35.765625 \nC 33.5 38.96875 39.90625 43.796875 39.90625 51.53125 \nC 39.90625 60.6875 31.09375 66 23 66 \nC 13.90625 66 5.90625 59.375 5.90625 50.234375 \nC 5.90625 47.71875 6.5 43.390625 10.40625 39.578125 \nC 11.40625 38.578125 15.59375 35.5625 18.296875 33.65625 \nC 13.796875 31.34375 3.296875 25.8125 3.296875 14.765625 \nC 3.296875 4.40625 13.09375 -2 22.796875 -2 \nC 33.5 -2 42.5 5.71875 42.5 15.96875 \nC 42.5 25.109375 36.40625 29.328125 32.40625 32.046875 \nz\nM 14.09375 44.609375 \nC 13.296875 45.109375 9.296875 48.21875 9.296875 52.9375 \nC 9.296875 59.078125 15.59375 63.6875 22.796875 63.6875 \nC 30.703125 63.6875 36.5 58.0625 36.5 51.53125 \nC 36.5 42.1875 26.09375 36.859375 25.59375 36.859375 \nC 25.5 36.859375 25.40625 36.859375 24.59375 37.46875 \nz\nM 32.5 24 \nC 34 22.90625 38.796875 19.578125 38.796875 13.453125 \nC 38.796875 6.015625 31.40625 0.390625 23 0.390625 \nC 13.90625 0.390625 7 6.921875 7 14.859375 \nC 7 22.796875 13.09375 29.4375 20 32.546875 \nz\n\" id=\"CMR17-56\"/>\n      </defs>\n      <g transform=\"translate(273.189562 252.860678)scale(0.1 -0.1)\">\n       <use transform=\"scale(0.996264)\" xlink:href=\"#CMR17-56\"/>\n      </g>\n     </g>\n    </g>\n    <g id=\"xtick_6\">\n     <g id=\"line2d_6\">\n      <g>\n       <use style=\"stroke:#000000;stroke-width:0.8;\" x=\"331.019073\" xlink:href=\"#m47c13515c0\" y=\"238.94218\"/>\n      </g>\n     </g>\n     <g id=\"text_6\">\n      <!-- $10$ -->\n      <defs>\n       <path d=\"M 26.59375 63.796875 \nC 26.59375 65.890625 26.5 66 25.09375 66 \nC 21.203125 61.359375 15.296875 59.890625 9.703125 59.6875 \nC 9.40625 59.6875 8.90625 59.6875 8.796875 59.5 \nC 8.703125 59.296875 8.703125 59.09375 8.703125 57 \nC 11.796875 57 17 57.59375 21 59.984375 \nL 21 7.296875 \nC 21 3.796875 20.796875 2.59375 12.203125 2.59375 \nL 9.203125 2.59375 \nL 9.203125 0 \nC 14 0.09375 19 0.1875 23.796875 0.1875 \nC 28.59375 0.1875 33.59375 0.09375 38.40625 0 \nL 38.40625 2.59375 \nL 35.40625 2.59375 \nC 26.796875 2.59375 26.59375 3.6875 26.59375 7.296875 \nz\n\" id=\"CMR17-49\"/>\n      </defs>\n      <g transform=\"translate(326.037738 252.860678)scale(0.1 -0.1)\">\n       <use transform=\"scale(0.996264)\" xlink:href=\"#CMR17-49\"/>\n       <use transform=\"translate(45.690477 0)scale(0.996264)\" xlink:href=\"#CMR17-48\"/>\n      </g>\n     </g>\n    </g>\n   </g>\n   <g id=\"matplotlib.axis_2\">\n    <g id=\"ytick_1\">\n     <g id=\"line2d_7\">\n      <defs>\n       <path d=\"M 0 0 \nL -3.5 0 \n\" id=\"maa05856286\" style=\"stroke:#000000;stroke-width:0.8;\"/>\n      </defs>\n      <g>\n       <use style=\"stroke:#000000;stroke-width:0.8;\" x=\"39.106676\" xlink:href=\"#maa05856286\" y=\"233.086143\"/>\n      </g>\n     </g>\n     <g id=\"text_7\">\n      <!-- $0$ -->\n      <g transform=\"translate(27.125341 236.545393)scale(0.1 -0.1)\">\n       <use transform=\"scale(0.996264)\" xlink:href=\"#CMR17-48\"/>\n      </g>\n     </g>\n    </g>\n    <g id=\"ytick_2\">\n     <g id=\"line2d_8\">\n      <g>\n       <use style=\"stroke:#000000;stroke-width:0.8;\" x=\"39.106676\" xlink:href=\"#maa05856286\" y=\"190.375645\"/>\n      </g>\n     </g>\n     <g id=\"text_8\">\n      <!-- $20000$ -->\n      <g transform=\"translate(7.2 193.834895)scale(0.1 -0.1)\">\n       <use transform=\"scale(0.996264)\" xlink:href=\"#CMR17-50\"/>\n       <use transform=\"translate(45.690477 0)scale(0.996264)\" xlink:href=\"#CMR17-48\"/>\n       <use transform=\"translate(91.380954 0)scale(0.996264)\" xlink:href=\"#CMR17-48\"/>\n       <use transform=\"translate(137.071431 0)scale(0.996264)\" xlink:href=\"#CMR17-48\"/>\n       <use transform=\"translate(182.761908 0)scale(0.996264)\" xlink:href=\"#CMR17-48\"/>\n      </g>\n     </g>\n    </g>\n    <g id=\"ytick_3\">\n     <g id=\"line2d_9\">\n      <g>\n       <use style=\"stroke:#000000;stroke-width:0.8;\" x=\"39.106676\" xlink:href=\"#maa05856286\" y=\"147.665147\"/>\n      </g>\n     </g>\n     <g id=\"text_9\">\n      <!-- $40000$ -->\n      <g transform=\"translate(7.2 151.124396)scale(0.1 -0.1)\">\n       <use transform=\"scale(0.996264)\" xlink:href=\"#CMR17-52\"/>\n       <use transform=\"translate(45.690477 0)scale(0.996264)\" xlink:href=\"#CMR17-48\"/>\n       <use transform=\"translate(91.380954 0)scale(0.996264)\" xlink:href=\"#CMR17-48\"/>\n       <use transform=\"translate(137.071431 0)scale(0.996264)\" xlink:href=\"#CMR17-48\"/>\n       <use transform=\"translate(182.761908 0)scale(0.996264)\" xlink:href=\"#CMR17-48\"/>\n      </g>\n     </g>\n    </g>\n    <g id=\"ytick_4\">\n     <g id=\"line2d_10\">\n      <g>\n       <use style=\"stroke:#000000;stroke-width:0.8;\" x=\"39.106676\" xlink:href=\"#maa05856286\" y=\"104.954649\"/>\n      </g>\n     </g>\n     <g id=\"text_10\">\n      <!-- $60000$ -->\n      <g transform=\"translate(7.2 108.413898)scale(0.1 -0.1)\">\n       <use transform=\"scale(0.996264)\" xlink:href=\"#CMR17-54\"/>\n       <use transform=\"translate(45.690477 0)scale(0.996264)\" xlink:href=\"#CMR17-48\"/>\n       <use transform=\"translate(91.380954 0)scale(0.996264)\" xlink:href=\"#CMR17-48\"/>\n       <use transform=\"translate(137.071431 0)scale(0.996264)\" xlink:href=\"#CMR17-48\"/>\n       <use transform=\"translate(182.761908 0)scale(0.996264)\" xlink:href=\"#CMR17-48\"/>\n      </g>\n     </g>\n    </g>\n    <g id=\"ytick_5\">\n     <g id=\"line2d_11\">\n      <g>\n       <use style=\"stroke:#000000;stroke-width:0.8;\" x=\"39.106676\" xlink:href=\"#maa05856286\" y=\"62.244151\"/>\n      </g>\n     </g>\n     <g id=\"text_11\">\n      <!-- $80000$ -->\n      <g transform=\"translate(7.2 65.7034)scale(0.1 -0.1)\">\n       <use transform=\"scale(0.996264)\" xlink:href=\"#CMR17-56\"/>\n       <use transform=\"translate(45.690477 0)scale(0.996264)\" xlink:href=\"#CMR17-48\"/>\n       <use transform=\"translate(91.380954 0)scale(0.996264)\" xlink:href=\"#CMR17-48\"/>\n       <use transform=\"translate(137.071431 0)scale(0.996264)\" xlink:href=\"#CMR17-48\"/>\n       <use transform=\"translate(182.761908 0)scale(0.996264)\" xlink:href=\"#CMR17-48\"/>\n      </g>\n     </g>\n    </g>\n   </g>\n   <g id=\"line2d_12\">\n    <defs>\n     <path d=\"M 0 3 \nC 0.795609 3 1.55874 2.683901 2.12132 2.12132 \nC 2.683901 1.55874 3 0.795609 3 0 \nC 3 -0.795609 2.683901 -1.55874 2.12132 -2.12132 \nC 1.55874 -2.683901 0.795609 -3 0 -3 \nC -0.795609 -3 -1.55874 -2.683901 -2.12132 -2.12132 \nC -2.683901 -1.55874 -3 -0.795609 -3 0 \nC -3 0.795609 -2.683901 1.55874 -2.12132 2.12132 \nC -1.55874 2.683901 -0.795609 3 0 3 \nz\n\" id=\"m081f708617\" style=\"stroke:#000000;\"/>\n    </defs>\n    <g clip-path=\"url(#p671d939464)\">\n     <use style=\"stroke:#000000;\" x=\"54.324858\" xlink:href=\"#m081f708617\" y=\"227.969426\"/>\n     <use style=\"stroke:#000000;\" x=\"81.99428\" xlink:href=\"#m081f708617\" y=\"227.330904\"/>\n     <use style=\"stroke:#000000;\" x=\"109.663701\" xlink:href=\"#m081f708617\" y=\"226.290903\"/>\n     <use style=\"stroke:#000000;\" x=\"137.333123\" xlink:href=\"#m081f708617\" y=\"229.058543\"/>\n     <use style=\"stroke:#000000;\" x=\"165.002544\" xlink:href=\"#m081f708617\" y=\"227.527372\"/>\n     <use style=\"stroke:#000000;\" x=\"192.671966\" xlink:href=\"#m081f708617\" y=\"215.90371\"/>\n     <use style=\"stroke:#000000;\" x=\"220.341387\" xlink:href=\"#m081f708617\" y=\"177.259251\"/>\n     <use style=\"stroke:#000000;\" x=\"248.010808\" xlink:href=\"#m081f708617\" y=\"55.060245\"/>\n     <use style=\"stroke:#000000;\" x=\"275.68023\" xlink:href=\"#m081f708617\" y=\"31.385816\"/>\n     <use style=\"stroke:#000000;\" x=\"303.349651\" xlink:href=\"#m081f708617\" y=\"197.433555\"/>\n     <use style=\"stroke:#000000;\" x=\"331.019073\" xlink:href=\"#m081f708617\" y=\"225.223141\"/>\n     <use style=\"stroke:#000000;\" x=\"358.688494\" xlink:href=\"#m081f708617\" y=\"228.022814\"/>\n    </g>\n   </g>\n   <g id=\"line2d_13\">\n    <path clip-path=\"url(#p671d939464)\" d=\"M 54.324858 227.969426 \nL 63.179073 226.809527 \nL 71.203205 225.539119 \nL 78.673949 224.133949 \nL 85.591304 222.609854 \nL 92.231966 220.914523 \nL 98.319238 219.133511 \nL 104.129817 217.206032 \nL 109.663701 215.141008 \nL 114.920891 212.951296 \nL 120.178081 210.519256 \nL 125.158577 207.97333 \nL 130.139073 205.174557 \nL 134.842875 202.284045 \nL 139.546676 199.139853 \nL 144.250478 195.730035 \nL 148.95428 192.044531 \nL 153.658081 188.075846 \nL 158.361883 183.819817 \nL 163.342379 179.000355 \nL 168.322875 173.865161 \nL 173.580065 168.117785 \nL 179.113949 161.735156 \nL 185.477916 154.034598 \nL 193.225354 144.282351 \nL 211.210478 121.485051 \nL 216.467668 115.250475 \nL 220.894775 110.320787 \nL 224.768494 106.313056 \nL 228.365519 102.894179 \nL 231.68585 100.031848 \nL 234.729486 97.681082 \nL 237.773123 95.612561 \nL 240.540065 93.99242 \nL 243.307007 92.632595 \nL 245.797255 91.639664 \nL 248.287503 90.871656 \nL 250.777751 90.333052 \nL 253.267999 90.026859 \nL 255.758247 89.954564 \nL 258.248494 90.116127 \nL 260.738742 90.509983 \nL 263.22899 91.133071 \nL 265.719238 91.980877 \nL 268.209486 93.047507 \nL 270.976428 94.480503 \nL 273.74337 96.163139 \nL 276.787007 98.286531 \nL 279.830643 100.676344 \nL 283.150974 103.562171 \nL 286.747999 106.983381 \nL 290.621718 110.966841 \nL 295.048825 115.836203 \nL 300.306015 121.958205 \nL 307.22337 130.380901 \nL 328.252131 156.221232 \nL 334.616098 163.560863 \nL 340.426676 169.920733 \nL 345.683866 175.357541 \nL 350.941056 180.472345 \nL 355.921552 185.011343 \nL 358.688494 187.402885 \nL 358.688494 187.402885 \n\" style=\"fill:none;stroke:#ff0000;stroke-linecap:square;stroke-width:1.5;\"/>\n   </g>\n   <g id=\"patch_3\">\n    <path d=\"M 39.106676 238.94218 \nL 39.106676 21.50218 \n\" style=\"fill:none;stroke:#000000;stroke-linecap:square;stroke-linejoin:miter;stroke-width:0.8;\"/>\n   </g>\n   <g id=\"patch_4\">\n    <path d=\"M 373.906676 238.94218 \nL 373.906676 21.50218 \n\" style=\"fill:none;stroke:#000000;stroke-linecap:square;stroke-linejoin:miter;stroke-width:0.8;\"/>\n   </g>\n   <g id=\"patch_5\">\n    <path d=\"M 39.106676 238.94218 \nL 373.906676 238.94218 \n\" style=\"fill:none;stroke:#000000;stroke-linecap:square;stroke-linejoin:miter;stroke-width:0.8;\"/>\n   </g>\n   <g id=\"patch_6\">\n    <path d=\"M 39.106676 21.50218 \nL 373.906676 21.50218 \n\" style=\"fill:none;stroke:#000000;stroke-linecap:square;stroke-linejoin:miter;stroke-width:0.8;\"/>\n   </g>\n   <g id=\"text_12\">\n    <!-- $\\gamma = $8.2682 -->\n    <defs>\n     <path d=\"M 37.796875 12.265625 \nC 37.59375 17.140625 37.40625 24.78125 33.59375 33.71875 \nC 31.59375 38.6875 28.203125 44 20.90625 44 \nC 8.59375 44 1.90625 28.359375 1.90625 25.765625 \nC 1.90625 24.875 2.59375 24.875 2.90625 24.875 \nC 3.796875 24.875 3.796875 25.078125 4.296875 26.375 \nC 6.40625 32.515625 12.796875 37.390625 19.703125 37.390625 \nC 33.59375 37.390625 35.59375 22 35.59375 12.171875 \nC 35.59375 5.90625 34.90625 3.828125 34.296875 1.84375 \nC 32.40625 -4.3125 29.09375 -16.625 29.09375 -19.40625 \nC 29.09375 -20.203125 29.40625 -21.109375 30.203125 -21.109375 \nC 31.703125 -21.109375 32.59375 -17.8125 33.703125 -13.84375 \nC 36.09375 -5.109375 36.703125 -0.734375 37.203125 3.234375 \nC 37.5 5.625 43.203125 22.015625 51.09375 37.609375 \nC 51.796875 39.203125 53.203125 41.890625 53.203125 42.1875 \nC 53.203125 42.296875 53.09375 43 52.203125 43 \nC 52 43 51.5 43 51.296875 42.59375 \nC 51.09375 42.390625 47.59375 35.625 44.59375 28.875 \nC 43.09375 25.46875 41.09375 21 37.796875 12.265625 \nz\n\" id=\"CMMI12-13\"/>\n     <path d=\"M 64.296875 32 \nC 65.796875 32 67.296875 32 67.296875 33.6875 \nC 67.296875 35.5 65.59375 35.5 63.90625 35.5 \nL 8 35.5 \nC 6.296875 35.5 4.59375 35.5 4.59375 33.6875 \nC 4.59375 32 6.09375 32 7.59375 32 \nz\nM 63.90625 14.484375 \nC 65.59375 14.484375 67.296875 14.484375 67.296875 16.296875 \nC 67.296875 18 65.796875 18 64.296875 18 \nL 7.59375 18 \nC 6.09375 18 4.59375 18 4.59375 16.296875 \nC 4.59375 14.484375 6.296875 14.484375 8 14.484375 \nz\n\" id=\"CMR17-61\"/>\n     <path d=\"M 30.203125 35.09375 \nC 37.796875 37.59375 41.703125 43.640625 41.703125 49.59375 \nC 41.703125 58.96875 33.703125 67 23.5 67 \nC 12.90625 67 5.203125 58.671875 5.203125 49.59375 \nC 5.203125 43.734375 9 37.6875 16.703125 35.09375 \nC 6.90625 31.296875 3.90625 23.6875 3.90625 18 \nC 3.90625 7 12.796875 -2 23.40625 -2 \nC 34.40625 -2 43 7.1875 43 18 \nC 43 24.59375 39.09375 31.59375 30.203125 35.09375 \nz\nM 23.5 38.09375 \nC 16.796875 38.09375 12.296875 42.625 12.296875 49.484375 \nC 12.296875 56.453125 16.796875 60.890625 23.5 60.890625 \nC 29.703125 60.890625 34.59375 56.859375 34.59375 49.484375 \nC 34.59375 42.234375 29.796875 38.09375 23.5 38.09375 \nz\nM 23.5 4.1875 \nC 17.796875 4.1875 11.703125 8.09375 11.703125 18.09375 \nC 11.703125 28.390625 18.5 32 23.40625 32 \nC 28.796875 32 35.203125 28.1875 35.203125 18.09375 \nC 35.203125 7.6875 28.59375 4.1875 23.5 4.1875 \nz\n\" id=\"CMSS17-56\"/>\n     <path d=\"M 17 8 \nL 9 8 \nL 9 0 \nL 17 0 \nz\n\" id=\"CMSS17-46\"/>\n     <path d=\"M 25.796875 21.140625 \nC 28.59375 24.03125 32.796875 27.515625 35.703125 31 \nC 38.5 34.390625 42.203125 39.171875 42.203125 46.140625 \nC 42.203125 57.109375 34.796875 67 22.203125 67 \nC 12.296875 67 6.59375 60.796875 3.90625 51.125 \nL 7.796875 45.75 \nC 10 54.8125 13.09375 60.59375 20.90625 60.59375 \nC 29.5 60.59375 34.296875 53.609375 34.296875 45.9375 \nC 34.296875 36.78125 27.296875 29.703125 22 24.421875 \nC 16.09375 18.546875 10.296875 12.578125 4.703125 6.390625 \nL 4.703125 0 \nL 42.203125 0 \nL 42.203125 6.796875 \nL 25.203125 6.796875 \nC 24 6.796875 22.796875 6.6875 21.59375 6.6875 \nL 11.59375 6.6875 \nL 11.59375 6.796875 \nz\n\" id=\"CMSS17-50\"/>\n     <path d=\"M 39 64.984375 \nC 34.796875 66.6875 31.796875 67 29 67 \nC 16 67 3.90625 53.25 3.90625 31.609375 \nC 3.90625 4.1875 15.40625 -2 23.59375 -2 \nC 28.09375 -2 32.59375 -0.609375 36.90625 4.390625 \nC 41.296875 9.671875 43 14.0625 43 21.75 \nC 43 34.109375 36.90625 45.09375 27.796875 45.09375 \nC 21.203125 45.09375 15.5 41.59375 12 37.203125 \nC 13 51.40625 19.59375 60.890625 29.09375 60.890625 \nC 31.703125 60.890625 35.09375 60.484375 39 58.75 \nz\nM 12.09375 21.4375 \nC 12.09375 22.234375 12.09375 22.734375 12.203125 24.234375 \nC 12.203125 32.015625 16.703125 39 24 39 \nC 28.703125 39 31.09375 36.5 32.90625 33.40625 \nC 35 29.515625 35.09375 25.828125 35.09375 21.75 \nC 35.09375 17.859375 35.09375 13.96875 32.796875 9.96875 \nC 30.90625 6.890625 28.40625 4.1875 23.59375 4.1875 \nC 14.09375 4.1875 12.5 17.453125 12.09375 21.4375 \nz\n\" id=\"CMSS17-54\"/>\n    </defs>\n    <g transform=\"translate(469.36618 232.958012)scale(0.1 -0.1)\">\n     <use transform=\"scale(0.996264)\" xlink:href=\"#CMMI12-13\"/>\n     <use transform=\"translate(83.692577 0)scale(0.996264)\" xlink:href=\"#CMR17-61\"/>\n     <use transform=\"translate(155.407365 0)scale(0.996264)\" xlink:href=\"#CMSS17-56\"/>\n     <use transform=\"translate(202.250989 0)scale(0.996264)\" xlink:href=\"#CMSS17-46\"/>\n     <use transform=\"translate(228.275194 0)scale(0.996264)\" xlink:href=\"#CMSS17-50\"/>\n     <use transform=\"translate(275.118817 0)scale(0.996264)\" xlink:href=\"#CMSS17-54\"/>\n     <use transform=\"translate(321.962441 0)scale(0.996264)\" xlink:href=\"#CMSS17-56\"/>\n     <use transform=\"translate(368.806064 0)scale(0.996264)\" xlink:href=\"#CMSS17-50\"/>\n    </g>\n   </g>\n   <g id=\"text_13\">\n    <!-- $\\beta = $8.9089 -->\n    <defs>\n     <path d=\"M 56.59375 58.421875 \nC 56.59375 64.546875 51.5 71 42.40625 71 \nC 29.5 71 21.296875 54.84375 18.703125 44.21875 \nL 2.90625 -18 \nC 2.703125 -18.8125 3.296875 -19 3.796875 -19 \nC 4.5 -19 5 -18.90625 5.09375 -18.40625 \nL 12.09375 9.25 \nC 13.09375 3.609375 18.59375 -1 24.5 -1 \nC 38.796875 -1 52.296875 10.265625 52.296875 25.28125 \nC 52.296875 29.109375 51.40625 32.9375 49.296875 36.15625 \nC 48.09375 38.078125 46.59375 39.484375 45 40.609375 \nC 52.203125 44.109375 56.59375 50.34375 56.59375 58.421875 \nz\nM 39.203125 40.703125 \nC 37.59375 40.171875 36 40 34.09375 40 \nC 32.703125 40 31.40625 39.890625 29.59375 40.4375 \nC 30.59375 41.046875 32.09375 41.234375 34.203125 41.234375 \nC 36 41.234375 37.796875 41.046875 39.203125 40.703125 \nz\nM 51.40625 59.34375 \nC 51.40625 53.71875 48.703125 45.546875 42.203125 41.9375 \nC 40.296875 42.546875 37.703125 43 35.5 43 \nC 33.40625 43 27.40625 43.203125 27.40625 40.34375 \nC 27.40625 37.671875 32.90625 37.96875 34.59375 37.96875 \nC 37.203125 37.96875 39.5 38.578125 41.90625 39.28125 \nC 45.09375 36.671875 46.5 33.234375 46.5 28.203125 \nC 46.5 22.359375 44.90625 17.625 43 13.28125 \nC 39.703125 5.828125 31.90625 1 25 1 \nC 17.703125 1 13.90625 6.84375 13.90625 13.6875 \nC 13.90625 14.59375 13.90625 15.90625 14.296875 17.421875 \nL 20.796875 43.5 \nC 24.09375 56.890625 32.5 68.953125 42.203125 68.953125 \nC 49.40625 68.953125 51.40625 63.84375 51.40625 59.34375 \nz\n\" id=\"CMMI12-12\"/>\n     <path d=\"M 6.796875 2.6875 \nC 9.59375 0.296875 13.203125 -2 19.296875 -2 \nC 31.40625 -2 43 11.53125 43 33.375 \nC 43 62.296875 30.5 67 23.796875 67 \nC 17.09375 67 12.796875 63.984375 9.09375 59.203125 \nC 4.703125 53.71875 3.90625 48.828125 3.90625 43.140625 \nC 3.90625 36.359375 5.09375 32.171875 7.90625 27.390625 \nC 11.703125 21.1875 15.203125 19.890625 19.09375 19.890625 \nC 25 19.890625 30.90625 22.796875 34.90625 27.78125 \nC 34.203125 14.1875 28.09375 4.1875 19.296875 4.1875 \nC 15.703125 4.1875 12.796875 5.3125 9.90625 8.0625 \nz\nM 34.59375 43.34375 \nC 34.703125 42.640625 34.703125 41.34375 34.703125 40.953125 \nC 34.703125 32.578125 29.90625 26 22.90625 26 \nC 18.296875 26 15.90625 28.390625 14.09375 31.484375 \nC 11.90625 35.359375 11.796875 39.15625 11.796875 43.140625 \nC 11.796875 47.03125 11.796875 51.3125 14.59375 55.609375 \nC 16.703125 58.703125 19.296875 60.890625 23.796875 60.890625 \nC 33 60.890625 34.5 47.4375 34.59375 43.34375 \nz\n\" id=\"CMSS17-57\"/>\n     <path d=\"M 43.09375 32.390625 \nC 43.09375 38.109375 43 48.75 38.90625 56.984375 \nC 34.796875 64.890625 28.203125 67 23.5 67 \nC 16.703125 67 10.90625 62.984375 7.90625 56.578125 \nC 4.703125 49.859375 3.796875 42.9375 3.796875 32.390625 \nC 3.796875 25.171875 4.09375 16.34375 7.703125 8.609375 \nC 11.796875 0.09375 18.703125 -2 23.40625 -2 \nC 29.59375 -2 35.59375 1.296875 39 8.203125 \nC 42.5 15.4375 43.09375 23.359375 43.09375 32.390625 \nz\nM 23.40625 4.09375 \nC 15.796875 4.09375 13.5 12.828125 12.796875 15.734375 \nC 11.59375 20.75 11.40625 25.5625 11.40625 33.5 \nC 11.40625 39.71875 11.40625 46.75 13.296875 52.265625 \nC 15.59375 58.6875 19.59375 60.890625 23.40625 60.890625 \nC 30.796875 60.890625 33.203125 53.46875 34 50.859375 \nC 35.5 45.546875 35.5 39.3125 35.5 33.5 \nC 35.5 24.15625 35.5 4.09375 23.40625 4.09375 \nz\n\" id=\"CMSS17-48\"/>\n    </defs>\n    <g transform=\"translate(469.36618 232.94947)scale(0.1 -0.1)\">\n     <use transform=\"scale(0.996264)\" xlink:href=\"#CMMI12-12\"/>\n     <use transform=\"translate(88.268024 0)scale(0.996264)\" xlink:href=\"#CMR17-61\"/>\n     <use transform=\"translate(159.982813 0)scale(0.996264)\" xlink:href=\"#CMSS17-56\"/>\n     <use transform=\"translate(206.826436 0)scale(0.996264)\" xlink:href=\"#CMSS17-46\"/>\n     <use transform=\"translate(232.850641 0)scale(0.996264)\" xlink:href=\"#CMSS17-57\"/>\n     <use transform=\"translate(279.694265 0)scale(0.996264)\" xlink:href=\"#CMSS17-48\"/>\n     <use transform=\"translate(326.537888 0)scale(0.996264)\" xlink:href=\"#CMSS17-56\"/>\n     <use transform=\"translate(373.381512 0)scale(0.996264)\" xlink:href=\"#CMSS17-57\"/>\n    </g>\n   </g>\n   <g id=\"text_14\">\n    <!-- Year: 2017 -->\n    <defs>\n     <path d=\"M 62.09375 69 \nL 53.5 69 \nL 38 44.921875 \nC 36.796875 43.03125 33.40625 37.875 31.796875 34.984375 \nL 26.90625 42.84375 \nL 10.09375 69 \nL 0.296875 69 \nL 27.09375 27.640625 \nL 27.09375 0 \nL 35.296875 0 \nL 35.296875 27.53125 \nz\n\" id=\"CMSS17-89\"/>\n     <path d=\"M 39.09375 21.484375 \nC 39.09375 24.796875 38.90625 31.265625 35.703125 36.671875 \nC 32.203125 42.390625 26.5 44 22.203125 44 \nC 11.796875 44 3 34.125 3 21.296875 \nC 3 9.046875 12.09375 -1 23.59375 -1 \nC 28.09375 -1 33.59375 0.296875 38.59375 3.890625 \nC 38.59375 4.296875 38.40625 6.46875 38.296875 6.578125 \nC 38.296875 6.765625 38 9.828125 38 10.234375 \nC 33.203125 6.375 27.703125 5.09375 23.703125 5.09375 \nC 17.296875 5.09375 10.40625 10.421875 10.09375 21.484375 \nz\nM 10.90625 27 \nC 12.203125 32.59375 16.59375 37.890625 22.203125 37.890625 \nC 23.703125 37.890625 30.703125 37.6875 32.5 27 \nz\n\" id=\"CMSS17-101\"/>\n     <path d=\"M 37.59375 27.953125 \nC 37.59375 37.484375 30.90625 44 21.90625 44 \nC 17.5 44 12.703125 43.1875 7.203125 39.984375 \nL 7.796875 33.328125 \nC 10.296875 35.15625 14.59375 38.09375 21.796875 38.09375 \nC 26.90625 38.09375 30 34.140625 30 27.84375 \nL 30 24 \nC 14 23.5 4 18.890625 4 11.109375 \nC 4 7.0625 6.5 -1 14.796875 -1 \nC 16.296875 -1 24.40625 -0.8125 30.203125 3.5 \nL 30.203125 -0.203125 \nL 37.59375 -0.203125 \nz\nM 30 12.875 \nC 30 11.109375 30 8.734375 27 6.96875 \nC 24.40625 5.296875 21.09375 5.09375 19.703125 5.09375 \nC 14.703125 5.09375 11.296875 7.859375 11.296875 11.296875 \nC 11.296875 18.203125 26.90625 18.890625 30 19 \nz\n\" id=\"CMSS17-97\"/>\n     <path d=\"M 14.90625 21.390625 \nC 14.90625 30.84375 21.796875 37.171875 30.59375 37.375 \nL 30.59375 44 \nC 24.203125 43.890625 18.203125 40.6875 14.59375 35.46875 \nL 14.59375 43.484375 \nL 7.5 43.484375 \nL 7.5 0 \nL 14.90625 0 \nz\n\" id=\"CMSS17-114\"/>\n     <path d=\"M 17 43 \nL 9 43 \nL 9 34.984375 \nL 17 34.984375 \nz\nM 9 8 \nL 9 0 \nL 17 0 \nL 17 8 \nz\n\" id=\"CMSS17-58\"/>\n     <path d=\"M 28.40625 67 \nL 26.5 67 \nC 21.09375 61.703125 14.796875 60.96875 8.40625 60.796875 \nL 8.40625 55 \nC 11.296875 55.09375 16 55.296875 20.703125 57.390625 \nL 20.703125 5.796875 \nL 8.90625 5.796875 \nL 8.90625 0 \nL 40.203125 0 \nL 40.203125 5.796875 \nL 28.40625 5.796875 \nz\n\" id=\"CMSS17-49\"/>\n     <path d=\"M 21.703125 59.1875 \nC 22.90625 59.1875 24.09375 59.296875 25.296875 59.296875 \nL 36.796875 59.296875 \nC 22.5 42.421875 14.296875 21.09375 14.296875 -1 \nL 22.296875 -1 \nC 22.296875 20.390625 29.296875 42.109375 43 59.484375 \nL 43 66 \nL 3.90625 66 \nL 3.90625 59.1875 \nz\n\" id=\"CMSS17-55\"/>\n    </defs>\n    <g transform=\"translate(179.964136 15.50218)scale(0.12 -0.12)\">\n     <use transform=\"scale(0.996264)\" xlink:href=\"#CMSS17-89\"/>\n     <use transform=\"translate(54.4106 0)scale(0.996264)\" xlink:href=\"#CMSS17-101\"/>\n     <use transform=\"translate(96.049422 0)scale(0.996264)\" xlink:href=\"#CMSS17-97\"/>\n     <use transform=\"translate(138.368888 0)scale(0.996264)\" xlink:href=\"#CMSS17-114\"/>\n     <use transform=\"translate(170.278661 0)scale(0.996264)\" xlink:href=\"#CMSS17-58\"/>\n     <use transform=\"translate(237.941673 0)scale(0.996264)\" xlink:href=\"#CMSS17-50\"/>\n     <use transform=\"translate(284.785296 0)scale(0.996264)\" xlink:href=\"#CMSS17-48\"/>\n     <use transform=\"translate(331.62892 0)scale(0.996264)\" xlink:href=\"#CMSS17-49\"/>\n     <use transform=\"translate(378.472543 0)scale(0.996264)\" xlink:href=\"#CMSS17-55\"/>\n    </g>\n   </g>\n  </g>\n </g>\n <defs>\n  <clipPath id=\"p671d939464\">\n   <rect height=\"217.44\" width=\"334.8\" x=\"39.106676\" y=\"21.50218\"/>\n  </clipPath>\n </defs>\n</svg>\n",
      "image/png": "[encoded data removed]"
     },
     "metadata": {
      "needs_background": "light"
     }
    }
   ],
   "source": [
    "%matplotlib inline\n",
    "\n",
    "plt.plot(t_range[:n_months.months+1], fluSeries[startdate:enddate].values,'ok',label=\"Original data\")\n",
    "plt.plot(t_eval,I,'-r',label=\"Infected fit\")\n",
    "plt.text(15, 60, r'$\\gamma = $' + str(gamma))\n",
    "plt.text(15, 64, r'$\\beta = $' + str(beta))\n",
    "plt.title(\"Year: \" + str(year))\n",
    "plt.savefig(imageDir + \"fluIsolated/flu_\" + str(year) + \".png\" )\n",
    "plt.show()"
   ]
  }
 ],
 "metadata": {
  "kernelspec": {
   "display_name": "Python 3",
   "language": "python",
   "name": "python3"
  },
  "language_info": {
   "codemirror_mode": {
    "name": "ipython",
    "version": 3
   },
   "file_extension": ".py",
   "mimetype": "text/x-python",
   "name": "python",
   "nbconvert_exporter": "python",
   "pygments_lexer": "ipython3",
   "version": "3.7.7"
  }
 },
 "nbformat": 4,
 "nbformat_minor": 4
}