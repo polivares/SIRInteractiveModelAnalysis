{
 "cells": [
  {
   "cell_type": "code",
   "execution_count": 1,
   "metadata": {},
   "outputs": [],
   "source": [
    "import pandas as pd\n",
    "import matplotlib.pyplot as plt\n",
    "import scipy.integrate as spi\n",
    "from scipy.optimize import curve_fit,minimize,fmin\n",
    "import numpy as np\n",
    "import matplotlib \n",
    "import optuna\n",
    "import pickle as pkl  \n",
    "np.set_printoptions(suppress=True)\n",
    "plt.rc('text', usetex=True)\n",
    "\n",
    "dataDir = \"/home/polivares/Dropbox/DocUSM/Researches/InfluenzaMeningococcal/Data/\"\n",
    "imageDir = \"/home/polivares/Dropbox/DocUSM/Researches/InfluenzaMeningococcal/Scripts/images/\""
   ]
  },
  {
   "cell_type": "code",
   "execution_count": 2,
   "metadata": {},
   "outputs": [],
   "source": [
    "# Loading data\n",
    "menSeries = pd.read_pickle(dataDir + \"pkls/menSeries.pkl\")\n",
    "fluSeries = pd.read_pickle(dataDir + \"pkls/fluSeries.pkl\")\n",
    "ausPop = pd.read_pickle(dataDir + \"pkls/ausPop.pkl\")"
   ]
  },
  {
   "cell_type": "code",
   "execution_count": 3,
   "metadata": {},
   "outputs": [
    {
     "output_type": "execute_result",
     "data": {
      "text/plain": [
       "date\n",
       "2009-01    25\n",
       "2009-02     7\n",
       "2009-03    15\n",
       "2009-04    18\n",
       "2009-05    17\n",
       "           ..\n",
       "2017-08    39\n",
       "2017-09    67\n",
       "2017-10    51\n",
       "2017-11    28\n",
       "2017-12    23\n",
       "Name: Men, Length: 108, dtype: int64"
      ]
     },
     "metadata": {},
     "execution_count": 3
    }
   ],
   "source": [
    "menSeries"
   ]
  },
  {
   "cell_type": "code",
   "execution_count": 4,
   "metadata": {},
   "outputs": [],
   "source": [
    "import os\n",
    "if os.path.isfile(dataDir + \"flu_menSIIRParams.pkl\"):\n",
    "    flu_menParams = pkl.load(open(dataDir + \"flu_menSIIRParams.pkl\", \"rb\"))\n",
    "else:\n",
    "    flu_menParams = {}\n",
    "    \n",
    "menParams = pkl.load(open(dataDir + \"pkls/menSIRParams.pkl\", \"rb\"))\n",
    "fluParams = pkl.load(open(dataDir + \"pkls/fluSIRParams.pkl\", \"rb\"))"
   ]
  },
  {
   "cell_type": "code",
   "execution_count": 5,
   "metadata": {},
   "outputs": [
    {
     "output_type": "stream",
     "name": "stdout",
     "text": [
      "{2017: [69.37033397309656, 69.30257707258437, 0.1516317620776813], 2009: [60.231846774940124, 60.21980222020443, 0.15275229894586662], 2010: [-0.007996924771336527, 1.5674723254362843e-05, 0.10309441643286982], 2011: [-0.0012161035454762803, 0.04575438032812004, 0.10341005926078485], 2012: [168.30591038787196, 168.16297383533924, 0.13257514233058662], 2013: [121.34425185049055, 121.29626573215431, 0.1530242986181454], 2014: [212.8582713786913, 212.6516034393233, 0.045270446046769275], 2015: [254.14954418266785, 253.87905864700417, 0.0650289278363755], 2016: [-0.0019203871490743678, -0.020079890030061442, 0.12449161250375251]}\n{2017: [8.993779282533158, 8.347865953418331, 0.8051828650381628], 2008: [42.5326377333672, 41.95061087323178, 0.6177425164247533], 2009: [23.119115425141842, 22.083991154996014, 0.7438191626954874], 2010: [32.30813365036235, 31.80694514966924, 0.5097104487520645], 2011: [22.91502211555694, 22.474019634990025, 0.40824883608999374], 2012: [24.891229614896744, 24.092996505166525, 0.39765302267157104], 2013: [22.01052108945536, 21.5885895533915, 0.40562738960738526], 2014: [14.516747435308488, 14.01013969373412, 0.9477372372115072], 2015: [13.718650206765938, 13.121294215858713, 0.6382422553379445], 2016: [14.199845208468432, 13.651995896143694, 0.5599832630790567]}\n"
     ]
    }
   ],
   "source": [
    "print(menParams)\n",
    "print(fluParams)"
   ]
  },
  {
   "cell_type": "code",
   "execution_count": 6,
   "metadata": {},
   "outputs": [
    {
     "output_type": "stream",
     "name": "stdout",
     "text": [
      "relativedelta(months=+11)\n"
     ]
    }
   ],
   "source": [
    "# Evaluation time\n",
    "from datetime import datetime # Library for datetime format\n",
    "from dateutil import relativedelta # Library to calculate delta time from date\n",
    "\n",
    "year = 2017\n",
    "startdate = str(year) + '-01'\n",
    "enddate = str(year) + '-12'\n",
    "\n",
    "\n",
    "date_format = \"%Y-%m\"\n",
    "sd = datetime.strptime(startdate, date_format)\n",
    "ed = datetime.strptime(enddate, date_format)\n",
    "\n",
    "n_months = relativedelta.relativedelta(ed, sd) # Number of months (delta time)\n",
    "print(n_months)"
   ]
  },
  {
   "cell_type": "code",
   "execution_count": 7,
   "metadata": {},
   "outputs": [],
   "source": [
    "# Timestamp parameters\n",
    "t_start = 0.0; t_end = n_months.months; t_inc = 1\n",
    "t_range = np.arange(t_start, t_end+t_inc, t_inc)\n"
   ]
  },
  {
   "cell_type": "code",
   "execution_count": 8,
   "metadata": {},
   "outputs": [],
   "source": [
    "# Initial conditions\n",
    "SIIR0 = np.zeros(9)\n",
    "SIIR0[1] = (fluSeries[startdate])\n",
    "SIIR0[2] = (menSeries[startdate])\n",
    "SIIR0[0] = ausPop[year] - np.sum(SIIR0[1:8])\n",
    "\n",
    "fluMenSeries = np.concatenate((fluSeries[startdate:enddate].values,menSeries[startdate:enddate].values))"
   ]
  },
  {
   "cell_type": "code",
   "execution_count": 9,
   "metadata": {},
   "outputs": [],
   "source": [
    "# Defining SIIR isolated equations\n",
    "def SIIR_eqs(SIIR0,t,beta1,beta2, delta1, delta2, beta1prime, beta2prime, delta1prime, delta2prime):\n",
    "    #beta1, beta2, delta1, delta2, beta1prime, beta2prime, delta1prime, delta2prime = params\n",
    "    SSi, ISi, SIi, IIi, RSi, SRi, RIi, IRi, RRi = SIIR0\n",
    "    \n",
    "    N = np.sum(SIIR0)\n",
    "    \n",
    "    SS = -SSi * beta1 * (ISi + IIi + IRi) / N - SSi * beta2 * (SIi + IIi + RIi) / N\n",
    "    SI = beta2*SSi*(SIi + IIi + RIi)/N - beta1prime*SIi*(ISi + IIi + IRi)/N - delta2*SIi \n",
    "    SR = delta2 * SIi - SRi * beta1 * (ISi + IIi + IRi)/N\n",
    "    IS = SSi * beta1 * (ISi + IIi + IRi) / N - delta1 * ISi - ISi * beta2prime * (SIi + IIi + RIi) / N\n",
    "    II = ISi * beta2prime * (SIi + IIi + RIi) / N + SIi * beta1prime * (ISi + IIi + IRi) / N - delta1prime * IIi - delta2prime * IIi\n",
    "    IR = SRi * beta1 * (ISi + IIi + IRi) / N + delta2prime * IIi - delta1 * IRi\n",
    "    RS = delta1 * ISi - RSi * beta2 * (SIi + IIi + RIi) / N\n",
    "    RI = RSi * beta2 * (SIi + IIi + RIi) / N + delta1prime * IIi - delta2 * RIi\n",
    "    RR = delta1 * IRi + delta2 * RIi\n",
    "\n",
    "    return SS, IS, SI, II, RS, SR, RI, IR, RR\n",
    "\n",
    "# Fitting function from infected data and I state on SIR model\n",
    "def fitSIIR(t, beta1,beta2, gamma1, gamma2, beta1int, beta2int, gamma1int, gamma2int):\n",
    "    sir_res = spi.odeint(SIIR_eqs,SIIR0,t,args=(beta1,beta2, gamma1, gamma2, beta1int, beta2int, gamma1int, gamma2int)) \n",
    "    I1 = sir_res[:,1] + sir_res[:,3] + sir_res[:,7] \n",
    "    I2 = sir_res[:,2] + sir_res[:,3] + sir_res[:,6]\n",
    "    return I1,I2\n",
    "\n",
    "def fitErrorSIIR(trial):\n",
    "    #(9.00165750105233, 69.35210027387456, 8.35506567120736, 69.35957442372714, 10.060360325775953, 97.56183004648915, 4.957084610524714, 53.932494914485716)\n",
    "    #beta1 = trial.suggest_float(\"beta1\",8,10,step=0.0001)\n",
    "    beta1 = trial.suggest_float(\"beta1\",1,100,step=0.0001)\n",
    "    #beta2 = trial.suggest_float(\"beta2\",68,71,step=0.0001)\n",
    "    beta2 = trial.suggest_float(\"beta2\",1,100,step=0.0001)\n",
    "    #gamma1 = trial.suggest_float(\"gamma1\",7,9,step=0.0001)\n",
    "    gamma1 = trial.suggest_float(\"gamma1\",1,100,step=0.0001)\n",
    "    #gamma2 = trial.suggest_float(\"gamma2\",68,71,step=0.0001)\n",
    "    gamma2 = trial.suggest_float(\"gamma2\",1,100,step=0.0001)\n",
    "    #beta1int = trial.suggest_float(\"beta1int\",9,11,step=0.0001)\n",
    "    beta1int = trial.suggest_float(\"beta1int\",1,150,step=0.0001)\n",
    "    #beta2int = trial.suggest_float(\"beta2int\",96,101,step=0.0001)\n",
    "    beta2int = trial.suggest_float(\"beta2int\",1,150,step=0.0001)\n",
    "    #gamma1int = trial.suggest_float(\"gamma1int\",4,6,step=0.0001)\n",
    "    gamma1int = trial.suggest_float(\"gamma1int\",1,150,step=0.0001)\n",
    "    #gamma2int = trial.suggest_float(\"gamma2int\",52,54,step=0.0001)\n",
    "    gamma2int = trial.suggest_float(\"gamma2int\",1,150,step=0.0001)\n",
    "    #w = trial.suggest_float(\"w\",1,100)\n",
    "    w=10000\n",
    "    params = beta1,beta2, gamma1, gamma2, beta1int, beta2int, gamma1int, gamma2int\n",
    "\n",
    "    #beta1,beta2, gamma1, gamma2, beta1int, beta2int, gamma1int, gamma2int = params\n",
    "    def normMSE(data,model):\n",
    "        n = len(data)\n",
    "        mse = ((data-model)**2).sum()\n",
    "        nmse = mse/(n*(data.sum()/n)*(model.sum()/n))\n",
    "        \n",
    "        return nmse\n",
    "    params_np = np.array(params)\n",
    "    k = 1 # penalization\n",
    "    if np.any(params_np<0):\n",
    "        k = 1000000\n",
    "    I1,I2 = fitSIIR(t_range, beta1,beta2, gamma1, gamma2, beta1int, beta2int, gamma1int, gamma2int)\n",
    "    sim = [normMSE(fluSeries[startdate:enddate],I1),normMSE(menSeries[startdate:enddate],I2)]   \n",
    "    return k * np.linalg.norm(sim)\n",
    "    "
   ]
  },
  {
   "cell_type": "code",
   "execution_count": 10,
   "metadata": {},
   "outputs": [
    {
     "output_type": "error",
     "ename": "NameError",
     "evalue": "name 'I1' is not defined",
     "traceback": [
      "\u001b[0;31m---------------------------------------------------------------------------\u001b[0m",
      "\u001b[0;31mNameError\u001b[0m                                 Traceback (most recent call last)",
      "\u001b[0;32m<ipython-input-10-2a7bf1867716>\u001b[0m in \u001b[0;36m<module>\u001b[0;34m\u001b[0m\n\u001b[0;32m----> 1\u001b[0;31m \u001b[0mlen\u001b[0m\u001b[0;34m(\u001b[0m\u001b[0mI1\u001b[0m\u001b[0;34m)\u001b[0m\u001b[0;34m\u001b[0m\u001b[0;34m\u001b[0m\u001b[0m\n\u001b[0m",
      "\u001b[0;31mNameError\u001b[0m: name 'I1' is not defined"
     ]
    }
   ],
   "source": [
    "len(I1)"
   ]
  },
  {
   "cell_type": "code",
   "execution_count": null,
   "metadata": {},
   "outputs": [],
   "source": [
    "len(np.concatenate((I1,I2)))"
   ]
  },
  {
   "cell_type": "code",
   "execution_count": 12,
   "metadata": {
    "tags": [
     "outputPrepend"
    ]
   },
   "outputs": [
    {
     "output_type": "stream",
     "name": "stderr",
     "text": [
      "4.084, 'gamma1': 10.2277, 'gamma2': 17.8098, 'beta1int': 35.8035, 'beta2int': 58.9012, 'gamma1int': 59.451800000000006, 'gamma2int': 144.81560000000002}. Best is trial 1824 with value: 4.846826106988934.\u001b[0m\n",
      "\u001b[32m[I 2021-03-30 02:46:57,158]\u001b[0m Trial 9942 finished with value: 90.63942538382052 and parameters: {'beta1': 10.2209, 'beta2': 52.668600000000005, 'gamma1': 7.1943, 'gamma2': 19.703, 'beta1int': 30.485400000000002, 'beta2int': 75.7458, 'gamma1int': 69.59, 'gamma2int': 143.0447}. Best is trial 1824 with value: 4.846826106988934.\u001b[0m\n",
      "\u001b[32m[I 2021-03-30 02:46:58,142]\u001b[0m Trial 9943 finished with value: 60.10968141734645 and parameters: {'beta1': 4.6006, 'beta2': 64.1856, 'gamma1': 2.9131, 'gamma2': 21.1571, 'beta1int': 33.708800000000004, 'beta2int': 65.37610000000001, 'gamma1int': 65.2829, 'gamma2int': 141.3836}. Best is trial 1824 with value: 4.846826106988934.\u001b[0m\n",
      "\u001b[32m[I 2021-03-30 02:46:59,046]\u001b[0m Trial 9944 finished with value: 253.6189607953796 and parameters: {'beta1': 6.8239, 'beta2': 68.0852, 'gamma1': 8.4983, 'gamma2': 23.201800000000002, 'beta1int': 30.067500000000003, 'beta2int': 67.8323, 'gamma1int': 57.2162, 'gamma2int': 141.4161}. Best is trial 1824 with value: 4.846826106988934.\u001b[0m\n",
      "\u001b[32m[I 2021-03-30 02:46:59,986]\u001b[0m Trial 9945 finished with value: 102.72131918688162 and parameters: {'beta1': 8.3585, 'beta2': 62.9951, 'gamma1': 4.7148, 'gamma2': 15.949200000000001, 'beta1int': 39.604400000000005, 'beta2int': 61.7184, 'gamma1int': 63.670500000000004, 'gamma2int': 146.5359}. Best is trial 1824 with value: 4.846826106988934.\u001b[0m\n",
      "\u001b[32m[I 2021-03-30 02:47:00,954]\u001b[0m Trial 9946 finished with value: 5.100392524450321 and parameters: {'beta1': 10.315100000000001, 'beta2': 65.5603, 'gamma1': 9.6758, 'gamma2': 23.419600000000003, 'beta1int': 36.1057, 'beta2int': 72.0018, 'gamma1int': 55.943400000000004, 'gamma2int': 144.5598}. Best is trial 1824 with value: 4.846826106988934.\u001b[0m\n",
      "\u001b[32m[I 2021-03-30 02:47:01,784]\u001b[0m Trial 9947 finished with value: 343.0208678234701 and parameters: {'beta1': 6.1467, 'beta2': 84.1511, 'gamma1': 79.81620000000001, 'gamma2': 19.9086, 'beta1int': 30.5288, 'beta2int': 65.4952, 'gamma1int': 69.4923, 'gamma2int': 143.13410000000002}. Best is trial 1824 with value: 4.846826106988934.\u001b[0m\n",
      "\u001b[32m[I 2021-03-30 02:47:02,675]\u001b[0m Trial 9948 finished with value: 365.65264419172047 and parameters: {'beta1': 10.308200000000001, 'beta2': 70.5951, 'gamma1': 1.075, 'gamma2': 21.6817, 'beta1int': 33.3307, 'beta2int': 66.74510000000001, 'gamma1int': 69.8463, 'gamma2int': 149.5021}. Best is trial 1824 with value: 4.846826106988934.\u001b[0m\n",
      "\u001b[32m[I 2021-03-30 02:47:03,622]\u001b[0m Trial 9949 finished with value: 342.9241246156376 and parameters: {'beta1': 8.093399999999999, 'beta2': 67.053, 'gamma1': 87.3233, 'gamma2': 17.954900000000002, 'beta1int': 38.9658, 'beta2int': 58.3102, 'gamma1int': 65.6097, 'gamma2int': 145.21970000000002}. Best is trial 1824 with value: 4.846826106988934.\u001b[0m\n",
      "\u001b[32m[I 2021-03-30 02:47:04,553]\u001b[0m Trial 9950 finished with value: 294.09852092390133 and parameters: {'beta1': 3.936, 'beta2': 62.4095, 'gamma1': 6.3658, 'gamma2': 23.148300000000003, 'beta1int': 30.9767, 'beta2int': 61.1691, 'gamma1int': 60.513600000000004, 'gamma2int': 149.4413}. Best is trial 1824 with value: 4.846826106988934.\u001b[0m\n",
      "\u001b[32m[I 2021-03-30 02:47:05,474]\u001b[0m Trial 9951 finished with value: 501.62211797837557 and parameters: {'beta1': 6.0074000000000005, 'beta2': 69.556, 'gamma1': 10.2445, 'gamma2': 9.948500000000001, 'beta1int': 43.0874, 'beta2int': 62.9679, 'gamma1int': 65.2189, 'gamma2int': 140.5342}. Best is trial 1824 with value: 4.846826106988934.\u001b[0m\n",
      "\u001b[32m[I 2021-03-30 02:47:06,384]\u001b[0m Trial 9952 finished with value: 20.370251309735124 and parameters: {'beta1': 10.2188, 'beta2': 65.4311, 'gamma1': 8.0676, 'gamma2': 20.0245, 'beta1int': 29.570400000000003, 'beta2int': 69.2283, 'gamma1int': 69.23910000000001, 'gamma2int': 145.9995}. Best is trial 1824 with value: 4.846826106988934.\u001b[0m\n",
      "\u001b[32m[I 2021-03-30 02:47:07,277]\u001b[0m Trial 9953 finished with value: 343.098268738434 and parameters: {'beta1': 8.213799999999999, 'beta2': 67.2838, 'gamma1': 36.4666, 'gamma2': 16.1202, 'beta1int': 36.6362, 'beta2int': 57.375600000000006, 'gamma1int': 61.2212, 'gamma2int': 146.7734}. Best is trial 1824 with value: 4.846826106988934.\u001b[0m\n",
      "\u001b[32m[I 2021-03-30 02:47:08,179]\u001b[0m Trial 9954 finished with value: 344.8510913438557 and parameters: {'beta1': 10.2263, 'beta2': 77.6008, 'gamma1': 45.014, 'gamma2': 12.8435, 'beta1int': 30.353, 'beta2int': 61.389300000000006, 'gamma1int': 70.0073, 'gamma2int': 141.5276}. Best is trial 1824 with value: 4.846826106988934.\u001b[0m\n",
      "\u001b[32m[I 2021-03-30 02:47:09,044]\u001b[0m Trial 9955 finished with value: 10.174837588174592 and parameters: {'beta1': 6.1121, 'beta2': 63.7408, 'gamma1': 5.1027000000000005, 'gamma2': 23.2983, 'beta1int': 33.4474, 'beta2int': 74.6187, 'gamma1int': 53.8729, 'gamma2int': 149.3751}. Best is trial 1824 with value: 4.846826106988934.\u001b[0m\n",
      "\u001b[32m[I 2021-03-30 02:47:09,833]\u001b[0m Trial 9956 finished with value: 16.739186714266843 and parameters: {'beta1': 8.148800000000001, 'beta2': 73.5946, 'gamma1': 8.088000000000001, 'gamma2': 21.8477, 'beta1int': 34.1122, 'beta2int': 58.0779, 'gamma1int': 66.29690000000001, 'gamma2int': 141.0822}. Best is trial 1824 with value: 4.846826106988934.\u001b[0m\n",
      "\u001b[32m[I 2021-03-30 02:47:10,716]\u001b[0m Trial 9957 finished with value: 342.5416119447253 and parameters: {'beta1': 2.5839, 'beta2': 65.5686, 'gamma1': 10.1549, 'gamma2': 17.688200000000002, 'beta1int': 30.0911, 'beta2int': 63.516000000000005, 'gamma1int': 62.8633, 'gamma2int': 149.4032}. Best is trial 1824 with value: 4.846826106988934.\u001b[0m\n",
      "\u001b[32m[I 2021-03-30 02:47:11,648]\u001b[0m Trial 9958 finished with value: 51572.296581987575 and parameters: {'beta1': 10.4285, 'beta2': 37.1205, 'gamma1': 6.435700000000001, 'gamma2': 23.389200000000002, 'beta1int': 36.924600000000005, 'beta2int': 67.4961, 'gamma1int': 63.646100000000004, 'gamma2int': 144.8708}. Best is trial 1824 with value: 4.846826106988934.\u001b[0m\n",
      "\u001b[32m[I 2021-03-30 02:47:12,462]\u001b[0m Trial 9959 finished with value: 58.27876024273676 and parameters: {'beta1': 4.8759, 'beta2': 68.4063, 'gamma1': 3.1153, 'gamma2': 19.9788, 'beta1int': 29.6537, 'beta2int': 64.9649, 'gamma1int': 70.3447, 'gamma2int': 141.1408}. Best is trial 1824 with value: 4.846826106988934.\u001b[0m\n",
      "\u001b[32m[I 2021-03-30 02:47:13,267]\u001b[0m Trial 9960 finished with value: 266.3087071273659 and parameters: {'beta1': 8.3262, 'beta2': 62.498200000000004, 'gamma1': 10.1098, 'gamma2': 23.604400000000002, 'beta1int': 33.9215, 'beta2int': 70.10560000000001, 'gamma1int': 69.635, 'gamma2int': 141.29600000000002}. Best is trial 1824 with value: 4.846826106988934.\u001b[0m\n",
      "\u001b[32m[I 2021-03-30 02:47:14,034]\u001b[0m Trial 9961 finished with value: 342.90317779374817 and parameters: {'beta1': 6.6568000000000005, 'beta2': 72.0265, 'gamma1': 76.30930000000001, 'gamma2': 19.729100000000003, 'beta1int': 29.6845, 'beta2int': 60.563500000000005, 'gamma1int': 65.6195, 'gamma2int': 143.5217}. Best is trial 1824 with value: 4.846826106988934.\u001b[0m\n",
      "\u001b[32m[I 2021-03-30 02:47:14,835]\u001b[0m Trial 9962 finished with value: 25.404660174666294 and parameters: {'beta1': 10.4762, 'beta2': 64.8046, 'gamma1': 7.9629, 'gamma2': 21.3476, 'beta1int': 33.0155, 'beta2int': 62.4544, 'gamma1int': 59.3288, 'gamma2int': 149.5848}. Best is trial 1824 with value: 4.846826106988934.\u001b[0m\n",
      "\u001b[32m[I 2021-03-30 02:47:15,632]\u001b[0m Trial 9963 finished with value: 1198.9043522147842 and parameters: {'beta1': 68.6071, 'beta2': 69.3601, 'gamma1': 5.4225, 'gamma2': 17.7058, 'beta1int': 39.2368, 'beta2int': 58.216100000000004, 'gamma1int': 67.498, 'gamma2int': 149.6578}. Best is trial 1824 with value: 4.846826106988934.\u001b[0m\n",
      "\u001b[32m[I 2021-03-30 02:47:16,436]\u001b[0m Trial 9964 finished with value: 263.51946070412015 and parameters: {'beta1': 8.4802, 'beta2': 66.70360000000001, 'gamma1': 10.3054, 'gamma2': 23.690900000000003, 'beta1int': 36.051, 'beta2int': 65.375, 'gamma1int': 70.1603, 'gamma2int': 146.9889}. Best is trial 1824 with value: 4.846826106988934.\u001b[0m\n",
      "\u001b[32m[I 2021-03-30 02:47:17,290]\u001b[0m Trial 9965 finished with value: 329.0511210587005 and parameters: {'beta1': 3.8905000000000003, 'beta2': 63.6815, 'gamma1': 7.9141, 'gamma2': 15.047600000000001, 'beta1int': 30.011100000000003, 'beta2int': 72.31190000000001, 'gamma1int': 63.3926, 'gamma2int': 146.6779}. Best is trial 1824 with value: 4.846826106988934.\u001b[0m\n",
      "\u001b[32m[I 2021-03-30 02:47:18,100]\u001b[0m Trial 9966 finished with value: 4240.257288824677 and parameters: {'beta1': 6.1431000000000004, 'beta2': 40.8543, 'gamma1': 6.7647, 'gamma2': 19.345200000000002, 'beta1int': 41.3956, 'beta2int': 67.5789, 'gamma1int': 67.293, 'gamma2int': 143.7887}. Best is trial 1824 with value: 4.846826106988934.\u001b[0m\n",
      "\u001b[32m[I 2021-03-30 02:47:18,983]\u001b[0m Trial 9967 finished with value: 92.6024006363671 and parameters: {'beta1': 10.6088, 'beta2': 62.5901, 'gamma1': 4.4519, 'gamma2': 23.5033, 'beta1int': 30.616200000000003, 'beta2int': 59.7181, 'gamma1int': 55.24, 'gamma2int': 141.1433}. Best is trial 1824 with value: 4.846826106988934.\u001b[0m\n",
      "\u001b[32m[I 2021-03-30 02:47:19,784]\u001b[0m Trial 9968 finished with value: 425.62814100596654 and parameters: {'beta1': 8.5052, 'beta2': 48.8859, 'gamma1': 10.3919, 'gamma2': 22.037300000000002, 'beta1int': 30.0618, 'beta2int': 64.0296, 'gamma1int': 61.9493, 'gamma2int': 140.6869}. Best is trial 1824 with value: 4.846826106988934.\u001b[0m\n",
      "\u001b[32m[I 2021-03-30 02:47:20,641]\u001b[0m Trial 9969 finished with value: 13.619916428064117 and parameters: {'beta1': 10.3358, 'beta2': 67.263, 'gamma1': 8.700700000000001, 'gamma2': 17.305500000000002, 'beta1int': 33.5399, 'beta2int': 75.7724, 'gamma1int': 58.706300000000006, 'gamma2int': 141.055}. Best is trial 1824 with value: 4.846826106988934.\u001b[0m\n",
      "\u001b[32m[I 2021-03-30 02:47:21,642]\u001b[0m Trial 9970 finished with value: 7160.601879518006 and parameters: {'beta1': 7.3447000000000005, 'beta2': 64.9218, 'gamma1': 2.8821000000000003, 'gamma2': 5.450200000000001, 'beta1int': 36.367200000000004, 'beta2int': 61.811600000000006, 'gamma1int': 69.894, 'gamma2int': 144.066}. Best is trial 1824 with value: 4.846826106988934.\u001b[0m\n",
      "\u001b[32m[I 2021-03-30 02:47:22,449]\u001b[0m Trial 9971 finished with value: 172.46423169079023 and parameters: {'beta1': 5.2866, 'beta2': 70.4685, 'gamma1': 6.3163, 'gamma2': 21.8828, 'beta1int': 33.0507, 'beta2int': 58.078, 'gamma1int': 66.3596, 'gamma2int': 145.7602}. Best is trial 1824 with value: 4.846826106988934.\u001b[0m\n",
      "\u001b[32m[I 2021-03-30 02:47:23,233]\u001b[0m Trial 9972 finished with value: 15.528306457363303 and parameters: {'beta1': 10.4588, 'beta2': 61.302400000000006, 'gamma1': 10.3096, 'gamma2': 19.948, 'beta1int': 30.165300000000002, 'beta2int': 57.705400000000004, 'gamma1int': 69.71560000000001, 'gamma2int': 149.691}. Best is trial 1824 with value: 4.846826106988934.\u001b[0m\n",
      "\u001b[32m[I 2021-03-30 02:47:23,994]\u001b[0m Trial 9973 finished with value: 27.59263191613009 and parameters: {'beta1': 8.4634, 'beta2': 66.3528, 'gamma1': 8.5, 'gamma2': 21.3332, 'beta1int': 30.484, 'beta2int': 66.0412, 'gamma1int': 63.2715, 'gamma2int': 140.7923}. Best is trial 1824 with value: 4.846826106988934.\u001b[0m\n",
      "\u001b[32m[I 2021-03-30 02:47:24,825]\u001b[0m Trial 9974 finished with value: 450.9961303380004 and parameters: {'beta1': 6.454400000000001, 'beta2': 68.1863, 'gamma1': 1.0378, 'gamma2': 23.5056, 'beta1int': 33.5234, 'beta2int': 71.1571, 'gamma1int': 66.6444, 'gamma2int': 146.20770000000002}. Best is trial 1824 with value: 4.846826106988934.\u001b[0m\n",
      "\u001b[32m[I 2021-03-30 02:47:25,616]\u001b[0m Trial 9975 finished with value: 343.05240910575935 and parameters: {'beta1': 3.4503, 'beta2': 76.03070000000001, 'gamma1': 83.6457, 'gamma2': 14.7775, 'beta1int': 38.0855, 'beta2int': 62.0566, 'gamma1int': 70.5814, 'gamma2int': 143.7192}. Best is trial 1824 with value: 4.846826106988934.\u001b[0m\n",
      "\u001b[32m[I 2021-03-30 02:47:26,441]\u001b[0m Trial 9976 finished with value: 101.23197337209548 and parameters: {'beta1': 10.5187, 'beta2': 63.634, 'gamma1': 4.8308, 'gamma2': 23.7239, 'beta1int': 30.316300000000002, 'beta2int': 66.74730000000001, 'gamma1int': 58.2967, 'gamma2int': 140.7244}. Best is trial 1824 with value: 4.846826106988934.\u001b[0m\n",
      "\u001b[32m[I 2021-03-30 02:47:27,306]\u001b[0m Trial 9977 finished with value: 785.8748875309846 and parameters: {'beta1': 8.7481, 'beta2': 45.231, 'gamma1': 7.510400000000001, 'gamma2': 18.721600000000002, 'beta1int': 30.048000000000002, 'beta2int': 69.03620000000001, 'gamma1int': 53.3083, 'gamma2int': 146.97580000000002}. Best is trial 1824 with value: 4.846826106988934.\u001b[0m\n",
      "\u001b[32m[I 2021-03-30 02:47:28,152]\u001b[0m Trial 9978 finished with value: 313.5487371230443 and parameters: {'beta1': 6.946400000000001, 'beta2': 81.5139, 'gamma1': 10.3245, 'gamma2': 16.8029, 'beta1int': 35.7441, 'beta2int': 59.8858, 'gamma1int': 62.9202, 'gamma2int': 146.5583}. Best is trial 1824 with value: 4.846826106988934.\u001b[0m\n",
      "\u001b[32m[I 2021-03-30 02:47:28,985]\u001b[0m Trial 9979 finished with value: 79.25743419365392 and parameters: {'beta1': 10.4389, 'beta2': 61.5949, 'gamma1': 6.5063, 'gamma2': 21.0885, 'beta1int': 39.4283, 'beta2int': 72.5882, 'gamma1int': 66.2548, 'gamma2int': 140.8364}. Best is trial 1824 with value: 4.846826106988934.\u001b[0m\n",
      "\u001b[32m[I 2021-03-30 02:47:29,802]\u001b[0m Trial 9980 finished with value: 332.92500144357064 and parameters: {'beta1': 4.8307, 'beta2': 65.37230000000001, 'gamma1': 8.753900000000002, 'gamma2': 23.5255, 'beta1int': 29.639300000000002, 'beta2int': 62.0861, 'gamma1int': 70.67320000000001, 'gamma2int': 146.80180000000001}. Best is trial 1824 with value: 4.846826106988934.\u001b[0m\n",
      "\u001b[32m[I 2021-03-30 02:47:30,712]\u001b[0m Trial 9981 finished with value: 165.5836602372213 and parameters: {'beta1': 8.3968, 'beta2': 69.30760000000001, 'gamma1': 3.9684, 'gamma2': 18.9042, 'beta1int': 33.6983, 'beta2int': 68.6614, 'gamma1int': 62.5764, 'gamma2int': 143.6501}. Best is trial 1824 with value: 4.846826106988934.\u001b[0m\n",
      "\u001b[32m[I 2021-03-30 02:47:31,595]\u001b[0m Trial 9982 finished with value: 299.14221483484425 and parameters: {'beta1': 6.5821000000000005, 'beta2': 71.8764, 'gamma1': 9.042900000000001, 'gamma2': 21.953, 'beta1int': 29.817800000000002, 'beta2int': 64.09800000000001, 'gamma1int': 64.5565, 'gamma2int': 149.5189}. Best is trial 1824 with value: 4.846826106988934.\u001b[0m\n",
      "\u001b[32m[I 2021-03-30 02:47:32,423]\u001b[0m Trial 9983 finished with value: 342.83517457875695 and parameters: {'beta1': 1.0668, 'beta2': 66.6884, 'gamma1': 10.8972, 'gamma2': 20.054000000000002, 'beta1int': 41.5812, 'beta2int': 56.6482, 'gamma1int': 70.3407, 'gamma2int': 144.1279}. Best is trial 1824 with value: 4.846826106988934.\u001b[0m\n",
      "\u001b[32m[I 2021-03-30 02:47:33,255]\u001b[0m Trial 9984 finished with value: 87.94080518380822 and parameters: {'beta1': 10.5207, 'beta2': 64.0327, 'gamma1': 6.3695, 'gamma2': 15.8099, 'beta1int': 35.3499, 'beta2int': 75.31110000000001, 'gamma1int': 69.7371, 'gamma2int': 141.0658}. Best is trial 1824 with value: 4.846826106988934.\u001b[0m\n",
      "\u001b[32m[I 2021-03-30 02:47:34,104]\u001b[0m Trial 9985 finished with value: 5.752541031033189 and parameters: {'beta1': 8.6769, 'beta2': 62.3029, 'gamma1': 7.9994000000000005, 'gamma2': 23.381, 'beta1int': 32.5124, 'beta2int': 70.5173, 'gamma1int': 65.09740000000001, 'gamma2int': 149.15640000000002}. Best is trial 1824 with value: 4.846826106988934.\u001b[0m\n",
      "\u001b[32m[I 2021-03-30 02:47:34,891]\u001b[0m Trial 9986 finished with value: 344.9483032743762 and parameters: {'beta1': 3.1625, 'beta2': 68.1772, 'gamma1': 10.9509, 'gamma2': 13.6617, 'beta1int': 29.5881, 'beta2int': 60.8969, 'gamma1int': 60.412400000000005, 'gamma2int': 140.90970000000002}. Best is trial 1824 with value: 4.846826106988934.\u001b[0m\n",
      "\u001b[32m[I 2021-03-30 02:47:35,687]\u001b[0m Trial 9987 finished with value: 9.587663321995349 and parameters: {'beta1': 5.1882, 'beta2': 65.3412, 'gamma1': 4.8964, 'gamma2': 17.491400000000002, 'beta1int': 35.6462, 'beta2int': 57.5842, 'gamma1int': 55.146800000000006, 'gamma2int': 149.7589}. Best is trial 1824 with value: 4.846826106988934.\u001b[0m\n",
      "\u001b[32m[I 2021-03-30 02:47:36,556]\u001b[0m Trial 9988 finished with value: 87.1465746135086 and parameters: {'beta1': 11.145900000000001, 'beta2': 70.85260000000001, 'gamma1': 6.7005, 'gamma2': 21.6238, 'beta1int': 30.1685, 'beta2int': 66.6743, 'gamma1int': 67.324, 'gamma2int': 149.1844}. Best is trial 1824 with value: 4.846826106988934.\u001b[0m\n",
      "\u001b[32m[I 2021-03-30 02:47:37,395]\u001b[0m Trial 9989 finished with value: 244.79307887248345 and parameters: {'beta1': 7.628900000000001, 'beta2': 63.884800000000006, 'gamma1': 2.7492, 'gamma2': 19.343500000000002, 'beta1int': 37.154900000000005, 'beta2int': 59.3166, 'gamma1int': 59.704, 'gamma2int': 140.4521}. Best is trial 1824 with value: 4.846826106988934.\u001b[0m\n",
      "\u001b[32m[I 2021-03-30 02:47:38,187]\u001b[0m Trial 9990 finished with value: 168.8441393174374 and parameters: {'beta1': 9.430900000000001, 'beta2': 67.2196, 'gamma1': 10.3268, 'gamma2': 23.5182, 'beta1int': 33.4538, 'beta2int': 66.3497, 'gamma1int': 61.3601, 'gamma2int': 146.7722}. Best is trial 1824 with value: 4.846826106988934.\u001b[0m\n",
      "\u001b[32m[I 2021-03-30 02:47:38,992]\u001b[0m Trial 9991 finished with value: 237.1992440622204 and parameters: {'beta1': 6.7401, 'beta2': 60.353300000000004, 'gamma1': 8.6049, 'gamma2': 20.8198, 'beta1int': 43.879400000000004, 'beta2int': 63.282900000000005, 'gamma1int': 66.3917, 'gamma2int': 140.9068}. Best is trial 1824 with value: 4.846826106988934.\u001b[0m\n",
      "\u001b[32m[I 2021-03-30 02:47:39,796]\u001b[0m Trial 9992 finished with value: 74.70808503448372 and parameters: {'beta1': 10.5348, 'beta2': 65.47290000000001, 'gamma1': 5.7335, 'gamma2': 17.3228, 'beta1int': 46.970200000000006, 'beta2int': 61.8282, 'gamma1int': 66.4402, 'gamma2int': 146.6885}. Best is trial 1824 with value: 4.846826106988934.\u001b[0m\n",
      "\u001b[32m[I 2021-03-30 02:47:40,823]\u001b[0m Trial 9993 finished with value: 333.8692896431775 and parameters: {'beta1': 4.6418, 'beta2': 62.128800000000005, 'gamma1': 8.7301, 'gamma2': 23.2828, 'beta1int': 29.6506, 'beta2int': 57.6466, 'gamma1int': 62.0448, 'gamma2int': 143.2687}. Best is trial 1824 with value: 4.846826106988934.\u001b[0m\n",
      "\u001b[32m[I 2021-03-30 02:47:41,685]\u001b[0m Trial 9994 finished with value: 269.9882042475449 and parameters: {'beta1': 8.8248, 'beta2': 68.6232, 'gamma1': 10.782300000000001, 'gamma2': 19.1985, 'beta1int': 32.0906, 'beta2int': 63.8543, 'gamma1int': 69.7581, 'gamma2int': 149.4653}. Best is trial 1824 with value: 4.846826106988934.\u001b[0m\n",
      "\u001b[32m[I 2021-03-30 02:47:42,490]\u001b[0m Trial 9995 finished with value: 39.191878133707796 and parameters: {'beta1': 6.9035, 'beta2': 74.0201, 'gamma1': 7.0864, 'gamma2': 21.375600000000002, 'beta1int': 37.8816, 'beta2int': 73.706, 'gamma1int': 69.513, 'gamma2int': 144.60670000000002}. Best is trial 1824 with value: 4.846826106988934.\u001b[0m\n",
      "\u001b[32m[I 2021-03-30 02:47:43,417]\u001b[0m Trial 9996 finished with value: 88.47432127644046 and parameters: {'beta1': 10.874500000000001, 'beta2': 63.9985, 'gamma1': 4.7391000000000005, 'gamma2': 23.4907, 'beta1int': 29.8721, 'beta2int': 70.6887, 'gamma1int': 70.7283, 'gamma2int': 140.0298}. Best is trial 1824 with value: 4.846826106988934.\u001b[0m\n",
      "\u001b[32m[I 2021-03-30 02:47:44,172]\u001b[0m Trial 9997 finished with value: 372.2705739858544 and parameters: {'beta1': 2.7409, 'beta2': 66.4521, 'gamma1': 9.337, 'gamma2': 11.729000000000001, 'beta1int': 32.963300000000004, 'beta2int': 66.9865, 'gamma1int': 64.8091, 'gamma2int': 140.62900000000002}. Best is trial 1824 with value: 4.846826106988934.\u001b[0m\n",
      "\u001b[32m[I 2021-03-30 02:47:45,038]\u001b[0m Trial 9998 finished with value: 287.1592228000338 and parameters: {'beta1': 8.8919, 'beta2': 69.8353, 'gamma1': 11.0655, 'gamma2': 21.7212, 'beta1int': 29.6249, 'beta2int': 60.174, 'gamma1int': 57.0899, 'gamma2int': 143.1741}. Best is trial 1824 with value: 4.846826106988934.\u001b[0m\n",
      "\u001b[32m[I 2021-03-30 02:47:45,851]\u001b[0m Trial 9999 finished with value: 46.04689637082554 and parameters: {'beta1': 10.933300000000001, 'beta2': 61.0506, 'gamma1': 8.0737, 'gamma2': 15.539200000000001, 'beta1int': 33.4914, 'beta2int': 64.24270000000001, 'gamma1int': 67.1851, 'gamma2int': 146.9802}. Best is trial 1824 with value: 4.846826106988934.\u001b[0m\n"
     ]
    },
    {
     "output_type": "execute_result",
     "data": {
      "text/plain": [
       "{'beta1': 6.3705,\n",
       " 'beta2': 71.91550000000001,\n",
       " 'gamma1': 12.092,\n",
       " 'gamma2': 18.3091,\n",
       " 'beta1int': 16.3675,\n",
       " 'beta2int': 134.81300000000002,\n",
       " 'gamma1int': 92.7578,\n",
       " 'gamma2int': 129.793}"
      ]
     },
     "metadata": {},
     "execution_count": 12
    }
   ],
   "source": [
    "study = optuna.create_study()\n",
    "study.optimize(fitErrorSIIR, n_trials=10000)\n",
    "\n",
    "study.best_params  # E.g. {'x': 2.002108042}"
   ]
  },
  {
   "cell_type": "code",
   "execution_count": null,
   "metadata": {},
   "outputs": [],
   "source": [
    "\"\"\"p0=[fluParams[year][0],menParams[year][0],fluParams[year][1],menParams[year][1],\n",
    "    fluParams[year][0],menParams[year][0],fluParams[year][1],menParams[year][1]]\n",
    "\n",
    "#COBYLA\n",
    "#params = minimize(fitErrorSIIR,p0,options={'maxiter':10000},\n",
    "#        bounds=((0,None),(0,None),(0,None),(0,None),\n",
    "#               (0,None),(0,None),(0,None),(0,None)))\n",
    "\n",
    "answ=fmin(fitErrorSIIR,p0,full_output=1,maxiter=10000)\n",
    "params=answ[0]\n",
    "bestscore=answ[1]\n",
    "print(params,bestscore)\n",
    "\"\"\""
   ]
  },
  {
   "cell_type": "code",
   "execution_count": null,
   "metadata": {},
   "outputs": [],
   "source": [
    "#beta1,beta2, gamma1, gamma2, beta1int, beta2int, gamma1int, gamma2int = params\n",
    "beta1,beta2, gamma1, gamma2, beta1int, beta2int, gamma1int, gamma2int= study.best_params.values()"
   ]
  },
  {
   "cell_type": "code",
   "execution_count": null,
   "metadata": {},
   "outputs": [],
   "source": [
    "flu_menParams[year] = [beta1,beta2, gamma1, gamma2, beta1int, beta2int, gamma1int, gamma2int]\n",
    "pkl.dump(flu_menParams, open(dataDir + 'pkls/flu_menSIIRParams.pkl','wb'))"
   ]
  },
  {
   "cell_type": "markdown",
   "metadata": {},
   "source": [
    "# Evaluation "
   ]
  },
  {
   "cell_type": "code",
   "execution_count": null,
   "metadata": {},
   "outputs": [],
   "source": [
    "# Defining SIR isolated equations\n",
    "def SIR_eqs(SIR0,t, beta, gamma):\n",
    "    S0=SIR0[0]\n",
    "    I0=SIR0[1]\n",
    "    R0=SIR0[2]\n",
    "\n",
    "    S = - beta * S0 * I0/ausPop[year]\n",
    "    I = (beta * S0 * I0/ausPop[year]) - gamma * I0\n",
    "    R = gamma * I0\n",
    "\n",
    "    return (S,I,R)\n",
    "\n",
    "# Fitting function from infected data and I state on SIR model\n",
    "def fitSIR(t, beta, gamma):\n",
    "    return spi.odeint(SIR_eqs,SIR0,t_range,args=(beta,gamma))[:,1] "
   ]
  },
  {
   "cell_type": "markdown",
   "metadata": {},
   "source": [
    "## Influenza (isolated)"
   ]
  },
  {
   "cell_type": "code",
   "execution_count": null,
   "metadata": {},
   "outputs": [],
   "source": [
    "# Timestamp parameters\n",
    "t_start = 0.0; t_end = n_months.months; t_inc = 0.01\n",
    "t_eval = np.arange(t_start, t_end+t_inc, t_inc)\n",
    "\n",
    "# Initial conditions\n",
    "S0 = (ausPop[year] - fluSeries[startdate])\n",
    "I0 = (fluSeries[startdate])\n",
    "R0 = 0\n",
    "\n",
    "SIR0 = [S0,I0,R0]"
   ]
  },
  {
   "cell_type": "code",
   "execution_count": null,
   "metadata": {},
   "outputs": [],
   "source": [
    "def fluSIRSim(beta,gamma):    \n",
    "    return spi.odeint(SIR_eqs,SIR0,t_eval,args=(beta,gamma))"
   ]
  },
  {
   "cell_type": "code",
   "execution_count": null,
   "metadata": {},
   "outputs": [],
   "source": [
    "betaFlu = fluParams[year][0]\n",
    "gammaFlu = fluParams[year][1]\n",
    "SIRflu = fluSIRSim(betaFlu,gammaFlu)\n",
    "Sflu = SIRflu[:,0]\n",
    "Iflu = SIRflu[:,1]\n",
    "Rflu = SIRflu[:,2]"
   ]
  },
  {
   "cell_type": "code",
   "execution_count": null,
   "metadata": {},
   "outputs": [],
   "source": [
    "plt.plot(t_range[:n_months.months+1], fluSeries[startdate:enddate].values,'ok',label=\"Original data\")\n",
    "plt.plot(t_eval,Iflu,'-r',label=\"Infected fit\")\n",
    "plt.show()\n",
    "plt.close()"
   ]
  },
  {
   "cell_type": "markdown",
   "metadata": {},
   "source": [
    "## Meningococcal (isolated)"
   ]
  },
  {
   "cell_type": "code",
   "execution_count": null,
   "metadata": {},
   "outputs": [],
   "source": [
    "# Timestamp parameters\n",
    "t_start = 0.0; t_end = n_months.months; t_inc = 0.01\n",
    "t_eval = np.arange(t_start, t_end+t_inc, t_inc)\n",
    "\n",
    "# Initial conditions\n",
    "S0 = (ausPop[year] - menSeries[startdate])\n",
    "I0 = (menSeries[startdate])\n",
    "R0 = 0\n",
    "\n",
    "SIR0 = [S0,I0,R0]"
   ]
  },
  {
   "cell_type": "code",
   "execution_count": null,
   "metadata": {},
   "outputs": [],
   "source": [
    "def menSIRSim(beta,gamma):    \n",
    "    return spi.odeint(SIR_eqs,SIR0,t_eval,args=(beta,gamma))"
   ]
  },
  {
   "cell_type": "code",
   "execution_count": null,
   "metadata": {},
   "outputs": [],
   "source": [
    "betaMen = menParams[year][0]\n",
    "gammaMen = menParams[year][1]\n",
    "\n",
    "SIRmen = menSIRSim(betaMen,gammaMen)\n",
    "Smen = SIRmen[:,0]\n",
    "Imen = SIRmen[:,1]\n",
    "Rmen = SIRmen[:,2]"
   ]
  },
  {
   "cell_type": "code",
   "execution_count": null,
   "metadata": {},
   "outputs": [],
   "source": [
    "\n",
    "plt.plot(t_range[:n_months.months+1], menSeries[startdate:enddate].values,'ok',label=\"Original data\")\n",
    "plt.plot(t_eval,Imen,'-r',label=\"Infected fit\")\n",
    "plt.text(15, 60, r'$\\gamma = $' + str(gammaMen))\n",
    "plt.text(15, 64, r'$\\beta = $' + str(betaMen))\n",
    "plt.show()\n",
    "plt.close()"
   ]
  },
  {
   "cell_type": "markdown",
   "metadata": {},
   "source": [
    "## Influenza / Meningococcal (interactive)"
   ]
  },
  {
   "cell_type": "code",
   "execution_count": null,
   "metadata": {},
   "outputs": [],
   "source": [
    "# Timestamp parameters\n",
    "t_start = 0.0; t_end = n_months.months; t_inc = 0.01\n",
    "t_eval = np.arange(t_start, t_end+t_inc, t_inc)\n",
    "\n",
    "# Initial conditions\n",
    "SIIR0 = np.zeros(9)\n",
    "SIIR0[1] = (fluSeries[startdate])\n",
    "SIIR0[2] = (menSeries[startdate])\n",
    "SIIR0[0] = ausPop[year] - np.sum(SIIR0[1:8])"
   ]
  },
  {
   "cell_type": "code",
   "execution_count": null,
   "metadata": {},
   "outputs": [],
   "source": [
    "def menfluSIIRSim(beta1,beta2,gamma1, gamma2, beta1int, beta2int, gamma1int, gamma2int):    \n",
    "    return spi.odeint(SIIR_eqs,SIIR0,t_eval,args=(beta1,beta2, gamma1, gamma2, beta1int, beta2int, gamma1int, gamma2int)) "
   ]
  },
  {
   "cell_type": "code",
   "execution_count": null,
   "metadata": {},
   "outputs": [],
   "source": [
    "SIIR = menfluSIIRSim(beta1,beta2,gamma1, gamma2, beta1int, beta2int, gamma1int, gamma2int)\n",
    "I1 = SIIR[:,1] + SIIR[:,3] + SIIR[:,7] \n",
    "I2 = SIIR[:,2] + SIIR[:,3] + SIIR[:,6]\n",
    " "
   ]
  },
  {
   "cell_type": "code",
   "execution_count": null,
   "metadata": {},
   "outputs": [],
   "source": [
    "# Influenza\n",
    "\n",
    "plt.plot(t_range[:n_months.months+1], fluSeries[startdate:enddate].values,'ok',label=\"Original data\")\n",
    "plt.plot(t_eval,Iflu,'-r',label=\"Isolated infected fit\")\n",
    "plt.plot(t_eval,I1,'-b',label=\"Interactive infected fit\")\n",
    "plt.legend()\n",
    "plt.title(\"Influenza Year: \" + str(year))\n",
    "plt.savefig(imageDir + \"flu_menInteractive/fluInteractive_\" + str(year) + \".png\" )\n",
    "plt.show()\n",
    "plt.close()"
   ]
  },
  {
   "cell_type": "code",
   "execution_count": null,
   "metadata": {},
   "outputs": [],
   "source": [
    "# Meningococcal\n",
    "plt.plot(t_range[:n_months.months+1], menSeries[startdate:enddate].values,'ok',label=\"Original data\")\n",
    "plt.plot(t_eval,Imen,'-r',label=\"Isolated infected fit\")\n",
    "plt.plot(t_eval,I2,'-b',label=\"Interactive infected fit\")\n",
    "plt.legend()\n",
    "plt.title(\"Meningococcal Year: \" + str(year))\n",
    "plt.savefig(imageDir + \"flu_menInteractive/menInteractive_\" + str(year) + \".png\" )\n",
    "plt.show()\n",
    "plt.close()"
   ]
  },
  {
   "cell_type": "code",
   "execution_count": null,
   "metadata": {},
   "outputs": [],
   "source": [
    "params = (beta1,beta2,gamma1,gamma2,beta1int,beta2int,gamma1int, gamma2int)\n",
    "print(params)\n",
    "print(betaFlu,betaMen,gammaFlu,gammaMen)"
   ]
  }
 ],
 "metadata": {
  "kernelspec": {
   "name": "python3",
   "display_name": "Python 3.7.7 64-bit ('SIR_InfMen': conda)",
   "metadata": {
    "interpreter": {
     "hash": "e9eeafb5e5b2fa27904333bc0c1260deac909203c74e8cb4d5ee36514554bed8"
    }
   }
  },
  "language_info": {
   "codemirror_mode": {
    "name": "ipython",
    "version": 3
   },
   "file_extension": ".py",
   "mimetype": "text/x-python",
   "name": "python",
   "nbconvert_exporter": "python",
   "pygments_lexer": "ipython3",
   "version": "3.7.7"
  }
 },
 "nbformat": 4,
 "nbformat_minor": 4
}