{
 "cells": [
  {
   "cell_type": "code",
   "execution_count": 4,
   "metadata": {},
   "outputs": [],
   "source": [
    "import pandas as pd\n",
    "import matplotlib.pyplot as plt\n",
    "import scipy.integrate as spi\n",
    "from scipy.optimize import curve_fit,minimize,fmin\n",
    "import numpy as np\n",
    "import matplotlib \n",
    "import pickle as pkl  \n",
    "np.set_printoptions(suppress=True)\n",
    "plt.rc('text', usetex=True)\n",
    "\n",
    "dataDir = \"/home/polivares/Dropbox/DocUSM/Researches/InfluenzaMeningococcal/Data/\"\n",
    "imageDir = \"/home/polivares/Dropbox/DocUSM/Researches/InfluenzaMeningococcal/Scripts/images/\""
   ]
  },
  {
   "cell_type": "code",
   "execution_count": 5,
   "metadata": {},
   "outputs": [],
   "source": [
    "# Loading data\n",
    "menSeries = pd.read_pickle(dataDir + \"pkls/menSeries.pkl\")\n",
    "fluSeries = pd.read_pickle(dataDir + \"pkls/fluSeries.pkl\")\n",
    "ausPop = pd.read_pickle(dataDir + \"pkls/ausPop.pkl\")"
   ]
  },
  {
   "cell_type": "code",
   "execution_count": 8,
   "metadata": {},
   "outputs": [
    {
     "output_type": "error",
     "ename": "RecursionError",
     "evalue": "maximum recursion depth exceeded while calling a Python object",
     "traceback": [
      "\u001b[0;31m---------------------------------------------------------------------------\u001b[0m",
      "\u001b[0;31mRecursionError\u001b[0m                            Traceback (most recent call last)",
      "\u001b[0;32m<ipython-input-8-e0c76f3dbcdd>\u001b[0m in \u001b[0;36m<module>\u001b[0;34m\u001b[0m\n\u001b[0;32m----> 1\u001b[0;31m \u001b[0mprint\u001b[0m\u001b[0;34m(\u001b[0m\u001b[0mfluSeries\u001b[0m\u001b[0;34m)\u001b[0m\u001b[0;34m\u001b[0m\u001b[0;34m\u001b[0m\u001b[0m\n\u001b[0m",
      "\u001b[0;32m~/anaconda3/lib/python3.7/site-packages/pandas/core/base.py\u001b[0m in \u001b[0;36m__str__\u001b[0;34m(self)\u001b[0m\n\u001b[1;32m     55\u001b[0m \u001b[0;34m\u001b[0m\u001b[0m\n\u001b[1;32m     56\u001b[0m         \u001b[0;32mif\u001b[0m \u001b[0mcompat\u001b[0m\u001b[0;34m.\u001b[0m\u001b[0mPY3\u001b[0m\u001b[0;34m:\u001b[0m\u001b[0;34m\u001b[0m\u001b[0;34m\u001b[0m\u001b[0m\n\u001b[0;32m---> 57\u001b[0;31m             \u001b[0;32mreturn\u001b[0m \u001b[0mself\u001b[0m\u001b[0;34m.\u001b[0m\u001b[0m__unicode__\u001b[0m\u001b[0;34m(\u001b[0m\u001b[0;34m)\u001b[0m\u001b[0;34m\u001b[0m\u001b[0;34m\u001b[0m\u001b[0m\n\u001b[0m\u001b[1;32m     58\u001b[0m         \u001b[0;32mreturn\u001b[0m \u001b[0mself\u001b[0m\u001b[0;34m.\u001b[0m\u001b[0m__bytes__\u001b[0m\u001b[0;34m(\u001b[0m\u001b[0;34m)\u001b[0m\u001b[0;34m\u001b[0m\u001b[0;34m\u001b[0m\u001b[0m\n\u001b[1;32m     59\u001b[0m \u001b[0;34m\u001b[0m\u001b[0m\n",
      "\u001b[0;32m~/anaconda3/lib/python3.7/site-packages/pandas/core/series.py\u001b[0m in \u001b[0;36m__unicode__\u001b[0;34m(self)\u001b[0m\n\u001b[1;32m   1380\u001b[0m         \u001b[0mshow_dimensions\u001b[0m \u001b[0;34m=\u001b[0m \u001b[0mget_option\u001b[0m\u001b[0;34m(\u001b[0m\u001b[0;34m\"display.show_dimensions\"\u001b[0m\u001b[0;34m)\u001b[0m\u001b[0;34m\u001b[0m\u001b[0;34m\u001b[0m\u001b[0m\n\u001b[1;32m   1381\u001b[0m \u001b[0;34m\u001b[0m\u001b[0m\n\u001b[0;32m-> 1382\u001b[0;31m         self.to_string(buf=buf, name=self.name, dtype=self.dtype,\n\u001b[0m\u001b[1;32m   1383\u001b[0m                        max_rows=max_rows, length=show_dimensions)\n\u001b[1;32m   1384\u001b[0m         \u001b[0mresult\u001b[0m \u001b[0;34m=\u001b[0m \u001b[0mbuf\u001b[0m\u001b[0;34m.\u001b[0m\u001b[0mgetvalue\u001b[0m\u001b[0;34m(\u001b[0m\u001b[0;34m)\u001b[0m\u001b[0;34m\u001b[0m\u001b[0;34m\u001b[0m\u001b[0m\n",
      "\u001b[0;32m~/anaconda3/lib/python3.7/site-packages/pandas/core/generic.py\u001b[0m in \u001b[0;36m__getattr__\u001b[0;34m(self, name)\u001b[0m\n\u001b[1;32m   5063\u001b[0m             \u001b[0;32mreturn\u001b[0m \u001b[0mobject\u001b[0m\u001b[0;34m.\u001b[0m\u001b[0m__getattribute__\u001b[0m\u001b[0;34m(\u001b[0m\u001b[0mself\u001b[0m\u001b[0;34m,\u001b[0m \u001b[0mname\u001b[0m\u001b[0;34m)\u001b[0m\u001b[0;34m\u001b[0m\u001b[0;34m\u001b[0m\u001b[0m\n\u001b[1;32m   5064\u001b[0m         \u001b[0;32melse\u001b[0m\u001b[0;34m:\u001b[0m\u001b[0;34m\u001b[0m\u001b[0;34m\u001b[0m\u001b[0m\n\u001b[0;32m-> 5065\u001b[0;31m             \u001b[0;32mif\u001b[0m \u001b[0mself\u001b[0m\u001b[0;34m.\u001b[0m\u001b[0m_info_axis\u001b[0m\u001b[0;34m.\u001b[0m\u001b[0m_can_hold_identifiers_and_holds_name\u001b[0m\u001b[0;34m(\u001b[0m\u001b[0mname\u001b[0m\u001b[0;34m)\u001b[0m\u001b[0;34m:\u001b[0m\u001b[0;34m\u001b[0m\u001b[0;34m\u001b[0m\u001b[0m\n\u001b[0m\u001b[1;32m   5066\u001b[0m                 \u001b[0;32mreturn\u001b[0m \u001b[0mself\u001b[0m\u001b[0;34m[\u001b[0m\u001b[0mname\u001b[0m\u001b[0;34m]\u001b[0m\u001b[0;34m\u001b[0m\u001b[0;34m\u001b[0m\u001b[0m\n\u001b[1;32m   5067\u001b[0m             \u001b[0;32mreturn\u001b[0m \u001b[0mobject\u001b[0m\u001b[0;34m.\u001b[0m\u001b[0m__getattribute__\u001b[0m\u001b[0;34m(\u001b[0m\u001b[0mself\u001b[0m\u001b[0;34m,\u001b[0m \u001b[0mname\u001b[0m\u001b[0;34m)\u001b[0m\u001b[0;34m\u001b[0m\u001b[0;34m\u001b[0m\u001b[0m\n",
      "\u001b[0;32m~/anaconda3/lib/python3.7/site-packages/pandas/core/generic.py\u001b[0m in \u001b[0;36m__getattr__\u001b[0;34m(self, name)\u001b[0m\n\u001b[1;32m   5063\u001b[0m             \u001b[0;32mreturn\u001b[0m \u001b[0mobject\u001b[0m\u001b[0;34m.\u001b[0m\u001b[0m__getattribute__\u001b[0m\u001b[0;34m(\u001b[0m\u001b[0mself\u001b[0m\u001b[0;34m,\u001b[0m \u001b[0mname\u001b[0m\u001b[0;34m)\u001b[0m\u001b[0;34m\u001b[0m\u001b[0;34m\u001b[0m\u001b[0m\n\u001b[1;32m   5064\u001b[0m         \u001b[0;32melse\u001b[0m\u001b[0;34m:\u001b[0m\u001b[0;34m\u001b[0m\u001b[0;34m\u001b[0m\u001b[0m\n\u001b[0;32m-> 5065\u001b[0;31m             \u001b[0;32mif\u001b[0m \u001b[0mself\u001b[0m\u001b[0;34m.\u001b[0m\u001b[0m_info_axis\u001b[0m\u001b[0;34m.\u001b[0m\u001b[0m_can_hold_identifiers_and_holds_name\u001b[0m\u001b[0;34m(\u001b[0m\u001b[0mname\u001b[0m\u001b[0;34m)\u001b[0m\u001b[0;34m:\u001b[0m\u001b[0;34m\u001b[0m\u001b[0;34m\u001b[0m\u001b[0m\n\u001b[0m\u001b[1;32m   5066\u001b[0m                 \u001b[0;32mreturn\u001b[0m \u001b[0mself\u001b[0m\u001b[0;34m[\u001b[0m\u001b[0mname\u001b[0m\u001b[0;34m]\u001b[0m\u001b[0;34m\u001b[0m\u001b[0;34m\u001b[0m\u001b[0m\n\u001b[1;32m   5067\u001b[0m             \u001b[0;32mreturn\u001b[0m \u001b[0mobject\u001b[0m\u001b[0;34m.\u001b[0m\u001b[0m__getattribute__\u001b[0m\u001b[0;34m(\u001b[0m\u001b[0mself\u001b[0m\u001b[0;34m,\u001b[0m \u001b[0mname\u001b[0m\u001b[0;34m)\u001b[0m\u001b[0;34m\u001b[0m\u001b[0;34m\u001b[0m\u001b[0m\n",
      "... last 2 frames repeated, from the frame below ...\n",
      "\u001b[0;32m~/anaconda3/lib/python3.7/site-packages/pandas/core/generic.py\u001b[0m in \u001b[0;36m__getattr__\u001b[0;34m(self, name)\u001b[0m\n\u001b[1;32m   5063\u001b[0m             \u001b[0;32mreturn\u001b[0m \u001b[0mobject\u001b[0m\u001b[0;34m.\u001b[0m\u001b[0m__getattribute__\u001b[0m\u001b[0;34m(\u001b[0m\u001b[0mself\u001b[0m\u001b[0;34m,\u001b[0m \u001b[0mname\u001b[0m\u001b[0;34m)\u001b[0m\u001b[0;34m\u001b[0m\u001b[0;34m\u001b[0m\u001b[0m\n\u001b[1;32m   5064\u001b[0m         \u001b[0;32melse\u001b[0m\u001b[0;34m:\u001b[0m\u001b[0;34m\u001b[0m\u001b[0;34m\u001b[0m\u001b[0m\n\u001b[0;32m-> 5065\u001b[0;31m             \u001b[0;32mif\u001b[0m \u001b[0mself\u001b[0m\u001b[0;34m.\u001b[0m\u001b[0m_info_axis\u001b[0m\u001b[0;34m.\u001b[0m\u001b[0m_can_hold_identifiers_and_holds_name\u001b[0m\u001b[0;34m(\u001b[0m\u001b[0mname\u001b[0m\u001b[0;34m)\u001b[0m\u001b[0;34m:\u001b[0m\u001b[0;34m\u001b[0m\u001b[0;34m\u001b[0m\u001b[0m\n\u001b[0m\u001b[1;32m   5066\u001b[0m                 \u001b[0;32mreturn\u001b[0m \u001b[0mself\u001b[0m\u001b[0;34m[\u001b[0m\u001b[0mname\u001b[0m\u001b[0;34m]\u001b[0m\u001b[0;34m\u001b[0m\u001b[0;34m\u001b[0m\u001b[0m\n\u001b[1;32m   5067\u001b[0m             \u001b[0;32mreturn\u001b[0m \u001b[0mobject\u001b[0m\u001b[0;34m.\u001b[0m\u001b[0m__getattribute__\u001b[0m\u001b[0;34m(\u001b[0m\u001b[0mself\u001b[0m\u001b[0;34m,\u001b[0m \u001b[0mname\u001b[0m\u001b[0;34m)\u001b[0m\u001b[0;34m\u001b[0m\u001b[0;34m\u001b[0m\u001b[0m\n",
      "\u001b[0;31mRecursionError\u001b[0m: maximum recursion depth exceeded while calling a Python object"
     ]
    }
   ],
   "source": [
    "fluSeries"
   ]
  },
  {
   "cell_type": "code",
   "execution_count": null,
   "metadata": {},
   "outputs": [],
   "source": [
    "import os\n",
    "if os.path.isfile(dataDir + \"flu_menSIIRParams.pkl\"):\n",
    "    flu_menParams = pkl.load(open(dataDir + \"flu_menSIIRParams.pkl\", \"rb\"))\n",
    "else:\n",
    "    flu_menParams = {}\n",
    "    \n",
    "menParams = pkl.load(open(dataDir + \"pkls/menSIRParams.pkl\", \"rb\"))\n",
    "fluParams = pkl.load(open(dataDir + \"pkls/fluSIRParams.pkl\", \"rb\"))"
   ]
  },
  {
   "cell_type": "code",
   "execution_count": null,
   "metadata": {},
   "outputs": [],
   "source": [
    "print(menParams)\n",
    "print(fluParams)"
   ]
  },
  {
   "cell_type": "code",
   "execution_count": null,
   "metadata": {},
   "outputs": [],
   "source": [
    "# Evaluation time\n",
    "from datetime import datetime # Library for datetime format\n",
    "from dateutil import relativedelta # Library to calculate delta time from date\n",
    "\n",
    "year = 2017\n",
    "startdate = str(year) + '-01'\n",
    "enddate = str(year) + '-12'\n",
    "\n",
    "\n",
    "date_format = \"%Y-%m\"\n",
    "sd = datetime.strptime(startdate, date_format)\n",
    "ed = datetime.strptime(enddate, date_format)\n",
    "\n",
    "n_months = relativedelta.relativedelta(ed, sd) # Number of months (delta time)\n",
    "print(n_months)"
   ]
  },
  {
   "cell_type": "code",
   "execution_count": null,
   "metadata": {},
   "outputs": [],
   "source": [
    "# Timestamp parameters\n",
    "t_start = 0.0; t_end = n_months.months; t_inc = 1\n",
    "t_range = np.arange(t_start, t_end+t_inc, t_inc)\n"
   ]
  },
  {
   "cell_type": "code",
   "execution_count": null,
   "metadata": {},
   "outputs": [],
   "source": [
    "# Initial conditions\n",
    "SIIR0 = np.zeros(9)\n",
    "SIIR0[1] = (fluSeries[startdate])\n",
    "SIIR0[2] = (menSeries[startdate])\n",
    "SIIR0[0] = ausPop[year] - np.sum(SIIR0[1:8])\n",
    "\n",
    "fluMenSeries = np.concatenate((fluSeries[startdate:enddate].values,menSeries[startdate:enddate].values))"
   ]
  },
  {
   "cell_type": "code",
   "execution_count": null,
   "metadata": {},
   "outputs": [],
   "source": [
    "# Defining SIIR isolated equations\n",
    "def SIIR_eqs(SIIR0,t,beta1,beta2, delta1, delta2, beta1prime, beta2prime, delta1prime, delta2prime):\n",
    "    #beta1, beta2, delta1, delta2, beta1prime, beta2prime, delta1prime, delta2prime = params\n",
    "    SSi, ISi, SIi, IIi, RSi, SRi, RIi, IRi, RRi = SIIR0\n",
    "    \n",
    "    N = np.sum(SIIR0)\n",
    "    \n",
    "    SS = -SSi * beta1 * (ISi + IIi + IRi) / N - SSi * beta2 * (SIi + IIi + RIi) / N\n",
    "    SI = beta2*SSi*(SIi + IIi + RIi)/N - beta1prime*SIi*(ISi + IIi + IRi)/N - delta2*SIi \n",
    "    SR = delta2 * SIi - SRi * beta1 * (ISi + IIi + IRi)/N\n",
    "    IS = SSi * beta1 * (ISi + IIi + IRi) / N - delta1 * ISi - ISi * beta2prime * (SIi + IIi + RIi) / N\n",
    "    II = ISi * beta2prime * (SIi + IIi + RIi) / N + SIi * beta1prime * (ISi + IIi + IRi) / N - delta1prime * IIi - delta2prime * IIi\n",
    "    IR = SRi * beta1 * (ISi + IIi + IRi) / N + delta2prime * IIi - delta1 * IRi\n",
    "    RS = delta1 * ISi - RSi * beta2 * (SIi + IIi + RIi) / N\n",
    "    RI = RSi * beta2 * (SIi + IIi + RIi) / N + delta1prime * IIi - delta2 * RIi\n",
    "    RR = delta1 * IRi + delta2 * RIi\n",
    "\n",
    "    return SS, IS, SI, II, RS, SR, RI, IR, RR\n",
    "\n",
    "# Fitting function from infected data and I state on SIR model\n",
    "def fitSIIR(t, beta1,beta2, gamma1, gamma2, beta1int, beta2int, gamma1int, gamma2int):\n",
    "    sir_res = spi.odeint(SIIR_eqs,SIIR0,t,args=(beta1,beta2, gamma1, gamma2, beta1int, beta2int, gamma1int, gamma2int)) \n",
    "    I1 = sir_res[:,1] + sir_res[:,3] + sir_res[:,7] \n",
    "    I2 = sir_res[:,2] + sir_res[:,3] + sir_res[:,6]\n",
    "    return I1,I2\n",
    "\n",
    "def fitErrorSIIR(params):\n",
    "    beta1,beta2, gamma1, gamma2, beta1int, beta2int, gamma1int, gamma2int = params\n",
    "    def normMSE(data,model):\n",
    "        n = len(data)\n",
    "        mse = ((data-model)**2).sum()\n",
    "        nmse = mse/(n*(data.sum()/n)*(model.sum()/n))\n",
    "        \n",
    "        return nmse\n",
    "    params_np = np.array(params)\n",
    "    k = 1 # penalization\n",
    "    if np.any(params_np<0):\n",
    "        k = 1000000\n",
    "    I1,I2 = fitSIIR(t_range, beta1,beta2, gamma1, gamma2, beta1int, beta2int, gamma1int, gamma2int)\n",
    "    sim = [normMSE(fluSeries[startdate:enddate],I1),normMSE(menSeries[startdate:enddate],I2)]\n",
    "    \n",
    "    return k * np.linalg.norm(sim)"
   ]
  },
  {
   "cell_type": "code",
   "execution_count": null,
   "metadata": {},
   "outputs": [],
   "source": [
    "p0=[fluParams[year][0],menParams[year][0],fluParams[year][1],menParams[year][1],\n",
    "    fluParams[year][0],menParams[year][0],fluParams[year][1],menParams[year][1]]\n",
    "\n",
    "#COBYLA\n",
    "#params = minimize(fitErrorSIIR,p0,options={'maxiter':10000},\n",
    "#        bounds=((0,None),(0,None),(0,None),(0,None),\n",
    "#               (0,None),(0,None),(0,None),(0,None)))\n",
    "\n",
    "answ=fmin(fitErrorSIIR,p0,full_output=1,maxiter=10000)\n",
    "params=answ[0]\n",
    "bestscore=answ[1]\n",
    "print(params,bestscore)"
   ]
  },
  {
   "cell_type": "code",
   "execution_count": null,
   "metadata": {},
   "outputs": [],
   "source": [
    "beta1,beta2, gamma1, gamma2, beta1int, beta2int, gamma1int, gamma2int = params"
   ]
  },
  {
   "cell_type": "code",
   "execution_count": null,
   "metadata": {},
   "outputs": [],
   "source": [
    "flu_menParams[year] = [beta1,beta2, gamma1, gamma2, beta1int, beta2int, gamma1int, gamma2int, bestscore]\n",
    "pkl.dump(flu_menParams, open(dataDir + 'pkls/flu_menSIIRParams.pkl','wb'))"
   ]
  },
  {
   "cell_type": "markdown",
   "metadata": {},
   "source": [
    "# Evaluation "
   ]
  },
  {
   "cell_type": "code",
   "execution_count": null,
   "metadata": {},
   "outputs": [],
   "source": [
    "# Defining SIR isolated equations\n",
    "def SIR_eqs(SIR0,t, beta, gamma):\n",
    "    S0=SIR0[0]\n",
    "    I0=SIR0[1]\n",
    "    R0=SIR0[2]\n",
    "\n",
    "    S = - beta * S0 * I0/ausPop[year]\n",
    "    I = (beta * S0 * I0/ausPop[year]) - gamma * I0\n",
    "    R = gamma * I0\n",
    "\n",
    "    return (S,I,R)\n",
    "\n",
    "# Fitting function from infected data and I state on SIR model\n",
    "def fitSIR(t, beta, gamma):\n",
    "    return spi.odeint(SIR_eqs,SIR0,t_range,args=(beta,gamma))[:,1] "
   ]
  },
  {
   "cell_type": "markdown",
   "metadata": {},
   "source": [
    "## Influenza (isolated)"
   ]
  },
  {
   "cell_type": "code",
   "execution_count": null,
   "metadata": {},
   "outputs": [],
   "source": [
    "# Timestamp parameters\n",
    "t_start = 0.0; t_end = n_months.months; t_inc = 0.01\n",
    "t_eval = np.arange(t_start, t_end+t_inc, t_inc)\n",
    "\n",
    "# Initial conditions\n",
    "S0 = (ausPop[year] - fluSeries[startdate])\n",
    "I0 = (fluSeries[startdate])\n",
    "R0 = 0\n",
    "\n",
    "SIR0 = [S0,I0,R0]"
   ]
  },
  {
   "cell_type": "code",
   "execution_count": null,
   "metadata": {},
   "outputs": [],
   "source": [
    "def fluSIRSim(beta,gamma):    \n",
    "    return spi.odeint(SIR_eqs,SIR0,t_eval,args=(beta,gamma))"
   ]
  },
  {
   "cell_type": "code",
   "execution_count": null,
   "metadata": {},
   "outputs": [],
   "source": [
    "betaFlu = fluParams[year][0]\n",
    "gammaFlu = fluParams[year][1]\n",
    "SIRflu = fluSIRSim(betaFlu,gammaFlu)\n",
    "Sflu = SIRflu[:,0]\n",
    "Iflu = SIRflu[:,1]\n",
    "Rflu = SIRflu[:,2]"
   ]
  },
  {
   "cell_type": "code",
   "execution_count": null,
   "metadata": {},
   "outputs": [],
   "source": [
    "%matplotlib\n",
    "\n",
    "plt.plot(t_range[:n_months.months+1], fluSeries[startdate:enddate].values,'ok',label=\"Original data\")\n",
    "plt.plot(t_eval,Iflu,'-r',label=\"Infected fit\")\n",
    "plt.show()\n",
    "plt.close()"
   ]
  },
  {
   "cell_type": "markdown",
   "metadata": {},
   "source": [
    "## Meningococcal (isolated)"
   ]
  },
  {
   "cell_type": "code",
   "execution_count": null,
   "metadata": {},
   "outputs": [],
   "source": [
    "# Timestamp parameters\n",
    "t_start = 0.0; t_end = n_months.months; t_inc = 0.01\n",
    "t_eval = np.arange(t_start, t_end+t_inc, t_inc)\n",
    "\n",
    "# Initial conditions\n",
    "S0 = (ausPop[year] - menSeries[startdate])\n",
    "I0 = (menSeries[startdate])\n",
    "R0 = 0\n",
    "\n",
    "SIR0 = [S0,I0,R0]"
   ]
  },
  {
   "cell_type": "code",
   "execution_count": null,
   "metadata": {},
   "outputs": [],
   "source": [
    "def menSIRSim(beta,gamma):    \n",
    "    return spi.odeint(SIR_eqs,SIR0,t_eval,args=(beta,gamma))"
   ]
  },
  {
   "cell_type": "code",
   "execution_count": null,
   "metadata": {},
   "outputs": [],
   "source": [
    "betaMen = menParams[year][0]\n",
    "gammaMen = menParams[year][1]\n",
    "\n",
    "SIRmen = menSIRSim(betaMen,gammaMen)\n",
    "Smen = SIRmen[:,0]\n",
    "Imen = SIRmen[:,1]\n",
    "Rmen = SIRmen[:,2]"
   ]
  },
  {
   "cell_type": "code",
   "execution_count": null,
   "metadata": {},
   "outputs": [],
   "source": [
    "%matplotlib\n",
    "\n",
    "plt.plot(t_range[:n_months.months+1], menSeries[startdate:enddate].values,'ok',label=\"Original data\")\n",
    "plt.plot(t_eval,Imen,'-r',label=\"Infected fit\")\n",
    "plt.text(15, 60, r'$\\gamma = $' + str(gammaMen))\n",
    "plt.text(15, 64, r'$\\beta = $' + str(betaMen))\n",
    "plt.show()\n",
    "plt.close()"
   ]
  },
  {
   "cell_type": "markdown",
   "metadata": {},
   "source": [
    "## Influenza / Meningococcal (interactive)"
   ]
  },
  {
   "cell_type": "code",
   "execution_count": null,
   "metadata": {},
   "outputs": [],
   "source": [
    "# Timestamp parameters\n",
    "t_start = 0.0; t_end = n_months.months; t_inc = 0.01\n",
    "t_eval = np.arange(t_start, t_end+t_inc, t_inc)\n",
    "\n",
    "# Initial conditions\n",
    "SIIR0 = np.zeros(9)\n",
    "SIIR0[1] = (fluSeries[startdate])\n",
    "SIIR0[2] = (menSeries[startdate])\n",
    "SIIR0[0] = ausPop[year] - np.sum(SIIR0[1:8])"
   ]
  },
  {
   "cell_type": "code",
   "execution_count": null,
   "metadata": {},
   "outputs": [],
   "source": [
    "def menfluSIIRSim(beta1,beta2,gamma1, gamma2, beta1int, beta2int, gamma1int, gamma2int):    \n",
    "    return spi.odeint(SIIR_eqs,SIIR0,t_eval,args=(beta1,beta2, gamma1, gamma2, beta1int, beta2int, gamma1int, gamma2int)) "
   ]
  },
  {
   "cell_type": "code",
   "execution_count": null,
   "metadata": {},
   "outputs": [],
   "source": [
    "SIIR = menfluSIIRSim(beta1,beta2,gamma1, gamma2, beta1int, beta2int, gamma1int, gamma2int)\n",
    "I1 = SIIR[:,1] + SIIR[:,3] + SIIR[:,7] \n",
    "I2 = SIIR[:,2] + SIIR[:,3] + SIIR[:,6]\n",
    " "
   ]
  },
  {
   "cell_type": "code",
   "execution_count": null,
   "metadata": {},
   "outputs": [],
   "source": [
    "# Influenza\n",
    "\n",
    "plt.plot(t_range[:n_months.months+1], fluSeries[startdate:enddate].values,'ok',label=\"Original data\")\n",
    "plt.plot(t_eval,Iflu,'-r',label=\"Isolated infected fit\")\n",
    "plt.plot(t_eval,I1,'-b',label=\"Interactive infected fit\")\n",
    "plt.legend()\n",
    "plt.title(\"Influenza Year: \" + str(year))\n",
    "plt.savefig(imageDir + \"flu_menInteractive/fluInteractive_\" + str(year) + \".png\" )\n",
    "plt.show()\n",
    "plt.close()"
   ]
  },
  {
   "cell_type": "code",
   "execution_count": null,
   "metadata": {},
   "outputs": [],
   "source": [
    "# Meningococcal\n",
    "plt.plot(t_range[:n_months.months+1], menSeries[startdate:enddate].values,'ok',label=\"Original data\")\n",
    "plt.plot(t_eval,Imen,'-r',label=\"Isolated infected fit\")\n",
    "plt.plot(t_eval,I2,'-b',label=\"Interactive infected fit\")\n",
    "plt.legend()\n",
    "plt.title(\"Meningococcal Year: \" + str(year))\n",
    "plt.savefig(imageDir + \"flu_menInteractive/menInteractive_\" + str(year) + \".png\" )\n",
    "plt.show()\n",
    "plt.close()"
   ]
  },
  {
   "cell_type": "code",
   "execution_count": null,
   "metadata": {},
   "outputs": [],
   "source": [
    "params = (beta1,beta2,gamma1,gamma2,beta1int,beta2int,gamma1int, gamma2int)\n",
    "print(params)\n",
    "print(betaFlu,betaMen,gammaFlu,gammaMen)"
   ]
  }
 ],
 "metadata": {
  "kernelspec": {
   "name": "python3",
   "display_name": "Python 3.7.7 64-bit ('SIR_InfMen': conda)",
   "metadata": {
    "interpreter": {
     "hash": "e9eeafb5e5b2fa27904333bc0c1260deac909203c74e8cb4d5ee36514554bed8"
    }
   }
  },
  "language_info": {
   "codemirror_mode": {
    "name": "ipython",
    "version": 3
   },
   "file_extension": ".py",
   "mimetype": "text/x-python",
   "name": "python",
   "nbconvert_exporter": "python",
   "pygments_lexer": "ipython3",
   "version": "3.7.7-final"
  }
 },
 "nbformat": 4,
 "nbformat_minor": 4
}